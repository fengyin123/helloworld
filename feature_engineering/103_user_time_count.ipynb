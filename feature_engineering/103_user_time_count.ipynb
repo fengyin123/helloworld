{
 "cells": [
  {
   "cell_type": "code",
   "execution_count": 1,
   "metadata": {},
   "outputs": [
    {
     "name": "stderr",
     "output_type": "stream",
     "text": [
      "100%|██████████| 5/5 [00:05<00:00,  1.04s/it]\n"
     ]
    },
    {
     "name": "stdout",
     "output_type": "stream",
     "text": [
      "Index(['instance_id', 'user_id_hour_search', 'user_id_day_search',\n",
      "       'user_gender_id_hour_search', 'user_gender_id_day_search',\n",
      "       'user_age_level_hour_search', 'user_age_level_day_search',\n",
      "       'user_occupation_id_hour_search', 'user_occupation_id_day_search',\n",
      "       'user_star_level_hour_search', 'user_star_level_day_search'],\n",
      "      dtype='object')\n",
      "the shape of train (478138, 11)\n"
     ]
    },
    {
     "name": "stderr",
     "output_type": "stream",
     "text": [
      "\r",
      "  0%|          | 0/3 [00:00<?, ?it/s]"
     ]
    },
    {
     "name": "stdout",
     "output_type": "stream",
     "text": [
      "Index(['instance_id', 'time_diff_last_query'], dtype='object')\n",
      "the shape of train (478138, 2)\n"
     ]
    },
    {
     "name": "stderr",
     "output_type": "stream",
     "text": [
      "100%|██████████| 3/3 [00:00<00:00,  3.29it/s]\n"
     ]
    },
    {
     "name": "stdout",
     "output_type": "stream",
     "text": [
      "Index(['instance_id', 'diff_maxtime_item_id', 'diff_mintime_item_id',\n",
      "       'diff_maxtime_shop_id', 'diff_mintime_shop_id',\n",
      "       'diff_maxtime_item_brand_id', 'diff_mintime_item_brand_id'],\n",
      "      dtype='object')\n",
      "the shape of train (478138, 7)\n"
     ]
    },
    {
     "name": "stderr",
     "output_type": "stream",
     "text": [
      "\r",
      "  0%|          | 0/5 [00:00<?, ?it/s]"
     ]
    },
    {
     "name": "stdout",
     "output_type": "stream",
     "text": [
      "Index(['instance_id', 'user_id_lastday_count', 'item_id_lastday_count',\n",
      "       'shop_id_lastday_count'],\n",
      "      dtype='object')\n",
      "the shape of train (478138, 4)\n"
     ]
    },
    {
     "name": "stderr",
     "output_type": "stream",
     "text": [
      "100%|██████████| 5/5 [00:00<00:00, 19.08it/s]\n",
      "100%|██████████| 3/3 [00:00<00:00, 79.49it/s]\n"
     ]
    },
    {
     "name": "stdout",
     "output_type": "stream",
     "text": [
      "Index(['instance_id', 'user_id_hour_search', 'user_id_day_search',\n",
      "       'user_gender_id_hour_search', 'user_gender_id_day_search',\n",
      "       'user_age_level_hour_search', 'user_age_level_day_search',\n",
      "       'user_occupation_id_hour_search', 'user_occupation_id_day_search',\n",
      "       'user_star_level_hour_search', 'user_star_level_day_search'],\n",
      "      dtype='object')\n",
      "the shape of test (18371, 11)\n",
      "Index(['instance_id', 'time_diff_last_query'], dtype='object')\n",
      "the shape of test (18371, 2)\n",
      "Index(['instance_id', 'diff_maxtime_item_id', 'diff_mintime_item_id',\n",
      "       'diff_maxtime_shop_id', 'diff_mintime_shop_id',\n",
      "       'diff_maxtime_item_brand_id', 'diff_mintime_item_brand_id'],\n",
      "      dtype='object')\n",
      "the shape of test (18371, 7)\n",
      "Index(['instance_id', 'user_id_lastday_count', 'item_id_lastday_count',\n",
      "       'shop_id_lastday_count'],\n",
      "      dtype='object')\n",
      "the shape of test (18371, 4)\n",
      "time elapsed 8.183473110198975\n"
     ]
    }
   ],
   "source": [
    "# %load 103_user_time_count.py\n",
    "# 计算出至今为止用户买的产品数\n",
    "from utils import BayesianSmoothing, load_pickle, dump_pickle, raw_data_path\n",
    "import gc\n",
    "import numpy as np\n",
    "import pandas as pd\n",
    "from tqdm import tqdm\n",
    "from collections import defaultdict\n",
    "import time\n",
    "\n",
    "df = load_pickle('../data/df.pkl')\n",
    "train = load_pickle('../data/train.pkl')\n",
    "test = load_pickle('../data/test.pkl')\n",
    "\n",
    "\n",
    "def user_time_count(df, mode):\n",
    "    # ========================= 当天搜索次数和当前小时搜索次数 =========================================\n",
    "    time_features = ['hour', 'day']\n",
    "    user_features = ['user_id', 'user_gender_id', 'user_age_level', 'user_occupation_id', 'user_star_level']\n",
    "\n",
    "    user_time_df = pd.DataFrame()\n",
    "    user_time_df['instance_id'] = df['instance_id']\n",
    "\n",
    "    for user_feature in tqdm(user_features):\n",
    "        for time_feature in time_features:\n",
    "            search_group = df.groupby([user_feature, time_feature]).count().reset_index()\n",
    "            tmp_df = df[[user_feature, time_feature]]\n",
    "            user_day_search = pd.merge(tmp_df, search_group, on=[user_feature, time_feature], how='left').iloc[:, -1]\n",
    "            user_time_df['{}_{}_search'.format(user_feature, time_feature)] = user_day_search\n",
    "    print(user_time_df.columns)\n",
    "    print('the shape of {} {}'.format(mode, user_time_df.shape))\n",
    "    dump_pickle(user_time_df, path=raw_data_path+'{}_feature/'.format(mode)+'103_user_time_count.pkl')\n",
    "\n",
    "\n",
    "    # ======================== 用户当前搜索距离上次的时间 ================================================\n",
    "    df_tmp = df[['instance_id', 'user_id',  'context_timestamp']].copy()\n",
    "    df_tmp.sort_values(['user_id', 'context_timestamp'], inplace=True)\n",
    "\n",
    "\n",
    "    df_tmp['t-1_context_timestamp'] = df_tmp.groupby('user_id')['context_timestamp'].shift(1)\n",
    "    df_tmp['time_diff_last_query'] = np.log1p(df_tmp['context_timestamp'] - df_tmp['t-1_context_timestamp'])\n",
    "\n",
    "    final_feat = df_tmp[['instance_id', 'time_diff_last_query']]\n",
    "    print(final_feat.columns)\n",
    "    print('the shape of {} {}'.format(mode, final_feat.shape))\n",
    "    dump_pickle(final_feat, path=raw_data_path+'{}_feature/'.format(mode)+'103_feature_last_query.pkl')\n",
    "\n",
    "\n",
    "    # ========================= 当日用户当前搜索距离上次的时间(商品，商店，商标) ==========================================\n",
    "    final_feat = pd.DataFrame()\n",
    "    final_feat['instance_id'] = df['instance_id']\n",
    "    cols = ['item_id', 'shop_id', 'item_brand_id']\n",
    "    for col in tqdm(cols):\n",
    "        df_select = df[['user_id', col,'day','context_timestamp']]\n",
    "        df_group =  df_select.groupby(['user_id', col,'day'])\n",
    "        group_max = df_group['context_timestamp'].transform('max')\n",
    "        group_min = df_group['context_timestamp'].transform('min')\n",
    "        final_feat['diff_maxtime_{}'.format(col)] = df['context_timestamp'].values - group_max\n",
    "        final_feat['diff_mintime_{}'.format(col)] = df['context_timestamp'].values -group_max\n",
    "    print(final_feat.columns)\n",
    "    print('the shape of {} {}'.format(mode, final_feat.shape))\n",
    "    dump_pickle(final_feat, path=raw_data_path + '{}_feature/'.format(mode) + '103_diff_max_min.pkl')\n",
    "\n",
    "\n",
    "    # ================================= 当前日期前一天的cnt ===========================================\n",
    "    count_features = ['user_id', 'item_id', 'shop_id']\n",
    "    final_feat = df[count_features+['instance_id', 'day']]\n",
    "    for col in count_features:\n",
    "        count_name = '{}_lastday_count'.format(col)\n",
    "        count_all = None\n",
    "        for d in range(18, 24):\n",
    "            col_cnt = df[df['day'] == d - 1].groupby(by=col)['instance_id'].count().reset_index()\n",
    "            col_cnt.columns = [col, count_name]\n",
    "            col_cnt['day'] = d\n",
    "            count_all = pd.concat([count_all, col_cnt], axis=0)\n",
    "        final_feat = pd.merge(final_feat, count_all, on=[col, 'day'], how='left')\n",
    "    final_feat = final_feat.drop(count_features+['day'], axis=1)\n",
    "    print(final_feat.columns)\n",
    "    print('the shape of {} {}'.format(mode, final_feat.shape))\n",
    "\n",
    "    dump_pickle(final_feat, path=raw_data_path + '{}_feature/'.format(mode) + '103_last_day_count.pkl')\n",
    "\n",
    "start = time.time()\n",
    "user_time_count(train, 'train')\n",
    "user_time_count(test, 'test')\n",
    "end = time.time()\n",
    "print('time elapsed {}'.format(end-start))"
   ]
  },
  {
   "cell_type": "code",
   "execution_count": null,
   "metadata": {
    "collapsed": true
   },
   "outputs": [],
   "source": []
  }
 ],
 "metadata": {
  "kernelspec": {
   "display_name": "Python 3",
   "language": "python",
   "name": "python3"
  },
  "language_info": {
   "codemirror_mode": {
    "name": "ipython",
    "version": 3
   },
   "file_extension": ".py",
   "mimetype": "text/x-python",
   "name": "python",
   "nbconvert_exporter": "python",
   "pygments_lexer": "ipython3",
   "version": "3.5.0"
  }
 },
 "nbformat": 4,
 "nbformat_minor": 2
}
