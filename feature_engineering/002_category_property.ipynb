{
 "cells": [
  {
   "cell_type": "code",
   "execution_count": 15,
   "metadata": {},
   "outputs": [
    {
     "name": "stdout",
     "output_type": "stream",
     "text": [
      "the shape of train (478087, 11)\n",
      "the shape of test (18371, 11)\n",
      "time elapsed 60.010128021240234\n"
     ]
    }
   ],
   "source": [
    "# %load 002_category_property.py\n",
    "import gc\n",
    "import numpy as np\n",
    "import pandas as pd\n",
    "from utils import BayesianSmoothing, load_pickle, dump_pickle, raw_data_path\n",
    "from tqdm import tqdm\n",
    "from collections import defaultdict\n",
    "from sklearn.feature_extraction.text import TfidfTransformer, CountVectorizer\n",
    "import time\n",
    "\n",
    "\n",
    "start = time.time()\n",
    "path = '../data/'\n",
    "train_file = 'round1_ijcai_18_train_20180301.txt'\n",
    "test_file = 'round1_ijcai_18_test_a_20180301.txt'\n",
    "\n",
    "train = pd.read_table(path + train_file, encoding='utf8', delim_whitespace=True)\n",
    "test = pd.read_table(path + test_file, encoding='utf8', delim_whitespace=True)\n",
    "train.drop_duplicates('instance_id', inplace=True)\n",
    "test.drop_duplicates('instance_id', inplace=True)\n",
    "\n",
    "len_train = train.shape[0]\n",
    "df = pd.concat([train, test], axis=0, ignore_index=True)\n",
    "\n",
    "\n",
    "corpus = df.item_property_list.values.astype('U').tolist()\n",
    "vectorizer = CountVectorizer()\n",
    "vectorizer.fit(corpus)\n",
    "countvector = vectorizer.transform(df.item_property_list)\n",
    "\n",
    "pror_count = np.array(countvector.sum(axis=0))[0]\n",
    "count = pd.Series(data=pror_count, index=np.arange(0, len(pror_count)))\n",
    "selected_index = list(count.sort_values(ascending=False)[:10].index)\n",
    "column_name = np.array(vectorizer.get_feature_names())[selected_index]\n",
    "column_value = countvector[:, selected_index]\n",
    "final_feat = pd.DataFrame(column_value.toarray(), columns=column_name)\n",
    "final_feat['instance_id'] = df['instance_id']\n",
    "\n",
    "train_feat = final_feat.iloc[:len(train), :]\n",
    "test_feat = final_feat.iloc[len(train):, :]\n",
    "\n",
    "print('the shape of train {}'.format(train_feat.shape))\n",
    "print('the shape of test {}'.format(test_feat.shape))\n",
    "dump_pickle(train_feat, path=raw_data_path + 'train_feature/' + '002_property_count.pkl')\n",
    "dump_pickle(test_feat, path=raw_data_path + 'test_feature/' + '002_property_count.pkl')\n",
    "\n",
    "end = time.time()\n",
    "print('time elapsed {}'.format(end-start))"
   ]
  },
  {
   "cell_type": "code",
   "execution_count": 6,
   "metadata": {},
   "outputs": [
    {
     "data": {
      "text/plain": [
       "array([30,  4,  6, ...,  1,  3,  1], dtype=int64)"
      ]
     },
     "execution_count": 6,
     "metadata": {},
     "output_type": "execute_result"
    }
   ],
   "source": [
    "pror_count"
   ]
  },
  {
   "cell_type": "code",
   "execution_count": 8,
   "metadata": {},
   "outputs": [
    {
     "data": {
      "text/plain": [
       "[12433, 31061, 61175, 41247, 1919, 27618, 7854, 47641, 5840, 14131]"
      ]
     },
     "execution_count": 8,
     "metadata": {},
     "output_type": "execute_result"
    }
   ],
   "source": [
    "selected_index"
   ]
  },
  {
   "cell_type": "code",
   "execution_count": 9,
   "metadata": {},
   "outputs": [
    {
     "data": {
      "text/plain": [
       "<496509x62368 sparse matrix of type '<class 'numpy.int64'>'\n",
       "\twith 16998124 stored elements in Compressed Sparse Row format>"
      ]
     },
     "execution_count": 9,
     "metadata": {},
     "output_type": "execute_result"
    }
   ],
   "source": [
    "countvector"
   ]
  },
  {
   "cell_type": "code",
   "execution_count": 10,
   "metadata": {},
   "outputs": [
    {
     "data": {
      "text/plain": [
       "<496509x10 sparse matrix of type '<class 'numpy.int64'>'\n",
       "\twith 2881149 stored elements in Compressed Sparse Row format>"
      ]
     },
     "execution_count": 10,
     "metadata": {},
     "output_type": "execute_result"
    }
   ],
   "source": [
    "column_value"
   ]
  },
  {
   "cell_type": "code",
   "execution_count": 11,
   "metadata": {},
   "outputs": [
    {
     "data": {
      "text/plain": [
       "(496509, 11)"
      ]
     },
     "execution_count": 11,
     "metadata": {},
     "output_type": "execute_result"
    }
   ],
   "source": [
    "final_feat.shape"
   ]
  },
  {
   "cell_type": "code",
   "execution_count": 12,
   "metadata": {},
   "outputs": [
    {
     "data": {
      "text/plain": [
       "(478138, 11)"
      ]
     },
     "execution_count": 12,
     "metadata": {},
     "output_type": "execute_result"
    }
   ],
   "source": [
    "train_feat.shape"
   ]
  },
  {
   "cell_type": "code",
   "execution_count": 13,
   "metadata": {},
   "outputs": [
    {
     "data": {
      "text/plain": [
       "496455"
      ]
     },
     "execution_count": 13,
     "metadata": {},
     "output_type": "execute_result"
    }
   ],
   "source": [
    "len(np.unique(df.instance_id))"
   ]
  },
  {
   "cell_type": "code",
   "execution_count": null,
   "metadata": {},
   "outputs": [],
   "source": []
  }
 ],
 "metadata": {
  "kernelspec": {
   "display_name": "Python 3",
   "language": "python",
   "name": "python3"
  },
  "language_info": {
   "codemirror_mode": {
    "name": "ipython",
    "version": 3
   },
   "file_extension": ".py",
   "mimetype": "text/x-python",
   "name": "python",
   "nbconvert_exporter": "python",
   "pygments_lexer": "ipython3",
   "version": "3.5.0"
  }
 },
 "nbformat": 4,
 "nbformat_minor": 2
}
