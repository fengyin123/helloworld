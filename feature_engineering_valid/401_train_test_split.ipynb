{
 "cells": [
  {
   "cell_type": "code",
   "execution_count": 1,
   "metadata": {},
   "outputs": [
    {
     "name": "stderr",
     "output_type": "stream",
     "text": [
      "\r",
      "  0%|          | 0/19 [00:00<?, ?it/s]"
     ]
    },
    {
     "name": "stdout",
     "output_type": "stream",
     "text": [
      "Int64Index([     0,      1,      2,      3,      4,      5,      6,      7,\n",
      "                 8,      9,\n",
      "            ...\n",
      "            420666, 420667, 420668, 420669, 420670, 420671, 420672, 420673,\n",
      "            420674, 420675],\n",
      "           dtype='int64', length=420676)\n",
      "['../data_valid/train_feature/002_property_count.pkl', '../data_valid/train_feature/101_user_based_statistics.pkl', '../data_valid/train_feature/102_smooth_features.pkl', '../data_valid/train_feature/103_diff_max_min.pkl', '../data_valid/train_feature/103_feature_last_query.pkl', '../data_valid/train_feature/103_last_day_count.pkl', '../data_valid/train_feature/103_user_time_count.pkl', '../data_valid/train_feature/104_user_visit_time.pkl', '../data_valid/train_feature/201_user_based_statistics.pkl', '../data_valid/train_feature/202_smooth_features.pkl', '../data_valid/train_feature/203_feature_last_query.pkl', '../data_valid/train_feature/203_last_day_count.pkl', '../data_valid/train_feature/203_user_time_count.pkl', '../data_valid/train_feature/301_smooth_item_features.pkl', '../data_valid/train_feature/301_user_based_statistics.pkl', '../data_valid/train_feature/303_feature_last_query.pkl', '../data_valid/train_feature/303_item_diff_max_min.pkl', '../data_valid/train_feature/303_item_last_day_count.pkl', '../data_valid/train_feature/303_user_time_count.pkl']\n"
     ]
    },
    {
     "name": "stderr",
     "output_type": "stream",
     "text": [
      "100%|██████████| 19/19 [00:07<00:00,  2.39it/s]\n",
      " 21%|██        | 4/19 [00:00<00:00, 33.60it/s]"
     ]
    },
    {
     "name": "stdout",
     "output_type": "stream",
     "text": [
      "['../data_valid/test_feature/002_property_count.pkl', '../data_valid/test_feature/101_user_based_statistics.pkl', '../data_valid/test_feature/102_smooth_features.pkl', '../data_valid/test_feature/103_diff_max_min.pkl', '../data_valid/test_feature/103_feature_last_query.pkl', '../data_valid/test_feature/103_last_day_count.pkl', '../data_valid/test_feature/103_user_time_count.pkl', '../data_valid/test_feature/104_user_visit_time.pkl', '../data_valid/test_feature/201_user_based_statistics.pkl', '../data_valid/test_feature/202_smooth_features.pkl', '../data_valid/test_feature/203_feature_last_query.pkl', '../data_valid/test_feature/203_last_day_count.pkl', '../data_valid/test_feature/203_user_time_count.pkl', '../data_valid/test_feature/301_smooth_item_features.pkl', '../data_valid/test_feature/301_user_based_statistics.pkl', '../data_valid/test_feature/303_feature_last_query.pkl', '../data_valid/test_feature/303_item_diff_max_min.pkl', '../data_valid/test_feature/303_item_last_day_count.pkl', '../data_valid/test_feature/303_user_time_count.pkl']\n"
     ]
    },
    {
     "name": "stderr",
     "output_type": "stream",
     "text": [
      "100%|██████████| 19/19 [00:01<00:00, 17.56it/s]\n"
     ]
    },
    {
     "name": "stdout",
     "output_type": "stream",
     "text": [
      "Int64Index([     0,      1,      2,      3,      4,      5,      6,      7,\n",
      "                 8,      9,\n",
      "            ...\n",
      "            420666, 420667, 420668, 420669, 420670, 420671, 420672, 420673,\n",
      "            420674, 420675],\n",
      "           dtype='int64', length=420676)\n",
      "user_id_lastday_count             386705\n",
      "time_diff_last_query_x            176764\n",
      "item_id_smooth_rate                84262\n",
      "shop_id_lastday_count              82930\n",
      "item_brand_id_lastday_count        80323\n",
      "shop_id_smooth_rate                80294\n",
      "item_brand_id_smooth_rate          79247\n",
      "item_city_id_lastday_count         78296\n",
      "item_city_id_smooth_rate           78284\n",
      "item_price_level_lastday_count     78270\n",
      "dtype: int64\n",
      "user_id_lastday_count             329534\n",
      "time_diff_last_query_x            153187\n",
      "item_id_smooth_rate                83373\n",
      "shop_id_lastday_count              81816\n",
      "shop_id_smooth_rate                79984\n",
      "item_brand_id_lastday_count        79933\n",
      "item_brand_id_smooth_rate          79124\n",
      "item_city_id_lastday_count         78292\n",
      "item_city_id_smooth_rate           78284\n",
      "item_price_level_lastday_count     78270\n",
      "dtype: int64\n"
     ]
    },
    {
     "name": "stderr",
     "output_type": "stream",
     "text": [
      "/Library/Frameworks/Python.framework/Versions/3.5/lib/python3.5/site-packages/pandas/core/frame.py:3035: SettingWithCopyWarning: \n",
      "A value is trying to be set on a copy of a slice from a DataFrame\n",
      "\n",
      "See the caveats in the documentation: http://pandas.pydata.org/pandas-docs/stable/indexing.html#indexing-view-versus-copy\n",
      "  downcast=downcast, **kwargs)\n"
     ]
    },
    {
     "name": "stdout",
     "output_type": "stream",
     "text": [
      "the shape of train (357066, 168)\n",
      "the shape of valid (63610, 168)\n",
      "the shape of test (57411, 168)\n"
     ]
    },
    {
     "name": "stderr",
     "output_type": "stream",
     "text": [
      "100%|██████████| 8/8 [00:15<00:00,  1.90s/it]\n"
     ]
    },
    {
     "name": "stdout",
     "output_type": "stream",
     "text": [
      "Int64Index([     0,      1,      2,      3,      4,      5,      6,      7,\n",
      "                 8,      9,\n",
      "            ...\n",
      "            357056, 357057, 357058, 357059, 357060, 357061, 357062, 357063,\n",
      "            357064, 357065],\n",
      "           dtype='int64', length=357066)\n",
      "Int64Index([    0,     1,     2,     3,     4,     5,     6,     7,     8,\n",
      "                9,\n",
      "            ...\n",
      "            57401, 57402, 57403, 57404, 57405, 57406, 57407, 57408, 57409,\n",
      "            57410],\n",
      "           dtype='int64', length=57411)\n",
      "train shap: (278805, 371)\n",
      "cv shape (63610, 371)\n",
      "test shape (57411, 371)\n"
     ]
    }
   ],
   "source": [
    "# %load 501_train_test_split.py\n",
    "from glob import glob\n",
    "from utils import BayesianSmoothing, load_pickle, dump_pickle, raw_data_path\n",
    "import pandas as pd\n",
    "from tqdm import tqdm\n",
    "from sklearn.preprocessing import minmax_scale\n",
    "import numpy as np\n",
    "import gc\n",
    "from sklearn.preprocessing import LabelEncoder\n",
    "\n",
    "def read_pickles(path):\n",
    "   \n",
    "    #   print([pd.read_pickle(f).shape for f in tqdm(sorted(glob(path+'/*.pkl')))])\n",
    "    #   df = pd.concat([pd.read_pickle(f) for f in tqdm(sorted(glob(path+'/*.pkl')))], axis=1)\n",
    "    f_list = [f for f in (sorted(glob(path+'*.pkl')))]\n",
    "    print(f_list)\n",
    "    df = None   \n",
    "    for f in tqdm(f_list):\n",
    "        if df is None:\n",
    "            df = pd.read_pickle(f)\n",
    "        else:\n",
    "            df = pd.merge(df, pd.read_pickle(f), on='instance_id', how='left') \n",
    "    return df\n",
    "\n",
    "def data_split(add_features=True):\n",
    "    train = load_pickle('../data_valid/train.pkl')\n",
    "    test = load_pickle('../data_valid/test.pkl')\n",
    "    print(train.index)\n",
    "    \n",
    "    if add_features:\n",
    "        train_feats = read_pickles('../data_valid/train_feature/')\n",
    "        test_feats = read_pickles('../data_valid/test_feature/')\n",
    "        \n",
    "#         print(train_feats.isnull().sum(axis=0).sort_values(ascending=False)[:10])\n",
    "#         print(train.isnull().sum(axis=0).sort_values(ascending=False)[:10])\n",
    "        \n",
    "        print(train_feats.index)\n",
    "        train = pd.merge(train, train_feats, on='instance_id', how='left')\n",
    "        test = pd.merge(test, test_feats, on='instance_id', how='left')\n",
    "#         train = pd.concat([train.reset_index(), train_feats.reset_index()], axis=1)\n",
    "#         test = pd.concat([test.reset_index(), test_feats.reset_index()], axis=1)\n",
    "        \n",
    "        print(train.isnull().sum(axis=0).sort_values(ascending=False)[:10])\n",
    "        \n",
    "    \n",
    "        del train_feats; gc.collect()\n",
    "        del test_feats; gc.collect()\n",
    "\n",
    "        \n",
    "    drop_columns = ['time', 'realtime', 'item_property_list']\n",
    "    train.drop(drop_columns, axis=1, inplace=True)\n",
    "    test.drop(drop_columns, axis=1, inplace=True)\n",
    "\n",
    "    \n",
    "\n",
    "    train_df = train[train.day<=22]\n",
    "    valid_df = train[train.day==23]\n",
    "    test_df = test\n",
    "\n",
    "    print(train_df.isnull().sum(axis=0).sort_values(ascending=False)[:10])\n",
    "    \n",
    "    train_df.fillna(-1, inplace=True)\n",
    "    valid_df.fillna(-1, inplace=True)\n",
    "    test_df.fillna(-1, inplace=True)\n",
    "    \n",
    "    \n",
    "    print('the shape of train {}'.format(train_df.shape))\n",
    "    print('the shape of valid {}'.format(valid_df.shape))\n",
    "    print('the shape of test {}'.format(test_df.shape))\n",
    "    \n",
    "\n",
    "    dump_pickle(train_df, path='../data_valid/train_final.pkl')\n",
    "    dump_pickle(valid_df, path='../data_valid/valid_final.pkl')\n",
    "    dump_pickle(test_df, path='../data_valid/test_final.pkl')\n",
    "    del train_df; gc.collect()\n",
    "    del valid_df; gc.collect()\n",
    "    del test_df; gc.collect()\n",
    "\n",
    "def data_onehot(add_features=True):\n",
    "\n",
    "    train_data = load_pickle(path='../data_valid/train_final.pkl')\n",
    "    valid_data = load_pickle(path='../data_valid/valid_final.pkl')\n",
    "    test_data = load_pickle(path='../data_valid/test_final.pkl')\n",
    "\n",
    "    if add_features:\n",
    "        cols = ['time_discrete', 'user_gender_id','user_age_level','user_occupation_id'\n",
    "                ,'item_city_id','item_price_level'\n",
    "                ,'context_page_id','shop_review_num_level']\n",
    "    else:\n",
    "        cols = ['user_gender_id','user_age_level','user_occupation_id'\n",
    "                ,'item_city_id','item_price_level'\n",
    "                ,'context_page_id','shop_review_num_level']\n",
    "\n",
    "    data = pd.concat([train_data, valid_data, test_data], axis=0, ignore_index=True)\n",
    "\n",
    "    for col in tqdm(cols):\n",
    "        col_feature = pd.get_dummies(data[col], prefix=col)\n",
    "        data.drop([col], axis=1, inplace=True)\n",
    "        data = pd.concat([data, col_feature], axis=1)\n",
    "\n",
    "    print(train_data.index)\n",
    "    print(test_data.index)\n",
    "    train_data = data[(data.day<=22)&(data.day>=19)].copy()\n",
    "    valid_data = data[data.day==23].copy()\n",
    "    test_data = data[data.day==24].copy()\n",
    "    \n",
    "    print('train shap:',train_data.shape)\n",
    "    print('cv shape', valid_data.shape)\n",
    "    print('test shape', test_data.shape)\n",
    "    \n",
    "    dump_pickle(train_data, path='../data_valid/train_final_onehot.pkl')\n",
    "    dump_pickle(valid_data, path='../data_valid/valid_final_onehot.pkl')\n",
    "    dump_pickle(test_data, path='../data_valid/test_final_onehot.pkl')\n",
    "\n",
    "\n",
    "data_split(add_features=True)\n",
    "data_onehot(add_features=True)\n",
    "\n",
    "\n"
   ]
  },
  {
   "cell_type": "code",
   "execution_count": null,
   "metadata": {},
   "outputs": [],
   "source": []
  }
 ],
 "metadata": {
  "kernelspec": {
   "display_name": "Python 3",
   "language": "python",
   "name": "python3"
  },
  "language_info": {
   "codemirror_mode": {
    "name": "ipython",
    "version": 3
   },
   "file_extension": ".py",
   "mimetype": "text/x-python",
   "name": "python",
   "nbconvert_exporter": "python",
   "pygments_lexer": "ipython3",
   "version": "3.5.0"
  }
 },
 "nbformat": 4,
 "nbformat_minor": 2
}
