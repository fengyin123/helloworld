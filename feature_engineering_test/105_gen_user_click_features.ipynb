{
 "cells": [
  {
   "cell_type": "code",
   "execution_count": 1,
   "metadata": {},
   "outputs": [],
   "source": [
    "# coding: utf-8\n",
    "\n",
    "import os\n",
    "import pickle\n",
    "import gc\n",
    "import pandas as pd\n",
    "import numpy as np\n",
    "from tqdm import tqdm\n",
    "from utils import BayesianSmoothing, load_pickle, dump_pickle, raw_data_path\n",
    "import time\n",
    "\n",
    "df = load_pickle('../data/df.pkl')\n",
    "train = load_pickle('../data/train.pkl')\n",
    "test = load_pickle('../data/test.pkl')\n",
    "\n",
    "def gen_user_day_click_count(df, mode):\n",
    "    \"\"\"\n",
    "    生成所有数据的每天点击统计量\n",
    "    拼接键['ID_name','day']\n",
    "    \"\"\"\n",
    "    final_feat = pd.DataFrame({'instance_id': df.instance_id, 'user_id': df.user_id, 'day':df.day,\n",
    "            'item_id':df.item_id, 'item_brand_id':df.item_brand_id, 'item_city_id':df.item_city_id,\n",
    "            'item_pv_level':df.item_pv_level, 'item_collected_level':df.item_collected_level,\n",
    "            'item_price_level':df.item_price_level, 'item_sales_level':df.item_sales_level,\n",
    "            'shop_id':df.shop_id, 'shop_review_num_level':df.shop_review_num_level, \n",
    "            'shop_star_level':df.shop_star_level, 'context_page_id':df.context_page_id\n",
    "                              })\n",
    "    \n",
    "    item_feature = ['item_id', 'item_brand_id', 'item_city_id', 'item_collected_level',\n",
    "                   'item_sales_level', 'item_price_level', 'item_pv_level',]\n",
    "    shop_feature = ['shop_id', 'shop_review_num_level', 'shop_star_level',]\n",
    "    context_feature = ['context_page_id']\n",
    "    stats_feature = item_feature+shop_feature+context_feature\n",
    "    feature_path = raw_data_path + '{}_feature/'.format(mode) +'105_user_zuhe_click_day.pkl'\n",
    "    if os.path.exists(feature_path):\n",
    "        print('found '+feature_path)    \n",
    "    else:\n",
    "        for feature in tqdm(stats_feature):\n",
    "            user_feature_click_day = df.groupby(['user_id','day',feature]).size().reset_index().rename(columns={0:'user_'+feature+'_click_day'})\n",
    "            final_feat = pd.merge(final_feat, user_feature_click_day, on=['user_id','day',feature], how='left')\n",
    "    drop_columns = ['user_id', 'day'] + stats_feature\n",
    "    final_feat.drop(drop_columns, axis=1, inplace=True)\n",
    "    dump_pickle(final_feat, path=raw_data_path + '{}_feature/'.format(mode) +'105_user_zuhe_click_day.pkl')"
   ]
  },
  {
   "cell_type": "code",
   "execution_count": 2,
   "metadata": {},
   "outputs": [
    {
     "name": "stderr",
     "output_type": "stream",
     "text": [
      "100%|██████████| 11/11 [00:05<00:00,  1.95it/s]\n",
      "100%|██████████| 11/11 [00:00<00:00, 25.72it/s]\n"
     ]
    },
    {
     "name": "stdout",
     "output_type": "stream",
     "text": [
      "all done\n"
     ]
    }
   ],
   "source": [
    "if __name__ == '__main__':\n",
    "\n",
    "    gen_user_day_click_count(train,'train')\n",
    "    gen_user_day_click_count(test, 'test')\n",
    "    print('all done')"
   ]
  },
  {
   "cell_type": "code",
   "execution_count": null,
   "metadata": {},
   "outputs": [],
   "source": []
  }
 ],
 "metadata": {
  "kernelspec": {
   "display_name": "Python 3",
   "language": "python",
   "name": "python3"
  },
  "language_info": {
   "codemirror_mode": {
    "name": "ipython",
    "version": 3
   },
   "file_extension": ".py",
   "mimetype": "text/x-python",
   "name": "python",
   "nbconvert_exporter": "python",
   "pygments_lexer": "ipython3",
   "version": "3.5.2"
  }
 },
 "nbformat": 4,
 "nbformat_minor": 2
}
