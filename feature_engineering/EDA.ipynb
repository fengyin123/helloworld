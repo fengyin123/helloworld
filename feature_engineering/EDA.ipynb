{
 "cells": [
  {
   "cell_type": "markdown",
   "metadata": {},
   "source": [
    "## 1. Load libraries"
   ]
  },
  {
   "cell_type": "code",
   "execution_count": 1,
   "metadata": {},
   "outputs": [
    {
     "data": {
      "application/javascript": [
       "IPython.OutputArea.prototype._should_scroll = function(lines) {\n",
       "    return false;\n",
       "}"
      ],
      "text/plain": [
       "<IPython.core.display.Javascript object>"
      ]
     },
     "metadata": {},
     "output_type": "display_data"
    }
   ],
   "source": [
    "%%javascript\n",
    "IPython.OutputArea.prototype._should_scroll = function(lines) {\n",
    "    return false;\n",
    "}"
   ]
  },
  {
   "cell_type": "code",
   "execution_count": 1,
   "metadata": {
    "hide_input": false
   },
   "outputs": [
    {
     "name": "stdout",
     "output_type": "stream",
     "text": [
      "0.5.0\n"
     ]
    },
    {
     "data": {
      "text/html": [
       "<script>requirejs.config({paths: { 'plotly': ['https://cdn.plot.ly/plotly-latest.min']},});if(!window.Plotly) {{require(['plotly'],function(plotly) {window.Plotly=plotly;});}}</script>"
      ],
      "text/vnd.plotly.v1+html": [
       "<script>requirejs.config({paths: { 'plotly': ['https://cdn.plot.ly/plotly-latest.min']},});if(!window.Plotly) {{require(['plotly'],function(plotly) {window.Plotly=plotly;});}}</script>"
      ]
     },
     "metadata": {},
     "output_type": "display_data"
    },
    {
     "data": {
      "text/plain": [
       "<matplotlib.figure.Figure at 0x106b21828>"
      ]
     },
     "metadata": {},
     "output_type": "display_data"
    }
   ],
   "source": [
    "import warnings\n",
    "warnings.simplefilter('ignore')\n",
    "import pandas as pd\n",
    "import numpy as np\n",
    "import scipy as sp\n",
    "import time\n",
    "import matplotlib.pyplot as plt\n",
    "import plotly.plotly as py\n",
    "import plotly.graph_objs as go\n",
    "import plotly \n",
    "from plotly import tools\n",
    "from plotly.graph_objs import *\n",
    "import collections\n",
    "import calendar\n",
    "%matplotlib inline \n",
    "import datetime\n",
    "import colorlover as cl\n",
    "import joypy\n",
    "from matplotlib import cm\n",
    "import plotnine as pln\n",
    "from matplotlib.colors import ListedColormap\n",
    "import matplotlib\n",
    "\n",
    "\n",
    "plt.style.use('ggplot')\n",
    "plt.figure(figsize=(18,10))\n",
    "\n",
    "import seaborn as sns\n",
    "import os\n",
    "import folium\n",
    "from folium.plugins import MarkerCluster\n",
    "print(folium.__version__)\n",
    "cmap = ListedColormap(sns.color_palette())\n",
    "\n",
    "import colorlover as cl\n",
    "from IPython.display import HTML\n",
    "\n",
    "from plotly import __version__\n",
    "from plotly.offline import download_plotlyjs, init_notebook_mode, plot, iplot\n",
    "import plotly.graph_objs as go\n",
    "\n",
    "init_notebook_mode(connected=True)\n",
    "\n",
    "from sklearn.preprocessing import LabelEncoder\n",
    "import ggplot\n",
    "from ggplot import *\n",
    "matplotlib.rcParams['figure.figsize'] = (10.0, 10.0)\n",
    "# plotly.tools.set_credentials_file(username='adslwang4601', api_key='RNtOcvlYrBgpU80Tiiuf')\n"
   ]
  },
  {
   "cell_type": "markdown",
   "metadata": {},
   "source": [
    "## 2. Load data"
   ]
  },
  {
   "cell_type": "code",
   "execution_count": 2,
   "metadata": {
    "code_folding": [],
    "hide_input": false
   },
   "outputs": [
    {
     "name": "stdout",
     "output_type": "stream",
     "text": [
      "========> Load Data Success!\n"
     ]
    }
   ],
   "source": [
    "path = '../data/'\n",
    "# 训练集\n",
    "train = pd.read_table(path+'round1_ijcai_18_train_20180301.txt',encoding='utf8',delim_whitespace=True)\n",
    "train['isTrain'] = 1\n",
    "    \n",
    "# 测试集\n",
    "test = pd.read_table(path+'round1_ijcai_18_test_a_20180301.txt',encoding='utf8',delim_whitespace=True)\n",
    "test['isTrain'] = 0\n",
    "        \n",
    "# 连接\n",
    "df = pd.concat([train, test])\n",
    "print(\"========> Load Data Success!\") "
   ]
  },
  {
   "cell_type": "code",
   "execution_count": 3,
   "metadata": {},
   "outputs": [
    {
     "data": {
      "text/html": [
       "<div>\n",
       "<style scoped>\n",
       "    .dataframe tbody tr th:only-of-type {\n",
       "        vertical-align: middle;\n",
       "    }\n",
       "\n",
       "    .dataframe tbody tr th {\n",
       "        vertical-align: top;\n",
       "    }\n",
       "\n",
       "    .dataframe thead th {\n",
       "        text-align: right;\n",
       "    }\n",
       "</style>\n",
       "<table border=\"1\" class=\"dataframe\">\n",
       "  <thead>\n",
       "    <tr style=\"text-align: right;\">\n",
       "      <th></th>\n",
       "      <th>item_property_0</th>\n",
       "      <th>item_property_1</th>\n",
       "      <th>item_property_2</th>\n",
       "      <th>item_property_3</th>\n",
       "      <th>item_property_4</th>\n",
       "      <th>item_property_5</th>\n",
       "      <th>item_property_6</th>\n",
       "      <th>item_property_7</th>\n",
       "      <th>item_property_8</th>\n",
       "      <th>item_property_9</th>\n",
       "      <th>...</th>\n",
       "      <th>item_property_90</th>\n",
       "      <th>item_property_91</th>\n",
       "      <th>item_property_92</th>\n",
       "      <th>item_property_93</th>\n",
       "      <th>item_property_94</th>\n",
       "      <th>item_property_95</th>\n",
       "      <th>item_property_96</th>\n",
       "      <th>item_property_97</th>\n",
       "      <th>item_property_98</th>\n",
       "      <th>item_property_99</th>\n",
       "    </tr>\n",
       "  </thead>\n",
       "  <tbody>\n",
       "    <tr>\n",
       "      <th>0</th>\n",
       "      <td>2072967855524022579</td>\n",
       "      <td>5131280576272319091</td>\n",
       "      <td>2636395404473730413</td>\n",
       "      <td>8070395809181082496</td>\n",
       "      <td>6434796455031995313</td>\n",
       "      <td>7839592306500064003</td>\n",
       "      <td>3657871859501171040</td>\n",
       "      <td>1782439090818545916</td>\n",
       "      <td>6936314038707413523</td>\n",
       "      <td>5117290135792467652</td>\n",
       "      <td>...</td>\n",
       "      <td>None</td>\n",
       "      <td>None</td>\n",
       "      <td>None</td>\n",
       "      <td>None</td>\n",
       "      <td>None</td>\n",
       "      <td>None</td>\n",
       "      <td>None</td>\n",
       "      <td>None</td>\n",
       "      <td>None</td>\n",
       "      <td>None</td>\n",
       "    </tr>\n",
       "    <tr>\n",
       "      <th>1</th>\n",
       "      <td>2072967855524022579</td>\n",
       "      <td>5131280576272319091</td>\n",
       "      <td>2636395404473730413</td>\n",
       "      <td>8070395809181082496</td>\n",
       "      <td>6434796455031995313</td>\n",
       "      <td>7839592306500064003</td>\n",
       "      <td>3657871859501171040</td>\n",
       "      <td>1782439090818545916</td>\n",
       "      <td>6936314038707413523</td>\n",
       "      <td>5117290135792467652</td>\n",
       "      <td>...</td>\n",
       "      <td>None</td>\n",
       "      <td>None</td>\n",
       "      <td>None</td>\n",
       "      <td>None</td>\n",
       "      <td>None</td>\n",
       "      <td>None</td>\n",
       "      <td>None</td>\n",
       "      <td>None</td>\n",
       "      <td>None</td>\n",
       "      <td>None</td>\n",
       "    </tr>\n",
       "    <tr>\n",
       "      <th>2</th>\n",
       "      <td>2072967855524022579</td>\n",
       "      <td>5131280576272319091</td>\n",
       "      <td>2636395404473730413</td>\n",
       "      <td>8070395809181082496</td>\n",
       "      <td>6434796455031995313</td>\n",
       "      <td>7839592306500064003</td>\n",
       "      <td>3657871859501171040</td>\n",
       "      <td>1782439090818545916</td>\n",
       "      <td>6936314038707413523</td>\n",
       "      <td>5117290135792467652</td>\n",
       "      <td>...</td>\n",
       "      <td>None</td>\n",
       "      <td>None</td>\n",
       "      <td>None</td>\n",
       "      <td>None</td>\n",
       "      <td>None</td>\n",
       "      <td>None</td>\n",
       "      <td>None</td>\n",
       "      <td>None</td>\n",
       "      <td>None</td>\n",
       "      <td>None</td>\n",
       "    </tr>\n",
       "    <tr>\n",
       "      <th>3</th>\n",
       "      <td>2072967855524022579</td>\n",
       "      <td>5131280576272319091</td>\n",
       "      <td>2636395404473730413</td>\n",
       "      <td>8070395809181082496</td>\n",
       "      <td>6434796455031995313</td>\n",
       "      <td>7839592306500064003</td>\n",
       "      <td>3657871859501171040</td>\n",
       "      <td>1782439090818545916</td>\n",
       "      <td>6936314038707413523</td>\n",
       "      <td>5117290135792467652</td>\n",
       "      <td>...</td>\n",
       "      <td>None</td>\n",
       "      <td>None</td>\n",
       "      <td>None</td>\n",
       "      <td>None</td>\n",
       "      <td>None</td>\n",
       "      <td>None</td>\n",
       "      <td>None</td>\n",
       "      <td>None</td>\n",
       "      <td>None</td>\n",
       "      <td>None</td>\n",
       "    </tr>\n",
       "    <tr>\n",
       "      <th>4</th>\n",
       "      <td>2072967855524022579</td>\n",
       "      <td>5131280576272319091</td>\n",
       "      <td>2636395404473730413</td>\n",
       "      <td>8070395809181082496</td>\n",
       "      <td>6434796455031995313</td>\n",
       "      <td>7839592306500064003</td>\n",
       "      <td>3657871859501171040</td>\n",
       "      <td>1782439090818545916</td>\n",
       "      <td>6936314038707413523</td>\n",
       "      <td>5117290135792467652</td>\n",
       "      <td>...</td>\n",
       "      <td>None</td>\n",
       "      <td>None</td>\n",
       "      <td>None</td>\n",
       "      <td>None</td>\n",
       "      <td>None</td>\n",
       "      <td>None</td>\n",
       "      <td>None</td>\n",
       "      <td>None</td>\n",
       "      <td>None</td>\n",
       "      <td>None</td>\n",
       "    </tr>\n",
       "    <tr>\n",
       "      <th>5</th>\n",
       "      <td>2072967855524022579</td>\n",
       "      <td>5131280576272319091</td>\n",
       "      <td>2636395404473730413</td>\n",
       "      <td>8070395809181082496</td>\n",
       "      <td>6434796455031995313</td>\n",
       "      <td>7839592306500064003</td>\n",
       "      <td>3657871859501171040</td>\n",
       "      <td>1782439090818545916</td>\n",
       "      <td>6936314038707413523</td>\n",
       "      <td>5117290135792467652</td>\n",
       "      <td>...</td>\n",
       "      <td>None</td>\n",
       "      <td>None</td>\n",
       "      <td>None</td>\n",
       "      <td>None</td>\n",
       "      <td>None</td>\n",
       "      <td>None</td>\n",
       "      <td>None</td>\n",
       "      <td>None</td>\n",
       "      <td>None</td>\n",
       "      <td>None</td>\n",
       "    </tr>\n",
       "    <tr>\n",
       "      <th>6</th>\n",
       "      <td>2072967855524022579</td>\n",
       "      <td>5131280576272319091</td>\n",
       "      <td>2636395404473730413</td>\n",
       "      <td>9148482949976129397</td>\n",
       "      <td>7199361004668592209</td>\n",
       "      <td>4678095570925618478</td>\n",
       "      <td>2033679869864207699</td>\n",
       "      <td>3802510553218572927</td>\n",
       "      <td>1782439090818545916</td>\n",
       "      <td>820214312075361939</td>\n",
       "      <td>...</td>\n",
       "      <td>None</td>\n",
       "      <td>None</td>\n",
       "      <td>None</td>\n",
       "      <td>None</td>\n",
       "      <td>None</td>\n",
       "      <td>None</td>\n",
       "      <td>None</td>\n",
       "      <td>None</td>\n",
       "      <td>None</td>\n",
       "      <td>None</td>\n",
       "    </tr>\n",
       "    <tr>\n",
       "      <th>7</th>\n",
       "      <td>2072967855524022579</td>\n",
       "      <td>5131280576272319091</td>\n",
       "      <td>2636395404473730413</td>\n",
       "      <td>9148482949976129397</td>\n",
       "      <td>7199361004668592209</td>\n",
       "      <td>4678095570925618478</td>\n",
       "      <td>2033679869864207699</td>\n",
       "      <td>3802510553218572927</td>\n",
       "      <td>1782439090818545916</td>\n",
       "      <td>820214312075361939</td>\n",
       "      <td>...</td>\n",
       "      <td>None</td>\n",
       "      <td>None</td>\n",
       "      <td>None</td>\n",
       "      <td>None</td>\n",
       "      <td>None</td>\n",
       "      <td>None</td>\n",
       "      <td>None</td>\n",
       "      <td>None</td>\n",
       "      <td>None</td>\n",
       "      <td>None</td>\n",
       "    </tr>\n",
       "    <tr>\n",
       "      <th>8</th>\n",
       "      <td>2072967855524022579</td>\n",
       "      <td>5131280576272319091</td>\n",
       "      <td>2636395404473730413</td>\n",
       "      <td>6556896890082244813</td>\n",
       "      <td>3657871859501171040</td>\n",
       "      <td>9173428221474519642</td>\n",
       "      <td>2253152183208719552</td>\n",
       "      <td>357954758031852148</td>\n",
       "      <td>3765394546174375916</td>\n",
       "      <td>8808957892062587408</td>\n",
       "      <td>...</td>\n",
       "      <td>None</td>\n",
       "      <td>None</td>\n",
       "      <td>None</td>\n",
       "      <td>None</td>\n",
       "      <td>None</td>\n",
       "      <td>None</td>\n",
       "      <td>None</td>\n",
       "      <td>None</td>\n",
       "      <td>None</td>\n",
       "      <td>None</td>\n",
       "    </tr>\n",
       "    <tr>\n",
       "      <th>9</th>\n",
       "      <td>2072967855524022579</td>\n",
       "      <td>5131280576272319091</td>\n",
       "      <td>2636395404473730413</td>\n",
       "      <td>9148482949976129397</td>\n",
       "      <td>7199361004668592209</td>\n",
       "      <td>4678095570925618478</td>\n",
       "      <td>2033679869864207699</td>\n",
       "      <td>3802510553218572927</td>\n",
       "      <td>1782439090818545916</td>\n",
       "      <td>820214312075361939</td>\n",
       "      <td>...</td>\n",
       "      <td>None</td>\n",
       "      <td>None</td>\n",
       "      <td>None</td>\n",
       "      <td>None</td>\n",
       "      <td>None</td>\n",
       "      <td>None</td>\n",
       "      <td>None</td>\n",
       "      <td>None</td>\n",
       "      <td>None</td>\n",
       "      <td>None</td>\n",
       "    </tr>\n",
       "    <tr>\n",
       "      <th>10</th>\n",
       "      <td>2072967855524022579</td>\n",
       "      <td>5131280576272319091</td>\n",
       "      <td>2636395404473730413</td>\n",
       "      <td>9148482949976129397</td>\n",
       "      <td>7199361004668592209</td>\n",
       "      <td>4678095570925618478</td>\n",
       "      <td>2033679869864207699</td>\n",
       "      <td>3802510553218572927</td>\n",
       "      <td>1782439090818545916</td>\n",
       "      <td>820214312075361939</td>\n",
       "      <td>...</td>\n",
       "      <td>None</td>\n",
       "      <td>None</td>\n",
       "      <td>None</td>\n",
       "      <td>None</td>\n",
       "      <td>None</td>\n",
       "      <td>None</td>\n",
       "      <td>None</td>\n",
       "      <td>None</td>\n",
       "      <td>None</td>\n",
       "      <td>None</td>\n",
       "    </tr>\n",
       "    <tr>\n",
       "      <th>11</th>\n",
       "      <td>2072967855524022579</td>\n",
       "      <td>5131280576272319091</td>\n",
       "      <td>2636395404473730413</td>\n",
       "      <td>6556896890082244813</td>\n",
       "      <td>3657871859501171040</td>\n",
       "      <td>9173428221474519642</td>\n",
       "      <td>2253152183208719552</td>\n",
       "      <td>357954758031852148</td>\n",
       "      <td>3765394546174375916</td>\n",
       "      <td>8808957892062587408</td>\n",
       "      <td>...</td>\n",
       "      <td>None</td>\n",
       "      <td>None</td>\n",
       "      <td>None</td>\n",
       "      <td>None</td>\n",
       "      <td>None</td>\n",
       "      <td>None</td>\n",
       "      <td>None</td>\n",
       "      <td>None</td>\n",
       "      <td>None</td>\n",
       "      <td>None</td>\n",
       "    </tr>\n",
       "    <tr>\n",
       "      <th>12</th>\n",
       "      <td>2072967855524022579</td>\n",
       "      <td>5131280576272319091</td>\n",
       "      <td>2636395404473730413</td>\n",
       "      <td>9148482949976129397</td>\n",
       "      <td>7199361004668592209</td>\n",
       "      <td>4678095570925618478</td>\n",
       "      <td>2033679869864207699</td>\n",
       "      <td>3802510553218572927</td>\n",
       "      <td>1782439090818545916</td>\n",
       "      <td>820214312075361939</td>\n",
       "      <td>...</td>\n",
       "      <td>None</td>\n",
       "      <td>None</td>\n",
       "      <td>None</td>\n",
       "      <td>None</td>\n",
       "      <td>None</td>\n",
       "      <td>None</td>\n",
       "      <td>None</td>\n",
       "      <td>None</td>\n",
       "      <td>None</td>\n",
       "      <td>None</td>\n",
       "    </tr>\n",
       "    <tr>\n",
       "      <th>13</th>\n",
       "      <td>2072967855524022579</td>\n",
       "      <td>5131280576272319091</td>\n",
       "      <td>2636395404473730413</td>\n",
       "      <td>9148482949976129397</td>\n",
       "      <td>7199361004668592209</td>\n",
       "      <td>4678095570925618478</td>\n",
       "      <td>2033679869864207699</td>\n",
       "      <td>3802510553218572927</td>\n",
       "      <td>1782439090818545916</td>\n",
       "      <td>820214312075361939</td>\n",
       "      <td>...</td>\n",
       "      <td>None</td>\n",
       "      <td>None</td>\n",
       "      <td>None</td>\n",
       "      <td>None</td>\n",
       "      <td>None</td>\n",
       "      <td>None</td>\n",
       "      <td>None</td>\n",
       "      <td>None</td>\n",
       "      <td>None</td>\n",
       "      <td>None</td>\n",
       "    </tr>\n",
       "    <tr>\n",
       "      <th>14</th>\n",
       "      <td>2072967855524022579</td>\n",
       "      <td>5131280576272319091</td>\n",
       "      <td>2636395404473730413</td>\n",
       "      <td>9148482949976129397</td>\n",
       "      <td>7199361004668592209</td>\n",
       "      <td>4678095570925618478</td>\n",
       "      <td>2033679869864207699</td>\n",
       "      <td>3802510553218572927</td>\n",
       "      <td>1782439090818545916</td>\n",
       "      <td>820214312075361939</td>\n",
       "      <td>...</td>\n",
       "      <td>None</td>\n",
       "      <td>None</td>\n",
       "      <td>None</td>\n",
       "      <td>None</td>\n",
       "      <td>None</td>\n",
       "      <td>None</td>\n",
       "      <td>None</td>\n",
       "      <td>None</td>\n",
       "      <td>None</td>\n",
       "      <td>None</td>\n",
       "    </tr>\n",
       "    <tr>\n",
       "      <th>15</th>\n",
       "      <td>2072967855524022579</td>\n",
       "      <td>5131280576272319091</td>\n",
       "      <td>2636395404473730413</td>\n",
       "      <td>9148482949976129397</td>\n",
       "      <td>7199361004668592209</td>\n",
       "      <td>4678095570925618478</td>\n",
       "      <td>2033679869864207699</td>\n",
       "      <td>3802510553218572927</td>\n",
       "      <td>1782439090818545916</td>\n",
       "      <td>820214312075361939</td>\n",
       "      <td>...</td>\n",
       "      <td>None</td>\n",
       "      <td>None</td>\n",
       "      <td>None</td>\n",
       "      <td>None</td>\n",
       "      <td>None</td>\n",
       "      <td>None</td>\n",
       "      <td>None</td>\n",
       "      <td>None</td>\n",
       "      <td>None</td>\n",
       "      <td>None</td>\n",
       "    </tr>\n",
       "    <tr>\n",
       "      <th>16</th>\n",
       "      <td>2072967855524022579</td>\n",
       "      <td>5131280576272319091</td>\n",
       "      <td>2636395404473730413</td>\n",
       "      <td>6556896890082244813</td>\n",
       "      <td>3657871859501171040</td>\n",
       "      <td>9173428221474519642</td>\n",
       "      <td>2253152183208719552</td>\n",
       "      <td>357954758031852148</td>\n",
       "      <td>3765394546174375916</td>\n",
       "      <td>8808957892062587408</td>\n",
       "      <td>...</td>\n",
       "      <td>None</td>\n",
       "      <td>None</td>\n",
       "      <td>None</td>\n",
       "      <td>None</td>\n",
       "      <td>None</td>\n",
       "      <td>None</td>\n",
       "      <td>None</td>\n",
       "      <td>None</td>\n",
       "      <td>None</td>\n",
       "      <td>None</td>\n",
       "    </tr>\n",
       "    <tr>\n",
       "      <th>17</th>\n",
       "      <td>2072967855524022579</td>\n",
       "      <td>5131280576272319091</td>\n",
       "      <td>2636395404473730413</td>\n",
       "      <td>6556896890082244813</td>\n",
       "      <td>3657871859501171040</td>\n",
       "      <td>9173428221474519642</td>\n",
       "      <td>2253152183208719552</td>\n",
       "      <td>357954758031852148</td>\n",
       "      <td>3765394546174375916</td>\n",
       "      <td>8808957892062587408</td>\n",
       "      <td>...</td>\n",
       "      <td>None</td>\n",
       "      <td>None</td>\n",
       "      <td>None</td>\n",
       "      <td>None</td>\n",
       "      <td>None</td>\n",
       "      <td>None</td>\n",
       "      <td>None</td>\n",
       "      <td>None</td>\n",
       "      <td>None</td>\n",
       "      <td>None</td>\n",
       "    </tr>\n",
       "    <tr>\n",
       "      <th>18</th>\n",
       "      <td>2072967855524022579</td>\n",
       "      <td>5131280576272319091</td>\n",
       "      <td>2636395404473730413</td>\n",
       "      <td>9148482949976129397</td>\n",
       "      <td>7199361004668592209</td>\n",
       "      <td>4678095570925618478</td>\n",
       "      <td>2033679869864207699</td>\n",
       "      <td>3802510553218572927</td>\n",
       "      <td>1782439090818545916</td>\n",
       "      <td>820214312075361939</td>\n",
       "      <td>...</td>\n",
       "      <td>None</td>\n",
       "      <td>None</td>\n",
       "      <td>None</td>\n",
       "      <td>None</td>\n",
       "      <td>None</td>\n",
       "      <td>None</td>\n",
       "      <td>None</td>\n",
       "      <td>None</td>\n",
       "      <td>None</td>\n",
       "      <td>None</td>\n",
       "    </tr>\n",
       "    <tr>\n",
       "      <th>19</th>\n",
       "      <td>2072967855524022579</td>\n",
       "      <td>5131280576272319091</td>\n",
       "      <td>2636395404473730413</td>\n",
       "      <td>9148482949976129397</td>\n",
       "      <td>7199361004668592209</td>\n",
       "      <td>4678095570925618478</td>\n",
       "      <td>2033679869864207699</td>\n",
       "      <td>3802510553218572927</td>\n",
       "      <td>1782439090818545916</td>\n",
       "      <td>820214312075361939</td>\n",
       "      <td>...</td>\n",
       "      <td>None</td>\n",
       "      <td>None</td>\n",
       "      <td>None</td>\n",
       "      <td>None</td>\n",
       "      <td>None</td>\n",
       "      <td>None</td>\n",
       "      <td>None</td>\n",
       "      <td>None</td>\n",
       "      <td>None</td>\n",
       "      <td>None</td>\n",
       "    </tr>\n",
       "    <tr>\n",
       "      <th>20</th>\n",
       "      <td>2072967855524022579</td>\n",
       "      <td>5131280576272319091</td>\n",
       "      <td>2636395404473730413</td>\n",
       "      <td>9148482949976129397</td>\n",
       "      <td>7199361004668592209</td>\n",
       "      <td>4678095570925618478</td>\n",
       "      <td>2033679869864207699</td>\n",
       "      <td>3802510553218572927</td>\n",
       "      <td>1782439090818545916</td>\n",
       "      <td>820214312075361939</td>\n",
       "      <td>...</td>\n",
       "      <td>None</td>\n",
       "      <td>None</td>\n",
       "      <td>None</td>\n",
       "      <td>None</td>\n",
       "      <td>None</td>\n",
       "      <td>None</td>\n",
       "      <td>None</td>\n",
       "      <td>None</td>\n",
       "      <td>None</td>\n",
       "      <td>None</td>\n",
       "    </tr>\n",
       "    <tr>\n",
       "      <th>21</th>\n",
       "      <td>2072967855524022579</td>\n",
       "      <td>5131280576272319091</td>\n",
       "      <td>2636395404473730413</td>\n",
       "      <td>9148482949976129397</td>\n",
       "      <td>7199361004668592209</td>\n",
       "      <td>4678095570925618478</td>\n",
       "      <td>2033679869864207699</td>\n",
       "      <td>3802510553218572927</td>\n",
       "      <td>1782439090818545916</td>\n",
       "      <td>820214312075361939</td>\n",
       "      <td>...</td>\n",
       "      <td>None</td>\n",
       "      <td>None</td>\n",
       "      <td>None</td>\n",
       "      <td>None</td>\n",
       "      <td>None</td>\n",
       "      <td>None</td>\n",
       "      <td>None</td>\n",
       "      <td>None</td>\n",
       "      <td>None</td>\n",
       "      <td>None</td>\n",
       "    </tr>\n",
       "    <tr>\n",
       "      <th>22</th>\n",
       "      <td>2072967855524022579</td>\n",
       "      <td>5131280576272319091</td>\n",
       "      <td>2636395404473730413</td>\n",
       "      <td>6556896890082244813</td>\n",
       "      <td>3657871859501171040</td>\n",
       "      <td>9173428221474519642</td>\n",
       "      <td>2253152183208719552</td>\n",
       "      <td>357954758031852148</td>\n",
       "      <td>3765394546174375916</td>\n",
       "      <td>8808957892062587408</td>\n",
       "      <td>...</td>\n",
       "      <td>None</td>\n",
       "      <td>None</td>\n",
       "      <td>None</td>\n",
       "      <td>None</td>\n",
       "      <td>None</td>\n",
       "      <td>None</td>\n",
       "      <td>None</td>\n",
       "      <td>None</td>\n",
       "      <td>None</td>\n",
       "      <td>None</td>\n",
       "    </tr>\n",
       "    <tr>\n",
       "      <th>23</th>\n",
       "      <td>2072967855524022579</td>\n",
       "      <td>5131280576272319091</td>\n",
       "      <td>2636395404473730413</td>\n",
       "      <td>6556896890082244813</td>\n",
       "      <td>3657871859501171040</td>\n",
       "      <td>9173428221474519642</td>\n",
       "      <td>2253152183208719552</td>\n",
       "      <td>357954758031852148</td>\n",
       "      <td>3765394546174375916</td>\n",
       "      <td>8808957892062587408</td>\n",
       "      <td>...</td>\n",
       "      <td>None</td>\n",
       "      <td>None</td>\n",
       "      <td>None</td>\n",
       "      <td>None</td>\n",
       "      <td>None</td>\n",
       "      <td>None</td>\n",
       "      <td>None</td>\n",
       "      <td>None</td>\n",
       "      <td>None</td>\n",
       "      <td>None</td>\n",
       "    </tr>\n",
       "    <tr>\n",
       "      <th>24</th>\n",
       "      <td>2072967855524022579</td>\n",
       "      <td>5131280576272319091</td>\n",
       "      <td>2636395404473730413</td>\n",
       "      <td>6556896890082244813</td>\n",
       "      <td>3657871859501171040</td>\n",
       "      <td>9173428221474519642</td>\n",
       "      <td>2253152183208719552</td>\n",
       "      <td>357954758031852148</td>\n",
       "      <td>3765394546174375916</td>\n",
       "      <td>8808957892062587408</td>\n",
       "      <td>...</td>\n",
       "      <td>None</td>\n",
       "      <td>None</td>\n",
       "      <td>None</td>\n",
       "      <td>None</td>\n",
       "      <td>None</td>\n",
       "      <td>None</td>\n",
       "      <td>None</td>\n",
       "      <td>None</td>\n",
       "      <td>None</td>\n",
       "      <td>None</td>\n",
       "    </tr>\n",
       "    <tr>\n",
       "      <th>25</th>\n",
       "      <td>2072967855524022579</td>\n",
       "      <td>5131280576272319091</td>\n",
       "      <td>2636395404473730413</td>\n",
       "      <td>6556896890082244813</td>\n",
       "      <td>3657871859501171040</td>\n",
       "      <td>9173428221474519642</td>\n",
       "      <td>2253152183208719552</td>\n",
       "      <td>357954758031852148</td>\n",
       "      <td>3765394546174375916</td>\n",
       "      <td>8808957892062587408</td>\n",
       "      <td>...</td>\n",
       "      <td>None</td>\n",
       "      <td>None</td>\n",
       "      <td>None</td>\n",
       "      <td>None</td>\n",
       "      <td>None</td>\n",
       "      <td>None</td>\n",
       "      <td>None</td>\n",
       "      <td>None</td>\n",
       "      <td>None</td>\n",
       "      <td>None</td>\n",
       "    </tr>\n",
       "    <tr>\n",
       "      <th>26</th>\n",
       "      <td>2072967855524022579</td>\n",
       "      <td>5131280576272319091</td>\n",
       "      <td>2636395404473730413</td>\n",
       "      <td>9148482949976129397</td>\n",
       "      <td>7199361004668592209</td>\n",
       "      <td>4678095570925618478</td>\n",
       "      <td>2033679869864207699</td>\n",
       "      <td>3802510553218572927</td>\n",
       "      <td>1782439090818545916</td>\n",
       "      <td>820214312075361939</td>\n",
       "      <td>...</td>\n",
       "      <td>None</td>\n",
       "      <td>None</td>\n",
       "      <td>None</td>\n",
       "      <td>None</td>\n",
       "      <td>None</td>\n",
       "      <td>None</td>\n",
       "      <td>None</td>\n",
       "      <td>None</td>\n",
       "      <td>None</td>\n",
       "      <td>None</td>\n",
       "    </tr>\n",
       "    <tr>\n",
       "      <th>27</th>\n",
       "      <td>2072967855524022579</td>\n",
       "      <td>5131280576272319091</td>\n",
       "      <td>2636395404473730413</td>\n",
       "      <td>6556896890082244813</td>\n",
       "      <td>3657871859501171040</td>\n",
       "      <td>9173428221474519642</td>\n",
       "      <td>2253152183208719552</td>\n",
       "      <td>357954758031852148</td>\n",
       "      <td>3765394546174375916</td>\n",
       "      <td>8808957892062587408</td>\n",
       "      <td>...</td>\n",
       "      <td>None</td>\n",
       "      <td>None</td>\n",
       "      <td>None</td>\n",
       "      <td>None</td>\n",
       "      <td>None</td>\n",
       "      <td>None</td>\n",
       "      <td>None</td>\n",
       "      <td>None</td>\n",
       "      <td>None</td>\n",
       "      <td>None</td>\n",
       "    </tr>\n",
       "    <tr>\n",
       "      <th>28</th>\n",
       "      <td>2072967855524022579</td>\n",
       "      <td>5131280576272319091</td>\n",
       "      <td>2636395404473730413</td>\n",
       "      <td>9148482949976129397</td>\n",
       "      <td>7199361004668592209</td>\n",
       "      <td>4678095570925618478</td>\n",
       "      <td>2033679869864207699</td>\n",
       "      <td>3802510553218572927</td>\n",
       "      <td>1782439090818545916</td>\n",
       "      <td>820214312075361939</td>\n",
       "      <td>...</td>\n",
       "      <td>None</td>\n",
       "      <td>None</td>\n",
       "      <td>None</td>\n",
       "      <td>None</td>\n",
       "      <td>None</td>\n",
       "      <td>None</td>\n",
       "      <td>None</td>\n",
       "      <td>None</td>\n",
       "      <td>None</td>\n",
       "      <td>None</td>\n",
       "    </tr>\n",
       "    <tr>\n",
       "      <th>29</th>\n",
       "      <td>2072967855524022579</td>\n",
       "      <td>2636395404473730413</td>\n",
       "      <td>4621934203383159480</td>\n",
       "      <td>7515802706813700848</td>\n",
       "      <td>1530585142987372715</td>\n",
       "      <td>1782439090818545916</td>\n",
       "      <td>3009186296901310904</td>\n",
       "      <td>5117290135792467652</td>\n",
       "      <td>720840888466250585</td>\n",
       "      <td>357954758031852148</td>\n",
       "      <td>...</td>\n",
       "      <td>None</td>\n",
       "      <td>None</td>\n",
       "      <td>None</td>\n",
       "      <td>None</td>\n",
       "      <td>None</td>\n",
       "      <td>None</td>\n",
       "      <td>None</td>\n",
       "      <td>None</td>\n",
       "      <td>None</td>\n",
       "      <td>None</td>\n",
       "    </tr>\n",
       "    <tr>\n",
       "      <th>...</th>\n",
       "      <td>...</td>\n",
       "      <td>...</td>\n",
       "      <td>...</td>\n",
       "      <td>...</td>\n",
       "      <td>...</td>\n",
       "      <td>...</td>\n",
       "      <td>...</td>\n",
       "      <td>...</td>\n",
       "      <td>...</td>\n",
       "      <td>...</td>\n",
       "      <td>...</td>\n",
       "      <td>...</td>\n",
       "      <td>...</td>\n",
       "      <td>...</td>\n",
       "      <td>...</td>\n",
       "      <td>...</td>\n",
       "      <td>...</td>\n",
       "      <td>...</td>\n",
       "      <td>...</td>\n",
       "      <td>...</td>\n",
       "      <td>...</td>\n",
       "    </tr>\n",
       "    <tr>\n",
       "      <th>478108</th>\n",
       "      <td>5131280576272319091</td>\n",
       "      <td>4621934203383159480</td>\n",
       "      <td>7344985833148694227</td>\n",
       "      <td>2488701964620097331</td>\n",
       "      <td>4067341101015777832</td>\n",
       "      <td>8070395809181082496</td>\n",
       "      <td>8851425427477388664</td>\n",
       "      <td>6523907184013144830</td>\n",
       "      <td>1243768796732904674</td>\n",
       "      <td>9148482949976129397</td>\n",
       "      <td>...</td>\n",
       "      <td>None</td>\n",
       "      <td>None</td>\n",
       "      <td>None</td>\n",
       "      <td>None</td>\n",
       "      <td>None</td>\n",
       "      <td>None</td>\n",
       "      <td>None</td>\n",
       "      <td>None</td>\n",
       "      <td>None</td>\n",
       "      <td>None</td>\n",
       "    </tr>\n",
       "    <tr>\n",
       "      <th>478109</th>\n",
       "      <td>5131280576272319091</td>\n",
       "      <td>4621934203383159480</td>\n",
       "      <td>7344985833148694227</td>\n",
       "      <td>2488701964620097331</td>\n",
       "      <td>4067341101015777832</td>\n",
       "      <td>8070395809181082496</td>\n",
       "      <td>8851425427477388664</td>\n",
       "      <td>6523907184013144830</td>\n",
       "      <td>1243768796732904674</td>\n",
       "      <td>9148482949976129397</td>\n",
       "      <td>...</td>\n",
       "      <td>None</td>\n",
       "      <td>None</td>\n",
       "      <td>None</td>\n",
       "      <td>None</td>\n",
       "      <td>None</td>\n",
       "      <td>None</td>\n",
       "      <td>None</td>\n",
       "      <td>None</td>\n",
       "      <td>None</td>\n",
       "      <td>None</td>\n",
       "    </tr>\n",
       "    <tr>\n",
       "      <th>478110</th>\n",
       "      <td>5131280576272319091</td>\n",
       "      <td>4621934203383159480</td>\n",
       "      <td>7344985833148694227</td>\n",
       "      <td>2488701964620097331</td>\n",
       "      <td>4067341101015777832</td>\n",
       "      <td>8070395809181082496</td>\n",
       "      <td>8851425427477388664</td>\n",
       "      <td>6523907184013144830</td>\n",
       "      <td>1243768796732904674</td>\n",
       "      <td>9148482949976129397</td>\n",
       "      <td>...</td>\n",
       "      <td>None</td>\n",
       "      <td>None</td>\n",
       "      <td>None</td>\n",
       "      <td>None</td>\n",
       "      <td>None</td>\n",
       "      <td>None</td>\n",
       "      <td>None</td>\n",
       "      <td>None</td>\n",
       "      <td>None</td>\n",
       "      <td>None</td>\n",
       "    </tr>\n",
       "    <tr>\n",
       "      <th>478111</th>\n",
       "      <td>5131280576272319091</td>\n",
       "      <td>4621934203383159480</td>\n",
       "      <td>7344985833148694227</td>\n",
       "      <td>2488701964620097331</td>\n",
       "      <td>4067341101015777832</td>\n",
       "      <td>8070395809181082496</td>\n",
       "      <td>8851425427477388664</td>\n",
       "      <td>6523907184013144830</td>\n",
       "      <td>1243768796732904674</td>\n",
       "      <td>9148482949976129397</td>\n",
       "      <td>...</td>\n",
       "      <td>None</td>\n",
       "      <td>None</td>\n",
       "      <td>None</td>\n",
       "      <td>None</td>\n",
       "      <td>None</td>\n",
       "      <td>None</td>\n",
       "      <td>None</td>\n",
       "      <td>None</td>\n",
       "      <td>None</td>\n",
       "      <td>None</td>\n",
       "    </tr>\n",
       "    <tr>\n",
       "      <th>478112</th>\n",
       "      <td>2072967855524022579</td>\n",
       "      <td>2072967855524022579</td>\n",
       "      <td>2636395404473730413</td>\n",
       "      <td>1530585142987372715</td>\n",
       "      <td>4875993958863530301</td>\n",
       "      <td>6401472442083349636</td>\n",
       "      <td>5754228743327842435</td>\n",
       "      <td>5117290135792467652</td>\n",
       "      <td>8808499482223878904</td>\n",
       "      <td>1534618255187127624</td>\n",
       "      <td>...</td>\n",
       "      <td>None</td>\n",
       "      <td>None</td>\n",
       "      <td>None</td>\n",
       "      <td>None</td>\n",
       "      <td>None</td>\n",
       "      <td>None</td>\n",
       "      <td>None</td>\n",
       "      <td>None</td>\n",
       "      <td>None</td>\n",
       "      <td>None</td>\n",
       "    </tr>\n",
       "    <tr>\n",
       "      <th>478113</th>\n",
       "      <td>5977512434884267894</td>\n",
       "      <td>2072967855524022579</td>\n",
       "      <td>2072967855524022579</td>\n",
       "      <td>5131280576272319091</td>\n",
       "      <td>2636395404473730413</td>\n",
       "      <td>4875993958863530301</td>\n",
       "      <td>6491818071284064879</td>\n",
       "      <td>3994732721176203348</td>\n",
       "      <td>3258780649701680217</td>\n",
       "      <td>8338504423417695564</td>\n",
       "      <td>...</td>\n",
       "      <td>None</td>\n",
       "      <td>None</td>\n",
       "      <td>None</td>\n",
       "      <td>None</td>\n",
       "      <td>None</td>\n",
       "      <td>None</td>\n",
       "      <td>None</td>\n",
       "      <td>None</td>\n",
       "      <td>None</td>\n",
       "      <td>None</td>\n",
       "    </tr>\n",
       "    <tr>\n",
       "      <th>478114</th>\n",
       "      <td>2072967855524022579</td>\n",
       "      <td>2636395404473730413</td>\n",
       "      <td>9148482949976129397</td>\n",
       "      <td>9173428221474519642</td>\n",
       "      <td>2033679869864207699</td>\n",
       "      <td>3965165427527476577</td>\n",
       "      <td>3257385717871127564</td>\n",
       "      <td>3810637967129387598</td>\n",
       "      <td>965463874480819860</td>\n",
       "      <td>8648011967513411146</td>\n",
       "      <td>...</td>\n",
       "      <td>None</td>\n",
       "      <td>None</td>\n",
       "      <td>None</td>\n",
       "      <td>None</td>\n",
       "      <td>None</td>\n",
       "      <td>None</td>\n",
       "      <td>None</td>\n",
       "      <td>None</td>\n",
       "      <td>None</td>\n",
       "      <td>None</td>\n",
       "    </tr>\n",
       "    <tr>\n",
       "      <th>478115</th>\n",
       "      <td>2072967855524022579</td>\n",
       "      <td>2636395404473730413</td>\n",
       "      <td>9148482949976129397</td>\n",
       "      <td>9173428221474519642</td>\n",
       "      <td>2033679869864207699</td>\n",
       "      <td>3965165427527476577</td>\n",
       "      <td>3257385717871127564</td>\n",
       "      <td>3810637967129387598</td>\n",
       "      <td>965463874480819860</td>\n",
       "      <td>8648011967513411146</td>\n",
       "      <td>...</td>\n",
       "      <td>None</td>\n",
       "      <td>None</td>\n",
       "      <td>None</td>\n",
       "      <td>None</td>\n",
       "      <td>None</td>\n",
       "      <td>None</td>\n",
       "      <td>None</td>\n",
       "      <td>None</td>\n",
       "      <td>None</td>\n",
       "      <td>None</td>\n",
       "    </tr>\n",
       "    <tr>\n",
       "      <th>478116</th>\n",
       "      <td>6491818071284064879</td>\n",
       "      <td>1765474776528274256</td>\n",
       "      <td>3994732721176203348</td>\n",
       "      <td>3258780649701680217</td>\n",
       "      <td>3455624626683061307</td>\n",
       "      <td>3455624626683061307</td>\n",
       "      <td>151059242947868029</td>\n",
       "      <td>1603197835366110366</td>\n",
       "      <td>3213018588298988339</td>\n",
       "      <td>4554657392447061165</td>\n",
       "      <td>...</td>\n",
       "      <td>None</td>\n",
       "      <td>None</td>\n",
       "      <td>None</td>\n",
       "      <td>None</td>\n",
       "      <td>None</td>\n",
       "      <td>None</td>\n",
       "      <td>None</td>\n",
       "      <td>None</td>\n",
       "      <td>None</td>\n",
       "      <td>None</td>\n",
       "    </tr>\n",
       "    <tr>\n",
       "      <th>478117</th>\n",
       "      <td>6491818071284064879</td>\n",
       "      <td>1765474776528274256</td>\n",
       "      <td>3994732721176203348</td>\n",
       "      <td>3258780649701680217</td>\n",
       "      <td>3455624626683061307</td>\n",
       "      <td>3455624626683061307</td>\n",
       "      <td>151059242947868029</td>\n",
       "      <td>1603197835366110366</td>\n",
       "      <td>3213018588298988339</td>\n",
       "      <td>4554657392447061165</td>\n",
       "      <td>...</td>\n",
       "      <td>None</td>\n",
       "      <td>None</td>\n",
       "      <td>None</td>\n",
       "      <td>None</td>\n",
       "      <td>None</td>\n",
       "      <td>None</td>\n",
       "      <td>None</td>\n",
       "      <td>None</td>\n",
       "      <td>None</td>\n",
       "      <td>None</td>\n",
       "    </tr>\n",
       "    <tr>\n",
       "      <th>478118</th>\n",
       "      <td>6491818071284064879</td>\n",
       "      <td>1765474776528274256</td>\n",
       "      <td>3994732721176203348</td>\n",
       "      <td>3258780649701680217</td>\n",
       "      <td>3455624626683061307</td>\n",
       "      <td>3455624626683061307</td>\n",
       "      <td>151059242947868029</td>\n",
       "      <td>1603197835366110366</td>\n",
       "      <td>3213018588298988339</td>\n",
       "      <td>4554657392447061165</td>\n",
       "      <td>...</td>\n",
       "      <td>None</td>\n",
       "      <td>None</td>\n",
       "      <td>None</td>\n",
       "      <td>None</td>\n",
       "      <td>None</td>\n",
       "      <td>None</td>\n",
       "      <td>None</td>\n",
       "      <td>None</td>\n",
       "      <td>None</td>\n",
       "      <td>None</td>\n",
       "    </tr>\n",
       "    <tr>\n",
       "      <th>478119</th>\n",
       "      <td>5131280576272319091</td>\n",
       "      <td>2636395404473730413</td>\n",
       "      <td>6116320173639482726</td>\n",
       "      <td>1013419034389836991</td>\n",
       "      <td>9148482949976129397</td>\n",
       "      <td>6491818071284064879</td>\n",
       "      <td>1681016445984867074</td>\n",
       "      <td>6072714026257332214</td>\n",
       "      <td>4678095570925618478</td>\n",
       "      <td>2033679869864207699</td>\n",
       "      <td>...</td>\n",
       "      <td>None</td>\n",
       "      <td>None</td>\n",
       "      <td>None</td>\n",
       "      <td>None</td>\n",
       "      <td>None</td>\n",
       "      <td>None</td>\n",
       "      <td>None</td>\n",
       "      <td>None</td>\n",
       "      <td>None</td>\n",
       "      <td>None</td>\n",
       "    </tr>\n",
       "    <tr>\n",
       "      <th>478120</th>\n",
       "      <td>5131280576272319091</td>\n",
       "      <td>2636395404473730413</td>\n",
       "      <td>6116320173639482726</td>\n",
       "      <td>1013419034389836991</td>\n",
       "      <td>9148482949976129397</td>\n",
       "      <td>6491818071284064879</td>\n",
       "      <td>1681016445984867074</td>\n",
       "      <td>6072714026257332214</td>\n",
       "      <td>4678095570925618478</td>\n",
       "      <td>2033679869864207699</td>\n",
       "      <td>...</td>\n",
       "      <td>None</td>\n",
       "      <td>None</td>\n",
       "      <td>None</td>\n",
       "      <td>None</td>\n",
       "      <td>None</td>\n",
       "      <td>None</td>\n",
       "      <td>None</td>\n",
       "      <td>None</td>\n",
       "      <td>None</td>\n",
       "      <td>None</td>\n",
       "    </tr>\n",
       "    <tr>\n",
       "      <th>478121</th>\n",
       "      <td>5131280576272319091</td>\n",
       "      <td>2636395404473730413</td>\n",
       "      <td>6116320173639482726</td>\n",
       "      <td>1013419034389836991</td>\n",
       "      <td>9148482949976129397</td>\n",
       "      <td>6491818071284064879</td>\n",
       "      <td>1681016445984867074</td>\n",
       "      <td>6072714026257332214</td>\n",
       "      <td>4678095570925618478</td>\n",
       "      <td>2033679869864207699</td>\n",
       "      <td>...</td>\n",
       "      <td>None</td>\n",
       "      <td>None</td>\n",
       "      <td>None</td>\n",
       "      <td>None</td>\n",
       "      <td>None</td>\n",
       "      <td>None</td>\n",
       "      <td>None</td>\n",
       "      <td>None</td>\n",
       "      <td>None</td>\n",
       "      <td>None</td>\n",
       "    </tr>\n",
       "    <tr>\n",
       "      <th>478122</th>\n",
       "      <td>6504077020244493300</td>\n",
       "      <td>1243768796732904674</td>\n",
       "      <td>6434796455031995313</td>\n",
       "      <td>3657871859501171040</td>\n",
       "      <td>6491818071284064879</td>\n",
       "      <td>216555019471416386</td>\n",
       "      <td>720840888466250585</td>\n",
       "      <td>8452679086468090561</td>\n",
       "      <td>6296485275518770064</td>\n",
       "      <td>3741959602660197915</td>\n",
       "      <td>...</td>\n",
       "      <td>None</td>\n",
       "      <td>None</td>\n",
       "      <td>None</td>\n",
       "      <td>None</td>\n",
       "      <td>None</td>\n",
       "      <td>None</td>\n",
       "      <td>None</td>\n",
       "      <td>None</td>\n",
       "      <td>None</td>\n",
       "      <td>None</td>\n",
       "    </tr>\n",
       "    <tr>\n",
       "      <th>478123</th>\n",
       "      <td>2636395404473730413</td>\n",
       "      <td>422690147597355277</td>\n",
       "      <td>9148482949976129397</td>\n",
       "      <td>6072714026257332214</td>\n",
       "      <td>4678095570925618478</td>\n",
       "      <td>2033679869864207699</td>\n",
       "      <td>3965165427527476577</td>\n",
       "      <td>7422828355050797095</td>\n",
       "      <td>6844128309230439917</td>\n",
       "      <td>5982451250981091869</td>\n",
       "      <td>...</td>\n",
       "      <td>None</td>\n",
       "      <td>None</td>\n",
       "      <td>None</td>\n",
       "      <td>None</td>\n",
       "      <td>None</td>\n",
       "      <td>None</td>\n",
       "      <td>None</td>\n",
       "      <td>None</td>\n",
       "      <td>None</td>\n",
       "      <td>None</td>\n",
       "    </tr>\n",
       "    <tr>\n",
       "      <th>478124</th>\n",
       "      <td>2636395404473730413</td>\n",
       "      <td>4621934203383159480</td>\n",
       "      <td>3163265386149801264</td>\n",
       "      <td>3657871859501171040</td>\n",
       "      <td>6072714026257332214</td>\n",
       "      <td>2033679869864207699</td>\n",
       "      <td>720840888466250585</td>\n",
       "      <td>2008359857263316777</td>\n",
       "      <td>2008359857263316777</td>\n",
       "      <td>4594434944507202637</td>\n",
       "      <td>...</td>\n",
       "      <td>None</td>\n",
       "      <td>None</td>\n",
       "      <td>None</td>\n",
       "      <td>None</td>\n",
       "      <td>None</td>\n",
       "      <td>None</td>\n",
       "      <td>None</td>\n",
       "      <td>None</td>\n",
       "      <td>None</td>\n",
       "      <td>None</td>\n",
       "    </tr>\n",
       "    <tr>\n",
       "      <th>478125</th>\n",
       "      <td>2636395404473730413</td>\n",
       "      <td>422690147597355277</td>\n",
       "      <td>9148482949976129397</td>\n",
       "      <td>6072714026257332214</td>\n",
       "      <td>4678095570925618478</td>\n",
       "      <td>2033679869864207699</td>\n",
       "      <td>3965165427527476577</td>\n",
       "      <td>7422828355050797095</td>\n",
       "      <td>6844128309230439917</td>\n",
       "      <td>5982451250981091869</td>\n",
       "      <td>...</td>\n",
       "      <td>None</td>\n",
       "      <td>None</td>\n",
       "      <td>None</td>\n",
       "      <td>None</td>\n",
       "      <td>None</td>\n",
       "      <td>None</td>\n",
       "      <td>None</td>\n",
       "      <td>None</td>\n",
       "      <td>None</td>\n",
       "      <td>None</td>\n",
       "    </tr>\n",
       "    <tr>\n",
       "      <th>478126</th>\n",
       "      <td>2636395404473730413</td>\n",
       "      <td>7344985833148694227</td>\n",
       "      <td>8851425427477388664</td>\n",
       "      <td>3657871859501171040</td>\n",
       "      <td>6072714026257332214</td>\n",
       "      <td>2033679869864207699</td>\n",
       "      <td>2008359857263316777</td>\n",
       "      <td>1927651215658337240</td>\n",
       "      <td>3260324507836519652</td>\n",
       "      <td>4557333467732078071</td>\n",
       "      <td>...</td>\n",
       "      <td>None</td>\n",
       "      <td>None</td>\n",
       "      <td>None</td>\n",
       "      <td>None</td>\n",
       "      <td>None</td>\n",
       "      <td>None</td>\n",
       "      <td>None</td>\n",
       "      <td>None</td>\n",
       "      <td>None</td>\n",
       "      <td>None</td>\n",
       "    </tr>\n",
       "    <tr>\n",
       "      <th>478127</th>\n",
       "      <td>6504077020244493300</td>\n",
       "      <td>1243768796732904674</td>\n",
       "      <td>6434796455031995313</td>\n",
       "      <td>3657871859501171040</td>\n",
       "      <td>6491818071284064879</td>\n",
       "      <td>216555019471416386</td>\n",
       "      <td>720840888466250585</td>\n",
       "      <td>8452679086468090561</td>\n",
       "      <td>6296485275518770064</td>\n",
       "      <td>3741959602660197915</td>\n",
       "      <td>...</td>\n",
       "      <td>None</td>\n",
       "      <td>None</td>\n",
       "      <td>None</td>\n",
       "      <td>None</td>\n",
       "      <td>None</td>\n",
       "      <td>None</td>\n",
       "      <td>None</td>\n",
       "      <td>None</td>\n",
       "      <td>None</td>\n",
       "      <td>None</td>\n",
       "    </tr>\n",
       "    <tr>\n",
       "      <th>478128</th>\n",
       "      <td>2636395404473730413</td>\n",
       "      <td>3163265386149801264</td>\n",
       "      <td>7344985833148694227</td>\n",
       "      <td>1243768796732904674</td>\n",
       "      <td>1013419034389836991</td>\n",
       "      <td>1530585142987372715</td>\n",
       "      <td>1782439090818545916</td>\n",
       "      <td>5117290135792467652</td>\n",
       "      <td>9172976955054793469</td>\n",
       "      <td>2302854195654097523</td>\n",
       "      <td>...</td>\n",
       "      <td>None</td>\n",
       "      <td>None</td>\n",
       "      <td>None</td>\n",
       "      <td>None</td>\n",
       "      <td>None</td>\n",
       "      <td>None</td>\n",
       "      <td>None</td>\n",
       "      <td>None</td>\n",
       "      <td>None</td>\n",
       "      <td>None</td>\n",
       "    </tr>\n",
       "    <tr>\n",
       "      <th>478129</th>\n",
       "      <td>2636395404473730413</td>\n",
       "      <td>7344985833148694227</td>\n",
       "      <td>8851425427477388664</td>\n",
       "      <td>3657871859501171040</td>\n",
       "      <td>6072714026257332214</td>\n",
       "      <td>2033679869864207699</td>\n",
       "      <td>2008359857263316777</td>\n",
       "      <td>1927651215658337240</td>\n",
       "      <td>3260324507836519652</td>\n",
       "      <td>4557333467732078071</td>\n",
       "      <td>...</td>\n",
       "      <td>None</td>\n",
       "      <td>None</td>\n",
       "      <td>None</td>\n",
       "      <td>None</td>\n",
       "      <td>None</td>\n",
       "      <td>None</td>\n",
       "      <td>None</td>\n",
       "      <td>None</td>\n",
       "      <td>None</td>\n",
       "      <td>None</td>\n",
       "    </tr>\n",
       "    <tr>\n",
       "      <th>478130</th>\n",
       "      <td>2636395404473730413</td>\n",
       "      <td>2488701964620097331</td>\n",
       "      <td>1243768796732904674</td>\n",
       "      <td>9148482949976129397</td>\n",
       "      <td>4678095570925618478</td>\n",
       "      <td>2033679869864207699</td>\n",
       "      <td>3965165427527476577</td>\n",
       "      <td>1782439090818545916</td>\n",
       "      <td>5982451250981091869</td>\n",
       "      <td>4696616841982410243</td>\n",
       "      <td>...</td>\n",
       "      <td>None</td>\n",
       "      <td>None</td>\n",
       "      <td>None</td>\n",
       "      <td>None</td>\n",
       "      <td>None</td>\n",
       "      <td>None</td>\n",
       "      <td>None</td>\n",
       "      <td>None</td>\n",
       "      <td>None</td>\n",
       "      <td>None</td>\n",
       "    </tr>\n",
       "    <tr>\n",
       "      <th>478131</th>\n",
       "      <td>5131280576272319091</td>\n",
       "      <td>2636395404473730413</td>\n",
       "      <td>1210779090663804691</td>\n",
       "      <td>4621934203383159480</td>\n",
       "      <td>7515802706813700848</td>\n",
       "      <td>7344985833148694227</td>\n",
       "      <td>8190366128343404781</td>\n",
       "      <td>8070395809181082496</td>\n",
       "      <td>8851425427477388664</td>\n",
       "      <td>1243768796732904674</td>\n",
       "      <td>...</td>\n",
       "      <td>None</td>\n",
       "      <td>None</td>\n",
       "      <td>None</td>\n",
       "      <td>None</td>\n",
       "      <td>None</td>\n",
       "      <td>None</td>\n",
       "      <td>None</td>\n",
       "      <td>None</td>\n",
       "      <td>None</td>\n",
       "      <td>None</td>\n",
       "    </tr>\n",
       "    <tr>\n",
       "      <th>478132</th>\n",
       "      <td>5131280576272319091</td>\n",
       "      <td>2636395404473730413</td>\n",
       "      <td>1210779090663804691</td>\n",
       "      <td>4621934203383159480</td>\n",
       "      <td>7515802706813700848</td>\n",
       "      <td>7344985833148694227</td>\n",
       "      <td>8190366128343404781</td>\n",
       "      <td>8070395809181082496</td>\n",
       "      <td>8851425427477388664</td>\n",
       "      <td>1243768796732904674</td>\n",
       "      <td>...</td>\n",
       "      <td>None</td>\n",
       "      <td>None</td>\n",
       "      <td>None</td>\n",
       "      <td>None</td>\n",
       "      <td>None</td>\n",
       "      <td>None</td>\n",
       "      <td>None</td>\n",
       "      <td>None</td>\n",
       "      <td>None</td>\n",
       "      <td>None</td>\n",
       "    </tr>\n",
       "    <tr>\n",
       "      <th>478133</th>\n",
       "      <td>5131280576272319091</td>\n",
       "      <td>2636395404473730413</td>\n",
       "      <td>1210779090663804691</td>\n",
       "      <td>4621934203383159480</td>\n",
       "      <td>7515802706813700848</td>\n",
       "      <td>7344985833148694227</td>\n",
       "      <td>8190366128343404781</td>\n",
       "      <td>8070395809181082496</td>\n",
       "      <td>8851425427477388664</td>\n",
       "      <td>1243768796732904674</td>\n",
       "      <td>...</td>\n",
       "      <td>None</td>\n",
       "      <td>None</td>\n",
       "      <td>None</td>\n",
       "      <td>None</td>\n",
       "      <td>None</td>\n",
       "      <td>None</td>\n",
       "      <td>None</td>\n",
       "      <td>None</td>\n",
       "      <td>None</td>\n",
       "      <td>None</td>\n",
       "    </tr>\n",
       "    <tr>\n",
       "      <th>478134</th>\n",
       "      <td>5131280576272319091</td>\n",
       "      <td>2636395404473730413</td>\n",
       "      <td>1210779090663804691</td>\n",
       "      <td>4621934203383159480</td>\n",
       "      <td>7515802706813700848</td>\n",
       "      <td>7344985833148694227</td>\n",
       "      <td>8190366128343404781</td>\n",
       "      <td>8070395809181082496</td>\n",
       "      <td>8851425427477388664</td>\n",
       "      <td>1243768796732904674</td>\n",
       "      <td>...</td>\n",
       "      <td>None</td>\n",
       "      <td>None</td>\n",
       "      <td>None</td>\n",
       "      <td>None</td>\n",
       "      <td>None</td>\n",
       "      <td>None</td>\n",
       "      <td>None</td>\n",
       "      <td>None</td>\n",
       "      <td>None</td>\n",
       "      <td>None</td>\n",
       "    </tr>\n",
       "    <tr>\n",
       "      <th>478135</th>\n",
       "      <td>5131280576272319091</td>\n",
       "      <td>2636395404473730413</td>\n",
       "      <td>1210779090663804691</td>\n",
       "      <td>4621934203383159480</td>\n",
       "      <td>7515802706813700848</td>\n",
       "      <td>7344985833148694227</td>\n",
       "      <td>8190366128343404781</td>\n",
       "      <td>8070395809181082496</td>\n",
       "      <td>8851425427477388664</td>\n",
       "      <td>1243768796732904674</td>\n",
       "      <td>...</td>\n",
       "      <td>None</td>\n",
       "      <td>None</td>\n",
       "      <td>None</td>\n",
       "      <td>None</td>\n",
       "      <td>None</td>\n",
       "      <td>None</td>\n",
       "      <td>None</td>\n",
       "      <td>None</td>\n",
       "      <td>None</td>\n",
       "      <td>None</td>\n",
       "    </tr>\n",
       "    <tr>\n",
       "      <th>478136</th>\n",
       "      <td>5131280576272319091</td>\n",
       "      <td>2636395404473730413</td>\n",
       "      <td>1210779090663804691</td>\n",
       "      <td>4621934203383159480</td>\n",
       "      <td>7515802706813700848</td>\n",
       "      <td>7344985833148694227</td>\n",
       "      <td>8190366128343404781</td>\n",
       "      <td>8070395809181082496</td>\n",
       "      <td>8851425427477388664</td>\n",
       "      <td>1243768796732904674</td>\n",
       "      <td>...</td>\n",
       "      <td>None</td>\n",
       "      <td>None</td>\n",
       "      <td>None</td>\n",
       "      <td>None</td>\n",
       "      <td>None</td>\n",
       "      <td>None</td>\n",
       "      <td>None</td>\n",
       "      <td>None</td>\n",
       "      <td>None</td>\n",
       "      <td>None</td>\n",
       "    </tr>\n",
       "    <tr>\n",
       "      <th>478137</th>\n",
       "      <td>5131280576272319091</td>\n",
       "      <td>2636395404473730413</td>\n",
       "      <td>6259453346544304519</td>\n",
       "      <td>439304260594257401</td>\n",
       "      <td>8206980241340306905</td>\n",
       "      <td>2472087851623195207</td>\n",
       "      <td>6434796455031995313</td>\n",
       "      <td>3657871859501171040</td>\n",
       "      <td>216555019471416386</td>\n",
       "      <td>3389655258388203472</td>\n",
       "      <td>...</td>\n",
       "      <td>None</td>\n",
       "      <td>None</td>\n",
       "      <td>None</td>\n",
       "      <td>None</td>\n",
       "      <td>None</td>\n",
       "      <td>None</td>\n",
       "      <td>None</td>\n",
       "      <td>None</td>\n",
       "      <td>None</td>\n",
       "      <td>None</td>\n",
       "    </tr>\n",
       "  </tbody>\n",
       "</table>\n",
       "<p>478138 rows × 100 columns</p>\n",
       "</div>"
      ],
      "text/plain": [
       "            item_property_0      item_property_1      item_property_2  \\\n",
       "0       2072967855524022579  5131280576272319091  2636395404473730413   \n",
       "1       2072967855524022579  5131280576272319091  2636395404473730413   \n",
       "2       2072967855524022579  5131280576272319091  2636395404473730413   \n",
       "3       2072967855524022579  5131280576272319091  2636395404473730413   \n",
       "4       2072967855524022579  5131280576272319091  2636395404473730413   \n",
       "5       2072967855524022579  5131280576272319091  2636395404473730413   \n",
       "6       2072967855524022579  5131280576272319091  2636395404473730413   \n",
       "7       2072967855524022579  5131280576272319091  2636395404473730413   \n",
       "8       2072967855524022579  5131280576272319091  2636395404473730413   \n",
       "9       2072967855524022579  5131280576272319091  2636395404473730413   \n",
       "10      2072967855524022579  5131280576272319091  2636395404473730413   \n",
       "11      2072967855524022579  5131280576272319091  2636395404473730413   \n",
       "12      2072967855524022579  5131280576272319091  2636395404473730413   \n",
       "13      2072967855524022579  5131280576272319091  2636395404473730413   \n",
       "14      2072967855524022579  5131280576272319091  2636395404473730413   \n",
       "15      2072967855524022579  5131280576272319091  2636395404473730413   \n",
       "16      2072967855524022579  5131280576272319091  2636395404473730413   \n",
       "17      2072967855524022579  5131280576272319091  2636395404473730413   \n",
       "18      2072967855524022579  5131280576272319091  2636395404473730413   \n",
       "19      2072967855524022579  5131280576272319091  2636395404473730413   \n",
       "20      2072967855524022579  5131280576272319091  2636395404473730413   \n",
       "21      2072967855524022579  5131280576272319091  2636395404473730413   \n",
       "22      2072967855524022579  5131280576272319091  2636395404473730413   \n",
       "23      2072967855524022579  5131280576272319091  2636395404473730413   \n",
       "24      2072967855524022579  5131280576272319091  2636395404473730413   \n",
       "25      2072967855524022579  5131280576272319091  2636395404473730413   \n",
       "26      2072967855524022579  5131280576272319091  2636395404473730413   \n",
       "27      2072967855524022579  5131280576272319091  2636395404473730413   \n",
       "28      2072967855524022579  5131280576272319091  2636395404473730413   \n",
       "29      2072967855524022579  2636395404473730413  4621934203383159480   \n",
       "...                     ...                  ...                  ...   \n",
       "478108  5131280576272319091  4621934203383159480  7344985833148694227   \n",
       "478109  5131280576272319091  4621934203383159480  7344985833148694227   \n",
       "478110  5131280576272319091  4621934203383159480  7344985833148694227   \n",
       "478111  5131280576272319091  4621934203383159480  7344985833148694227   \n",
       "478112  2072967855524022579  2072967855524022579  2636395404473730413   \n",
       "478113  5977512434884267894  2072967855524022579  2072967855524022579   \n",
       "478114  2072967855524022579  2636395404473730413  9148482949976129397   \n",
       "478115  2072967855524022579  2636395404473730413  9148482949976129397   \n",
       "478116  6491818071284064879  1765474776528274256  3994732721176203348   \n",
       "478117  6491818071284064879  1765474776528274256  3994732721176203348   \n",
       "478118  6491818071284064879  1765474776528274256  3994732721176203348   \n",
       "478119  5131280576272319091  2636395404473730413  6116320173639482726   \n",
       "478120  5131280576272319091  2636395404473730413  6116320173639482726   \n",
       "478121  5131280576272319091  2636395404473730413  6116320173639482726   \n",
       "478122  6504077020244493300  1243768796732904674  6434796455031995313   \n",
       "478123  2636395404473730413   422690147597355277  9148482949976129397   \n",
       "478124  2636395404473730413  4621934203383159480  3163265386149801264   \n",
       "478125  2636395404473730413   422690147597355277  9148482949976129397   \n",
       "478126  2636395404473730413  7344985833148694227  8851425427477388664   \n",
       "478127  6504077020244493300  1243768796732904674  6434796455031995313   \n",
       "478128  2636395404473730413  3163265386149801264  7344985833148694227   \n",
       "478129  2636395404473730413  7344985833148694227  8851425427477388664   \n",
       "478130  2636395404473730413  2488701964620097331  1243768796732904674   \n",
       "478131  5131280576272319091  2636395404473730413  1210779090663804691   \n",
       "478132  5131280576272319091  2636395404473730413  1210779090663804691   \n",
       "478133  5131280576272319091  2636395404473730413  1210779090663804691   \n",
       "478134  5131280576272319091  2636395404473730413  1210779090663804691   \n",
       "478135  5131280576272319091  2636395404473730413  1210779090663804691   \n",
       "478136  5131280576272319091  2636395404473730413  1210779090663804691   \n",
       "478137  5131280576272319091  2636395404473730413  6259453346544304519   \n",
       "\n",
       "            item_property_3      item_property_4      item_property_5  \\\n",
       "0       8070395809181082496  6434796455031995313  7839592306500064003   \n",
       "1       8070395809181082496  6434796455031995313  7839592306500064003   \n",
       "2       8070395809181082496  6434796455031995313  7839592306500064003   \n",
       "3       8070395809181082496  6434796455031995313  7839592306500064003   \n",
       "4       8070395809181082496  6434796455031995313  7839592306500064003   \n",
       "5       8070395809181082496  6434796455031995313  7839592306500064003   \n",
       "6       9148482949976129397  7199361004668592209  4678095570925618478   \n",
       "7       9148482949976129397  7199361004668592209  4678095570925618478   \n",
       "8       6556896890082244813  3657871859501171040  9173428221474519642   \n",
       "9       9148482949976129397  7199361004668592209  4678095570925618478   \n",
       "10      9148482949976129397  7199361004668592209  4678095570925618478   \n",
       "11      6556896890082244813  3657871859501171040  9173428221474519642   \n",
       "12      9148482949976129397  7199361004668592209  4678095570925618478   \n",
       "13      9148482949976129397  7199361004668592209  4678095570925618478   \n",
       "14      9148482949976129397  7199361004668592209  4678095570925618478   \n",
       "15      9148482949976129397  7199361004668592209  4678095570925618478   \n",
       "16      6556896890082244813  3657871859501171040  9173428221474519642   \n",
       "17      6556896890082244813  3657871859501171040  9173428221474519642   \n",
       "18      9148482949976129397  7199361004668592209  4678095570925618478   \n",
       "19      9148482949976129397  7199361004668592209  4678095570925618478   \n",
       "20      9148482949976129397  7199361004668592209  4678095570925618478   \n",
       "21      9148482949976129397  7199361004668592209  4678095570925618478   \n",
       "22      6556896890082244813  3657871859501171040  9173428221474519642   \n",
       "23      6556896890082244813  3657871859501171040  9173428221474519642   \n",
       "24      6556896890082244813  3657871859501171040  9173428221474519642   \n",
       "25      6556896890082244813  3657871859501171040  9173428221474519642   \n",
       "26      9148482949976129397  7199361004668592209  4678095570925618478   \n",
       "27      6556896890082244813  3657871859501171040  9173428221474519642   \n",
       "28      9148482949976129397  7199361004668592209  4678095570925618478   \n",
       "29      7515802706813700848  1530585142987372715  1782439090818545916   \n",
       "...                     ...                  ...                  ...   \n",
       "478108  2488701964620097331  4067341101015777832  8070395809181082496   \n",
       "478109  2488701964620097331  4067341101015777832  8070395809181082496   \n",
       "478110  2488701964620097331  4067341101015777832  8070395809181082496   \n",
       "478111  2488701964620097331  4067341101015777832  8070395809181082496   \n",
       "478112  1530585142987372715  4875993958863530301  6401472442083349636   \n",
       "478113  5131280576272319091  2636395404473730413  4875993958863530301   \n",
       "478114  9173428221474519642  2033679869864207699  3965165427527476577   \n",
       "478115  9173428221474519642  2033679869864207699  3965165427527476577   \n",
       "478116  3258780649701680217  3455624626683061307  3455624626683061307   \n",
       "478117  3258780649701680217  3455624626683061307  3455624626683061307   \n",
       "478118  3258780649701680217  3455624626683061307  3455624626683061307   \n",
       "478119  1013419034389836991  9148482949976129397  6491818071284064879   \n",
       "478120  1013419034389836991  9148482949976129397  6491818071284064879   \n",
       "478121  1013419034389836991  9148482949976129397  6491818071284064879   \n",
       "478122  3657871859501171040  6491818071284064879   216555019471416386   \n",
       "478123  6072714026257332214  4678095570925618478  2033679869864207699   \n",
       "478124  3657871859501171040  6072714026257332214  2033679869864207699   \n",
       "478125  6072714026257332214  4678095570925618478  2033679869864207699   \n",
       "478126  3657871859501171040  6072714026257332214  2033679869864207699   \n",
       "478127  3657871859501171040  6491818071284064879   216555019471416386   \n",
       "478128  1243768796732904674  1013419034389836991  1530585142987372715   \n",
       "478129  3657871859501171040  6072714026257332214  2033679869864207699   \n",
       "478130  9148482949976129397  4678095570925618478  2033679869864207699   \n",
       "478131  4621934203383159480  7515802706813700848  7344985833148694227   \n",
       "478132  4621934203383159480  7515802706813700848  7344985833148694227   \n",
       "478133  4621934203383159480  7515802706813700848  7344985833148694227   \n",
       "478134  4621934203383159480  7515802706813700848  7344985833148694227   \n",
       "478135  4621934203383159480  7515802706813700848  7344985833148694227   \n",
       "478136  4621934203383159480  7515802706813700848  7344985833148694227   \n",
       "478137   439304260594257401  8206980241340306905  2472087851623195207   \n",
       "\n",
       "            item_property_6      item_property_7      item_property_8  \\\n",
       "0       3657871859501171040  1782439090818545916  6936314038707413523   \n",
       "1       3657871859501171040  1782439090818545916  6936314038707413523   \n",
       "2       3657871859501171040  1782439090818545916  6936314038707413523   \n",
       "3       3657871859501171040  1782439090818545916  6936314038707413523   \n",
       "4       3657871859501171040  1782439090818545916  6936314038707413523   \n",
       "5       3657871859501171040  1782439090818545916  6936314038707413523   \n",
       "6       2033679869864207699  3802510553218572927  1782439090818545916   \n",
       "7       2033679869864207699  3802510553218572927  1782439090818545916   \n",
       "8       2253152183208719552   357954758031852148  3765394546174375916   \n",
       "9       2033679869864207699  3802510553218572927  1782439090818545916   \n",
       "10      2033679869864207699  3802510553218572927  1782439090818545916   \n",
       "11      2253152183208719552   357954758031852148  3765394546174375916   \n",
       "12      2033679869864207699  3802510553218572927  1782439090818545916   \n",
       "13      2033679869864207699  3802510553218572927  1782439090818545916   \n",
       "14      2033679869864207699  3802510553218572927  1782439090818545916   \n",
       "15      2033679869864207699  3802510553218572927  1782439090818545916   \n",
       "16      2253152183208719552   357954758031852148  3765394546174375916   \n",
       "17      2253152183208719552   357954758031852148  3765394546174375916   \n",
       "18      2033679869864207699  3802510553218572927  1782439090818545916   \n",
       "19      2033679869864207699  3802510553218572927  1782439090818545916   \n",
       "20      2033679869864207699  3802510553218572927  1782439090818545916   \n",
       "21      2033679869864207699  3802510553218572927  1782439090818545916   \n",
       "22      2253152183208719552   357954758031852148  3765394546174375916   \n",
       "23      2253152183208719552   357954758031852148  3765394546174375916   \n",
       "24      2253152183208719552   357954758031852148  3765394546174375916   \n",
       "25      2253152183208719552   357954758031852148  3765394546174375916   \n",
       "26      2033679869864207699  3802510553218572927  1782439090818545916   \n",
       "27      2253152183208719552   357954758031852148  3765394546174375916   \n",
       "28      2033679869864207699  3802510553218572927  1782439090818545916   \n",
       "29      3009186296901310904  5117290135792467652   720840888466250585   \n",
       "...                     ...                  ...                  ...   \n",
       "478108  8851425427477388664  6523907184013144830  1243768796732904674   \n",
       "478109  8851425427477388664  6523907184013144830  1243768796732904674   \n",
       "478110  8851425427477388664  6523907184013144830  1243768796732904674   \n",
       "478111  8851425427477388664  6523907184013144830  1243768796732904674   \n",
       "478112  5754228743327842435  5117290135792467652  8808499482223878904   \n",
       "478113  6491818071284064879  3994732721176203348  3258780649701680217   \n",
       "478114  3257385717871127564  3810637967129387598   965463874480819860   \n",
       "478115  3257385717871127564  3810637967129387598   965463874480819860   \n",
       "478116   151059242947868029  1603197835366110366  3213018588298988339   \n",
       "478117   151059242947868029  1603197835366110366  3213018588298988339   \n",
       "478118   151059242947868029  1603197835366110366  3213018588298988339   \n",
       "478119  1681016445984867074  6072714026257332214  4678095570925618478   \n",
       "478120  1681016445984867074  6072714026257332214  4678095570925618478   \n",
       "478121  1681016445984867074  6072714026257332214  4678095570925618478   \n",
       "478122   720840888466250585  8452679086468090561  6296485275518770064   \n",
       "478123  3965165427527476577  7422828355050797095  6844128309230439917   \n",
       "478124   720840888466250585  2008359857263316777  2008359857263316777   \n",
       "478125  3965165427527476577  7422828355050797095  6844128309230439917   \n",
       "478126  2008359857263316777  1927651215658337240  3260324507836519652   \n",
       "478127   720840888466250585  8452679086468090561  6296485275518770064   \n",
       "478128  1782439090818545916  5117290135792467652  9172976955054793469   \n",
       "478129  2008359857263316777  1927651215658337240  3260324507836519652   \n",
       "478130  3965165427527476577  1782439090818545916  5982451250981091869   \n",
       "478131  8190366128343404781  8070395809181082496  8851425427477388664   \n",
       "478132  8190366128343404781  8070395809181082496  8851425427477388664   \n",
       "478133  8190366128343404781  8070395809181082496  8851425427477388664   \n",
       "478134  8190366128343404781  8070395809181082496  8851425427477388664   \n",
       "478135  8190366128343404781  8070395809181082496  8851425427477388664   \n",
       "478136  8190366128343404781  8070395809181082496  8851425427477388664   \n",
       "478137  6434796455031995313  3657871859501171040   216555019471416386   \n",
       "\n",
       "            item_property_9       ...        item_property_90  \\\n",
       "0       5117290135792467652       ...                    None   \n",
       "1       5117290135792467652       ...                    None   \n",
       "2       5117290135792467652       ...                    None   \n",
       "3       5117290135792467652       ...                    None   \n",
       "4       5117290135792467652       ...                    None   \n",
       "5       5117290135792467652       ...                    None   \n",
       "6        820214312075361939       ...                    None   \n",
       "7        820214312075361939       ...                    None   \n",
       "8       8808957892062587408       ...                    None   \n",
       "9        820214312075361939       ...                    None   \n",
       "10       820214312075361939       ...                    None   \n",
       "11      8808957892062587408       ...                    None   \n",
       "12       820214312075361939       ...                    None   \n",
       "13       820214312075361939       ...                    None   \n",
       "14       820214312075361939       ...                    None   \n",
       "15       820214312075361939       ...                    None   \n",
       "16      8808957892062587408       ...                    None   \n",
       "17      8808957892062587408       ...                    None   \n",
       "18       820214312075361939       ...                    None   \n",
       "19       820214312075361939       ...                    None   \n",
       "20       820214312075361939       ...                    None   \n",
       "21       820214312075361939       ...                    None   \n",
       "22      8808957892062587408       ...                    None   \n",
       "23      8808957892062587408       ...                    None   \n",
       "24      8808957892062587408       ...                    None   \n",
       "25      8808957892062587408       ...                    None   \n",
       "26       820214312075361939       ...                    None   \n",
       "27      8808957892062587408       ...                    None   \n",
       "28       820214312075361939       ...                    None   \n",
       "29       357954758031852148       ...                    None   \n",
       "...                     ...       ...                     ...   \n",
       "478108  9148482949976129397       ...                    None   \n",
       "478109  9148482949976129397       ...                    None   \n",
       "478110  9148482949976129397       ...                    None   \n",
       "478111  9148482949976129397       ...                    None   \n",
       "478112  1534618255187127624       ...                    None   \n",
       "478113  8338504423417695564       ...                    None   \n",
       "478114  8648011967513411146       ...                    None   \n",
       "478115  8648011967513411146       ...                    None   \n",
       "478116  4554657392447061165       ...                    None   \n",
       "478117  4554657392447061165       ...                    None   \n",
       "478118  4554657392447061165       ...                    None   \n",
       "478119  2033679869864207699       ...                    None   \n",
       "478120  2033679869864207699       ...                    None   \n",
       "478121  2033679869864207699       ...                    None   \n",
       "478122  3741959602660197915       ...                    None   \n",
       "478123  5982451250981091869       ...                    None   \n",
       "478124  4594434944507202637       ...                    None   \n",
       "478125  5982451250981091869       ...                    None   \n",
       "478126  4557333467732078071       ...                    None   \n",
       "478127  3741959602660197915       ...                    None   \n",
       "478128  2302854195654097523       ...                    None   \n",
       "478129  4557333467732078071       ...                    None   \n",
       "478130  4696616841982410243       ...                    None   \n",
       "478131  1243768796732904674       ...                    None   \n",
       "478132  1243768796732904674       ...                    None   \n",
       "478133  1243768796732904674       ...                    None   \n",
       "478134  1243768796732904674       ...                    None   \n",
       "478135  1243768796732904674       ...                    None   \n",
       "478136  1243768796732904674       ...                    None   \n",
       "478137  3389655258388203472       ...                    None   \n",
       "\n",
       "       item_property_91 item_property_92 item_property_93 item_property_94  \\\n",
       "0                  None             None             None             None   \n",
       "1                  None             None             None             None   \n",
       "2                  None             None             None             None   \n",
       "3                  None             None             None             None   \n",
       "4                  None             None             None             None   \n",
       "5                  None             None             None             None   \n",
       "6                  None             None             None             None   \n",
       "7                  None             None             None             None   \n",
       "8                  None             None             None             None   \n",
       "9                  None             None             None             None   \n",
       "10                 None             None             None             None   \n",
       "11                 None             None             None             None   \n",
       "12                 None             None             None             None   \n",
       "13                 None             None             None             None   \n",
       "14                 None             None             None             None   \n",
       "15                 None             None             None             None   \n",
       "16                 None             None             None             None   \n",
       "17                 None             None             None             None   \n",
       "18                 None             None             None             None   \n",
       "19                 None             None             None             None   \n",
       "20                 None             None             None             None   \n",
       "21                 None             None             None             None   \n",
       "22                 None             None             None             None   \n",
       "23                 None             None             None             None   \n",
       "24                 None             None             None             None   \n",
       "25                 None             None             None             None   \n",
       "26                 None             None             None             None   \n",
       "27                 None             None             None             None   \n",
       "28                 None             None             None             None   \n",
       "29                 None             None             None             None   \n",
       "...                 ...              ...              ...              ...   \n",
       "478108             None             None             None             None   \n",
       "478109             None             None             None             None   \n",
       "478110             None             None             None             None   \n",
       "478111             None             None             None             None   \n",
       "478112             None             None             None             None   \n",
       "478113             None             None             None             None   \n",
       "478114             None             None             None             None   \n",
       "478115             None             None             None             None   \n",
       "478116             None             None             None             None   \n",
       "478117             None             None             None             None   \n",
       "478118             None             None             None             None   \n",
       "478119             None             None             None             None   \n",
       "478120             None             None             None             None   \n",
       "478121             None             None             None             None   \n",
       "478122             None             None             None             None   \n",
       "478123             None             None             None             None   \n",
       "478124             None             None             None             None   \n",
       "478125             None             None             None             None   \n",
       "478126             None             None             None             None   \n",
       "478127             None             None             None             None   \n",
       "478128             None             None             None             None   \n",
       "478129             None             None             None             None   \n",
       "478130             None             None             None             None   \n",
       "478131             None             None             None             None   \n",
       "478132             None             None             None             None   \n",
       "478133             None             None             None             None   \n",
       "478134             None             None             None             None   \n",
       "478135             None             None             None             None   \n",
       "478136             None             None             None             None   \n",
       "478137             None             None             None             None   \n",
       "\n",
       "       item_property_95 item_property_96 item_property_97 item_property_98  \\\n",
       "0                  None             None             None             None   \n",
       "1                  None             None             None             None   \n",
       "2                  None             None             None             None   \n",
       "3                  None             None             None             None   \n",
       "4                  None             None             None             None   \n",
       "5                  None             None             None             None   \n",
       "6                  None             None             None             None   \n",
       "7                  None             None             None             None   \n",
       "8                  None             None             None             None   \n",
       "9                  None             None             None             None   \n",
       "10                 None             None             None             None   \n",
       "11                 None             None             None             None   \n",
       "12                 None             None             None             None   \n",
       "13                 None             None             None             None   \n",
       "14                 None             None             None             None   \n",
       "15                 None             None             None             None   \n",
       "16                 None             None             None             None   \n",
       "17                 None             None             None             None   \n",
       "18                 None             None             None             None   \n",
       "19                 None             None             None             None   \n",
       "20                 None             None             None             None   \n",
       "21                 None             None             None             None   \n",
       "22                 None             None             None             None   \n",
       "23                 None             None             None             None   \n",
       "24                 None             None             None             None   \n",
       "25                 None             None             None             None   \n",
       "26                 None             None             None             None   \n",
       "27                 None             None             None             None   \n",
       "28                 None             None             None             None   \n",
       "29                 None             None             None             None   \n",
       "...                 ...              ...              ...              ...   \n",
       "478108             None             None             None             None   \n",
       "478109             None             None             None             None   \n",
       "478110             None             None             None             None   \n",
       "478111             None             None             None             None   \n",
       "478112             None             None             None             None   \n",
       "478113             None             None             None             None   \n",
       "478114             None             None             None             None   \n",
       "478115             None             None             None             None   \n",
       "478116             None             None             None             None   \n",
       "478117             None             None             None             None   \n",
       "478118             None             None             None             None   \n",
       "478119             None             None             None             None   \n",
       "478120             None             None             None             None   \n",
       "478121             None             None             None             None   \n",
       "478122             None             None             None             None   \n",
       "478123             None             None             None             None   \n",
       "478124             None             None             None             None   \n",
       "478125             None             None             None             None   \n",
       "478126             None             None             None             None   \n",
       "478127             None             None             None             None   \n",
       "478128             None             None             None             None   \n",
       "478129             None             None             None             None   \n",
       "478130             None             None             None             None   \n",
       "478131             None             None             None             None   \n",
       "478132             None             None             None             None   \n",
       "478133             None             None             None             None   \n",
       "478134             None             None             None             None   \n",
       "478135             None             None             None             None   \n",
       "478136             None             None             None             None   \n",
       "478137             None             None             None             None   \n",
       "\n",
       "       item_property_99  \n",
       "0                  None  \n",
       "1                  None  \n",
       "2                  None  \n",
       "3                  None  \n",
       "4                  None  \n",
       "5                  None  \n",
       "6                  None  \n",
       "7                  None  \n",
       "8                  None  \n",
       "9                  None  \n",
       "10                 None  \n",
       "11                 None  \n",
       "12                 None  \n",
       "13                 None  \n",
       "14                 None  \n",
       "15                 None  \n",
       "16                 None  \n",
       "17                 None  \n",
       "18                 None  \n",
       "19                 None  \n",
       "20                 None  \n",
       "21                 None  \n",
       "22                 None  \n",
       "23                 None  \n",
       "24                 None  \n",
       "25                 None  \n",
       "26                 None  \n",
       "27                 None  \n",
       "28                 None  \n",
       "29                 None  \n",
       "...                 ...  \n",
       "478108             None  \n",
       "478109             None  \n",
       "478110             None  \n",
       "478111             None  \n",
       "478112             None  \n",
       "478113             None  \n",
       "478114             None  \n",
       "478115             None  \n",
       "478116             None  \n",
       "478117             None  \n",
       "478118             None  \n",
       "478119             None  \n",
       "478120             None  \n",
       "478121             None  \n",
       "478122             None  \n",
       "478123             None  \n",
       "478124             None  \n",
       "478125             None  \n",
       "478126             None  \n",
       "478127             None  \n",
       "478128             None  \n",
       "478129             None  \n",
       "478130             None  \n",
       "478131             None  \n",
       "478132             None  \n",
       "478133             None  \n",
       "478134             None  \n",
       "478135             None  \n",
       "478136             None  \n",
       "478137             None  \n",
       "\n",
       "[478138 rows x 100 columns]"
      ]
     },
     "execution_count": 3,
     "metadata": {},
     "output_type": "execute_result"
    }
   ],
   "source": [
    "train_item_property = train['item_property_list'].str.split(';', expand=True).add_prefix('item_property_')\n",
    "train_item_property"
   ]
  },
  {
   "cell_type": "markdown",
   "metadata": {},
   "source": [
    "## 3. Glimpse at the dataset"
   ]
  },
  {
   "cell_type": "markdown",
   "metadata": {},
   "source": [
    "### 3.1 Train"
   ]
  },
  {
   "cell_type": "code",
   "execution_count": 4,
   "metadata": {
    "hide_input": false
   },
   "outputs": [
    {
     "data": {
      "text/html": [
       "<div>\n",
       "<style scoped>\n",
       "    .dataframe tbody tr th:only-of-type {\n",
       "        vertical-align: middle;\n",
       "    }\n",
       "\n",
       "    .dataframe tbody tr th {\n",
       "        vertical-align: top;\n",
       "    }\n",
       "\n",
       "    .dataframe thead th {\n",
       "        text-align: right;\n",
       "    }\n",
       "</style>\n",
       "<table border=\"1\" class=\"dataframe\">\n",
       "  <thead>\n",
       "    <tr style=\"text-align: right;\">\n",
       "      <th></th>\n",
       "      <th>instance_id</th>\n",
       "      <th>item_id</th>\n",
       "      <th>item_category_list</th>\n",
       "      <th>item_property_list</th>\n",
       "      <th>item_brand_id</th>\n",
       "      <th>item_city_id</th>\n",
       "      <th>item_price_level</th>\n",
       "      <th>item_sales_level</th>\n",
       "      <th>item_collected_level</th>\n",
       "      <th>item_pv_level</th>\n",
       "      <th>...</th>\n",
       "      <th>predict_category_property</th>\n",
       "      <th>shop_id</th>\n",
       "      <th>shop_review_num_level</th>\n",
       "      <th>shop_review_positive_rate</th>\n",
       "      <th>shop_star_level</th>\n",
       "      <th>shop_score_service</th>\n",
       "      <th>shop_score_delivery</th>\n",
       "      <th>shop_score_description</th>\n",
       "      <th>is_trade</th>\n",
       "      <th>isTrain</th>\n",
       "    </tr>\n",
       "  </thead>\n",
       "  <tbody>\n",
       "    <tr>\n",
       "      <th>0</th>\n",
       "      <td>108641074714126964</td>\n",
       "      <td>3412720377098676069</td>\n",
       "      <td>7908382889764677758;5799347067982556520</td>\n",
       "      <td>2072967855524022579;5131280576272319091;263639...</td>\n",
       "      <td>1975590437749032870</td>\n",
       "      <td>3948283326616421003</td>\n",
       "      <td>3</td>\n",
       "      <td>3</td>\n",
       "      <td>4</td>\n",
       "      <td>14</td>\n",
       "      <td>...</td>\n",
       "      <td>5799347067982556520:-1;509660095530134768:-1;5...</td>\n",
       "      <td>6765930309048922341</td>\n",
       "      <td>4</td>\n",
       "      <td>1.0</td>\n",
       "      <td>5002</td>\n",
       "      <td>1.0</td>\n",
       "      <td>1.0</td>\n",
       "      <td>1.0</td>\n",
       "      <td>0</td>\n",
       "      <td>1</td>\n",
       "    </tr>\n",
       "    <tr>\n",
       "      <th>1</th>\n",
       "      <td>5754713551599725161</td>\n",
       "      <td>3412720377098676069</td>\n",
       "      <td>7908382889764677758;5799347067982556520</td>\n",
       "      <td>2072967855524022579;5131280576272319091;263639...</td>\n",
       "      <td>1975590437749032870</td>\n",
       "      <td>3948283326616421003</td>\n",
       "      <td>3</td>\n",
       "      <td>3</td>\n",
       "      <td>4</td>\n",
       "      <td>14</td>\n",
       "      <td>...</td>\n",
       "      <td>5799347067982556520:9172976955054793469;790838...</td>\n",
       "      <td>6765930309048922341</td>\n",
       "      <td>4</td>\n",
       "      <td>1.0</td>\n",
       "      <td>5002</td>\n",
       "      <td>1.0</td>\n",
       "      <td>1.0</td>\n",
       "      <td>1.0</td>\n",
       "      <td>0</td>\n",
       "      <td>1</td>\n",
       "    </tr>\n",
       "    <tr>\n",
       "      <th>2</th>\n",
       "      <td>842679481291040981</td>\n",
       "      <td>3412720377098676069</td>\n",
       "      <td>7908382889764677758;5799347067982556520</td>\n",
       "      <td>2072967855524022579;5131280576272319091;263639...</td>\n",
       "      <td>1975590437749032870</td>\n",
       "      <td>3948283326616421003</td>\n",
       "      <td>3</td>\n",
       "      <td>3</td>\n",
       "      <td>4</td>\n",
       "      <td>14</td>\n",
       "      <td>...</td>\n",
       "      <td>5799347067982556520:5131280576272319091;725801...</td>\n",
       "      <td>6765930309048922341</td>\n",
       "      <td>4</td>\n",
       "      <td>1.0</td>\n",
       "      <td>5002</td>\n",
       "      <td>1.0</td>\n",
       "      <td>1.0</td>\n",
       "      <td>1.0</td>\n",
       "      <td>0</td>\n",
       "      <td>1</td>\n",
       "    </tr>\n",
       "    <tr>\n",
       "      <th>3</th>\n",
       "      <td>937088850059189027</td>\n",
       "      <td>3412720377098676069</td>\n",
       "      <td>7908382889764677758;5799347067982556520</td>\n",
       "      <td>2072967855524022579;5131280576272319091;263639...</td>\n",
       "      <td>1975590437749032870</td>\n",
       "      <td>3948283326616421003</td>\n",
       "      <td>3</td>\n",
       "      <td>3</td>\n",
       "      <td>4</td>\n",
       "      <td>14</td>\n",
       "      <td>...</td>\n",
       "      <td>509660095530134768:-1;5799347067982556520:-1;7...</td>\n",
       "      <td>6765930309048922341</td>\n",
       "      <td>4</td>\n",
       "      <td>1.0</td>\n",
       "      <td>5002</td>\n",
       "      <td>1.0</td>\n",
       "      <td>1.0</td>\n",
       "      <td>1.0</td>\n",
       "      <td>0</td>\n",
       "      <td>1</td>\n",
       "    </tr>\n",
       "    <tr>\n",
       "      <th>4</th>\n",
       "      <td>7975697065017708072</td>\n",
       "      <td>3412720377098676069</td>\n",
       "      <td>7908382889764677758;5799347067982556520</td>\n",
       "      <td>2072967855524022579;5131280576272319091;263639...</td>\n",
       "      <td>1975590437749032870</td>\n",
       "      <td>3948283326616421003</td>\n",
       "      <td>3</td>\n",
       "      <td>3</td>\n",
       "      <td>4</td>\n",
       "      <td>14</td>\n",
       "      <td>...</td>\n",
       "      <td>5799347067982556520:9172976955054793469;790838...</td>\n",
       "      <td>6765930309048922341</td>\n",
       "      <td>4</td>\n",
       "      <td>1.0</td>\n",
       "      <td>5002</td>\n",
       "      <td>1.0</td>\n",
       "      <td>1.0</td>\n",
       "      <td>1.0</td>\n",
       "      <td>0</td>\n",
       "      <td>1</td>\n",
       "    </tr>\n",
       "  </tbody>\n",
       "</table>\n",
       "<p>5 rows × 28 columns</p>\n",
       "</div>"
      ],
      "text/plain": [
       "           instance_id              item_id  \\\n",
       "0   108641074714126964  3412720377098676069   \n",
       "1  5754713551599725161  3412720377098676069   \n",
       "2   842679481291040981  3412720377098676069   \n",
       "3   937088850059189027  3412720377098676069   \n",
       "4  7975697065017708072  3412720377098676069   \n",
       "\n",
       "                        item_category_list  \\\n",
       "0  7908382889764677758;5799347067982556520   \n",
       "1  7908382889764677758;5799347067982556520   \n",
       "2  7908382889764677758;5799347067982556520   \n",
       "3  7908382889764677758;5799347067982556520   \n",
       "4  7908382889764677758;5799347067982556520   \n",
       "\n",
       "                                  item_property_list        item_brand_id  \\\n",
       "0  2072967855524022579;5131280576272319091;263639...  1975590437749032870   \n",
       "1  2072967855524022579;5131280576272319091;263639...  1975590437749032870   \n",
       "2  2072967855524022579;5131280576272319091;263639...  1975590437749032870   \n",
       "3  2072967855524022579;5131280576272319091;263639...  1975590437749032870   \n",
       "4  2072967855524022579;5131280576272319091;263639...  1975590437749032870   \n",
       "\n",
       "          item_city_id  item_price_level  item_sales_level  \\\n",
       "0  3948283326616421003                 3                 3   \n",
       "1  3948283326616421003                 3                 3   \n",
       "2  3948283326616421003                 3                 3   \n",
       "3  3948283326616421003                 3                 3   \n",
       "4  3948283326616421003                 3                 3   \n",
       "\n",
       "   item_collected_level  item_pv_level   ...     \\\n",
       "0                     4             14   ...      \n",
       "1                     4             14   ...      \n",
       "2                     4             14   ...      \n",
       "3                     4             14   ...      \n",
       "4                     4             14   ...      \n",
       "\n",
       "                           predict_category_property              shop_id  \\\n",
       "0  5799347067982556520:-1;509660095530134768:-1;5...  6765930309048922341   \n",
       "1  5799347067982556520:9172976955054793469;790838...  6765930309048922341   \n",
       "2  5799347067982556520:5131280576272319091;725801...  6765930309048922341   \n",
       "3  509660095530134768:-1;5799347067982556520:-1;7...  6765930309048922341   \n",
       "4  5799347067982556520:9172976955054793469;790838...  6765930309048922341   \n",
       "\n",
       "   shop_review_num_level  shop_review_positive_rate  shop_star_level  \\\n",
       "0                      4                        1.0             5002   \n",
       "1                      4                        1.0             5002   \n",
       "2                      4                        1.0             5002   \n",
       "3                      4                        1.0             5002   \n",
       "4                      4                        1.0             5002   \n",
       "\n",
       "   shop_score_service  shop_score_delivery  shop_score_description is_trade  \\\n",
       "0                 1.0                  1.0                     1.0        0   \n",
       "1                 1.0                  1.0                     1.0        0   \n",
       "2                 1.0                  1.0                     1.0        0   \n",
       "3                 1.0                  1.0                     1.0        0   \n",
       "4                 1.0                  1.0                     1.0        0   \n",
       "\n",
       "   isTrain  \n",
       "0        1  \n",
       "1        1  \n",
       "2        1  \n",
       "3        1  \n",
       "4        1  \n",
       "\n",
       "[5 rows x 28 columns]"
      ]
     },
     "execution_count": 4,
     "metadata": {},
     "output_type": "execute_result"
    }
   ],
   "source": [
    "train.head()"
   ]
  },
  {
   "cell_type": "markdown",
   "metadata": {},
   "source": [
    "### 3.2 Test"
   ]
  },
  {
   "cell_type": "code",
   "execution_count": 5,
   "metadata": {
    "hide_input": false
   },
   "outputs": [
    {
     "data": {
      "text/html": [
       "<div>\n",
       "<style scoped>\n",
       "    .dataframe tbody tr th:only-of-type {\n",
       "        vertical-align: middle;\n",
       "    }\n",
       "\n",
       "    .dataframe tbody tr th {\n",
       "        vertical-align: top;\n",
       "    }\n",
       "\n",
       "    .dataframe thead th {\n",
       "        text-align: right;\n",
       "    }\n",
       "</style>\n",
       "<table border=\"1\" class=\"dataframe\">\n",
       "  <thead>\n",
       "    <tr style=\"text-align: right;\">\n",
       "      <th></th>\n",
       "      <th>instance_id</th>\n",
       "      <th>item_id</th>\n",
       "      <th>item_category_list</th>\n",
       "      <th>item_property_list</th>\n",
       "      <th>item_brand_id</th>\n",
       "      <th>item_city_id</th>\n",
       "      <th>item_price_level</th>\n",
       "      <th>item_sales_level</th>\n",
       "      <th>item_collected_level</th>\n",
       "      <th>item_pv_level</th>\n",
       "      <th>...</th>\n",
       "      <th>context_page_id</th>\n",
       "      <th>predict_category_property</th>\n",
       "      <th>shop_id</th>\n",
       "      <th>shop_review_num_level</th>\n",
       "      <th>shop_review_positive_rate</th>\n",
       "      <th>shop_star_level</th>\n",
       "      <th>shop_score_service</th>\n",
       "      <th>shop_score_delivery</th>\n",
       "      <th>shop_score_description</th>\n",
       "      <th>isTrain</th>\n",
       "    </tr>\n",
       "  </thead>\n",
       "  <tbody>\n",
       "    <tr>\n",
       "      <th>0</th>\n",
       "      <td>2475218615076601065</td>\n",
       "      <td>2275895163219263378</td>\n",
       "      <td>7908382889764677758;8277336076276184272</td>\n",
       "      <td>2636395404473730413;7515802706813700848;302719...</td>\n",
       "      <td>7838285046767229711</td>\n",
       "      <td>7534238860363577544</td>\n",
       "      <td>7</td>\n",
       "      <td>6</td>\n",
       "      <td>8</td>\n",
       "      <td>14</td>\n",
       "      <td>...</td>\n",
       "      <td>4005</td>\n",
       "      <td>8277336076276184272:-1;5799347067982556520:-1;...</td>\n",
       "      <td>5275548996133547595</td>\n",
       "      <td>13</td>\n",
       "      <td>0.985244</td>\n",
       "      <td>5011</td>\n",
       "      <td>0.964023</td>\n",
       "      <td>0.966550</td>\n",
       "      <td>0.955378</td>\n",
       "      <td>0</td>\n",
       "    </tr>\n",
       "    <tr>\n",
       "      <th>1</th>\n",
       "      <td>398316874173557226</td>\n",
       "      <td>7096238490711246967</td>\n",
       "      <td>7908382889764677758;5755694407684602296</td>\n",
       "      <td>5131280576272319091;2636395404473730413;734498...</td>\n",
       "      <td>8126195666233054089</td>\n",
       "      <td>3948283326616421003</td>\n",
       "      <td>6</td>\n",
       "      <td>9</td>\n",
       "      <td>8</td>\n",
       "      <td>16</td>\n",
       "      <td>...</td>\n",
       "      <td>4001</td>\n",
       "      <td>5755694407684602296:216555019471416386,2636395...</td>\n",
       "      <td>329470548383752413</td>\n",
       "      <td>14</td>\n",
       "      <td>0.989068</td>\n",
       "      <td>5012</td>\n",
       "      <td>0.963794</td>\n",
       "      <td>0.964225</td>\n",
       "      <td>0.959134</td>\n",
       "      <td>0</td>\n",
       "    </tr>\n",
       "    <tr>\n",
       "      <th>2</th>\n",
       "      <td>6586402638209028583</td>\n",
       "      <td>7096238490711246967</td>\n",
       "      <td>7908382889764677758;5755694407684602296</td>\n",
       "      <td>5131280576272319091;2636395404473730413;734498...</td>\n",
       "      <td>8126195666233054089</td>\n",
       "      <td>3948283326616421003</td>\n",
       "      <td>6</td>\n",
       "      <td>9</td>\n",
       "      <td>8</td>\n",
       "      <td>16</td>\n",
       "      <td>...</td>\n",
       "      <td>4011</td>\n",
       "      <td>5755694407684602296:2636395404473730413;871073...</td>\n",
       "      <td>329470548383752413</td>\n",
       "      <td>14</td>\n",
       "      <td>0.989068</td>\n",
       "      <td>5012</td>\n",
       "      <td>0.963794</td>\n",
       "      <td>0.964225</td>\n",
       "      <td>0.959134</td>\n",
       "      <td>0</td>\n",
       "    </tr>\n",
       "    <tr>\n",
       "      <th>3</th>\n",
       "      <td>1040996105851528465</td>\n",
       "      <td>7096238490711246967</td>\n",
       "      <td>7908382889764677758;5755694407684602296</td>\n",
       "      <td>5131280576272319091;2636395404473730413;734498...</td>\n",
       "      <td>8126195666233054089</td>\n",
       "      <td>3948283326616421003</td>\n",
       "      <td>6</td>\n",
       "      <td>9</td>\n",
       "      <td>8</td>\n",
       "      <td>16</td>\n",
       "      <td>...</td>\n",
       "      <td>4001</td>\n",
       "      <td>8710739180200009128:-1;5755694407684602296:263...</td>\n",
       "      <td>329470548383752413</td>\n",
       "      <td>14</td>\n",
       "      <td>0.989068</td>\n",
       "      <td>5012</td>\n",
       "      <td>0.963794</td>\n",
       "      <td>0.964225</td>\n",
       "      <td>0.959134</td>\n",
       "      <td>0</td>\n",
       "    </tr>\n",
       "    <tr>\n",
       "      <th>4</th>\n",
       "      <td>6316278569655873454</td>\n",
       "      <td>7096238490711246967</td>\n",
       "      <td>7908382889764677758;5755694407684602296</td>\n",
       "      <td>5131280576272319091;2636395404473730413;734498...</td>\n",
       "      <td>8126195666233054089</td>\n",
       "      <td>3948283326616421003</td>\n",
       "      <td>6</td>\n",
       "      <td>9</td>\n",
       "      <td>8</td>\n",
       "      <td>16</td>\n",
       "      <td>...</td>\n",
       "      <td>4001</td>\n",
       "      <td>5755694407684602296:5131280576272319091;871073...</td>\n",
       "      <td>329470548383752413</td>\n",
       "      <td>14</td>\n",
       "      <td>0.989068</td>\n",
       "      <td>5012</td>\n",
       "      <td>0.963794</td>\n",
       "      <td>0.964225</td>\n",
       "      <td>0.959134</td>\n",
       "      <td>0</td>\n",
       "    </tr>\n",
       "  </tbody>\n",
       "</table>\n",
       "<p>5 rows × 27 columns</p>\n",
       "</div>"
      ],
      "text/plain": [
       "           instance_id              item_id  \\\n",
       "0  2475218615076601065  2275895163219263378   \n",
       "1   398316874173557226  7096238490711246967   \n",
       "2  6586402638209028583  7096238490711246967   \n",
       "3  1040996105851528465  7096238490711246967   \n",
       "4  6316278569655873454  7096238490711246967   \n",
       "\n",
       "                        item_category_list  \\\n",
       "0  7908382889764677758;8277336076276184272   \n",
       "1  7908382889764677758;5755694407684602296   \n",
       "2  7908382889764677758;5755694407684602296   \n",
       "3  7908382889764677758;5755694407684602296   \n",
       "4  7908382889764677758;5755694407684602296   \n",
       "\n",
       "                                  item_property_list        item_brand_id  \\\n",
       "0  2636395404473730413;7515802706813700848;302719...  7838285046767229711   \n",
       "1  5131280576272319091;2636395404473730413;734498...  8126195666233054089   \n",
       "2  5131280576272319091;2636395404473730413;734498...  8126195666233054089   \n",
       "3  5131280576272319091;2636395404473730413;734498...  8126195666233054089   \n",
       "4  5131280576272319091;2636395404473730413;734498...  8126195666233054089   \n",
       "\n",
       "          item_city_id  item_price_level  item_sales_level  \\\n",
       "0  7534238860363577544                 7                 6   \n",
       "1  3948283326616421003                 6                 9   \n",
       "2  3948283326616421003                 6                 9   \n",
       "3  3948283326616421003                 6                 9   \n",
       "4  3948283326616421003                 6                 9   \n",
       "\n",
       "   item_collected_level  item_pv_level   ...     context_page_id  \\\n",
       "0                     8             14   ...                4005   \n",
       "1                     8             16   ...                4001   \n",
       "2                     8             16   ...                4011   \n",
       "3                     8             16   ...                4001   \n",
       "4                     8             16   ...                4001   \n",
       "\n",
       "                           predict_category_property              shop_id  \\\n",
       "0  8277336076276184272:-1;5799347067982556520:-1;...  5275548996133547595   \n",
       "1  5755694407684602296:216555019471416386,2636395...   329470548383752413   \n",
       "2  5755694407684602296:2636395404473730413;871073...   329470548383752413   \n",
       "3  8710739180200009128:-1;5755694407684602296:263...   329470548383752413   \n",
       "4  5755694407684602296:5131280576272319091;871073...   329470548383752413   \n",
       "\n",
       "   shop_review_num_level  shop_review_positive_rate  shop_star_level  \\\n",
       "0                     13                   0.985244             5011   \n",
       "1                     14                   0.989068             5012   \n",
       "2                     14                   0.989068             5012   \n",
       "3                     14                   0.989068             5012   \n",
       "4                     14                   0.989068             5012   \n",
       "\n",
       "   shop_score_service  shop_score_delivery shop_score_description  isTrain  \n",
       "0            0.964023             0.966550               0.955378        0  \n",
       "1            0.963794             0.964225               0.959134        0  \n",
       "2            0.963794             0.964225               0.959134        0  \n",
       "3            0.963794             0.964225               0.959134        0  \n",
       "4            0.963794             0.964225               0.959134        0  \n",
       "\n",
       "[5 rows x 27 columns]"
      ]
     },
     "execution_count": 5,
     "metadata": {},
     "output_type": "execute_result"
    }
   ],
   "source": [
    "test.head()"
   ]
  },
  {
   "cell_type": "markdown",
   "metadata": {
    "collapsed": true,
    "hide_input": false
   },
   "source": [
    "### 3.3 Missing values"
   ]
  },
  {
   "cell_type": "code",
   "execution_count": 6,
   "metadata": {
    "hide_input": false
   },
   "outputs": [
    {
     "data": {
      "text/plain": [
       "instance_id                  0\n",
       "item_id                      0\n",
       "item_category_list           0\n",
       "item_property_list           0\n",
       "item_brand_id                0\n",
       "item_city_id                 0\n",
       "item_price_level             0\n",
       "item_sales_level             0\n",
       "item_collected_level         0\n",
       "item_pv_level                0\n",
       "user_id                      0\n",
       "user_gender_id               0\n",
       "user_age_level               0\n",
       "user_occupation_id           0\n",
       "user_star_level              0\n",
       "context_id                   0\n",
       "context_timestamp            0\n",
       "context_page_id              0\n",
       "predict_category_property    0\n",
       "shop_id                      0\n",
       "shop_review_num_level        0\n",
       "shop_review_positive_rate    0\n",
       "shop_star_level              0\n",
       "shop_score_service           0\n",
       "shop_score_delivery          0\n",
       "shop_score_description       0\n",
       "is_trade                     0\n",
       "isTrain                      0\n",
       "dtype: int64"
      ]
     },
     "execution_count": 6,
     "metadata": {},
     "output_type": "execute_result"
    }
   ],
   "source": [
    "train.isnull().sum()"
   ]
  },
  {
   "cell_type": "markdown",
   "metadata": {},
   "source": [
    "### 3.4 File info"
   ]
  },
  {
   "cell_type": "code",
   "execution_count": 7,
   "metadata": {},
   "outputs": [
    {
     "name": "stdout",
     "output_type": "stream",
     "text": [
      "Number of rows in the train set: 478138\n",
      "Train set file size: 529 MB\n",
      "Number of rows in the test set: 18371\n",
      "Test set file size: 20 MB\n"
     ]
    }
   ],
   "source": [
    "rows_train = train.shape[0]\n",
    "print('Number of rows in the train set: %d' % rows_train)\n",
    "size_train = os.path.getsize(path+'train.data')/(1024*1024)\n",
    "print('Train set file size: %d MB' % size_train)\n",
    "rows_test= test.shape[0]\n",
    "print('Number of rows in the test set: %d' % rows_test)\n",
    "size_test = os.path.getsize(path+'test.data')/(1024*1024)\n",
    "print('Test set file size: %d MB' % size_test)"
   ]
  },
  {
   "cell_type": "markdown",
   "metadata": {},
   "source": [
    "### 3.5 Unique counts"
   ]
  },
  {
   "cell_type": "code",
   "execution_count": 8,
   "metadata": {},
   "outputs": [
    {
     "data": {
      "text/plain": [
       "instance_id                  478087\n",
       "item_id                       10075\n",
       "item_category_list               14\n",
       "item_property_list            10908\n",
       "item_brand_id                  2055\n",
       "item_city_id                    128\n",
       "item_price_level                 14\n",
       "item_sales_level                 18\n",
       "item_collected_level             18\n",
       "item_pv_level                    22\n",
       "user_id                      197694\n",
       "user_gender_id                    4\n",
       "user_age_level                    9\n",
       "user_occupation_id                5\n",
       "user_star_level                  12\n",
       "context_id                   478111\n",
       "context_timestamp            281824\n",
       "context_page_id                  20\n",
       "predict_category_property     78796\n",
       "shop_id                        3959\n",
       "shop_review_num_level            25\n",
       "shop_review_positive_rate     11825\n",
       "shop_star_level                  22\n",
       "shop_score_service            16361\n",
       "shop_score_delivery           16423\n",
       "shop_score_description        16463\n",
       "is_trade                          2\n",
       "isTrain                           1\n",
       "dtype: int64"
      ]
     },
     "execution_count": 8,
     "metadata": {},
     "output_type": "execute_result"
    }
   ],
   "source": [
    "train.nunique()"
   ]
  },
  {
   "cell_type": "markdown",
   "metadata": {},
   "source": [
    "## 4. Features visualization\n",
    "Here we have a first look at the distributions of the features in our individual data files before combining them for a more detailed analysis. This visualization will be the foundation on which we build our analysis."
   ]
  },
  {
   "cell_type": "markdown",
   "metadata": {},
   "source": [
    "### 4.1 The information of advertising  products"
   ]
  },
  {
   "cell_type": "markdown",
   "metadata": {},
   "source": [
    "### 4.1.1 item_id\n",
    "It seems that view count has no correlation with trade_rate. As shown in Figure2, numbers of most items are less 500. "
   ]
  },
  {
   "cell_type": "code",
   "execution_count": 9,
   "metadata": {
    "scrolled": true
   },
   "outputs": [
    {
     "data": {
      "text/plain": [
       "Text(0,0.5,'count')"
      ]
     },
     "execution_count": 9,
     "metadata": {},
     "output_type": "execute_result"
    },
    {
     "data": {
      "image/png": "[encoded data removed]",
      "text/plain": [
       "<Figure size 864x576 with 3 Axes>"
      ]
     },
     "metadata": {},
     "output_type": "display_data"
    }
   ],
   "source": [
    "item_data = train[['item_id', 'item_category_list', 'item_property_list', 'item_brand_id', 'item_city_id', \\\n",
    "                  'item_price_level', 'item_sales_level', 'item_collected_level', 'item_pv_level', 'is_trade']]\n",
    "item_count = item_data['item_id'].value_counts()[:50].reset_index()\n",
    "item_count.columns = ['item_id', 'count']\n",
    "\n",
    "top_50_data = item_data.merge(item_count, on=['item_id'])\n",
    "popular = top_50_data.groupby(by=['item_id']).is_trade.agg(['mean']).reset_index()\n",
    "popular.columns = ['item_id', 'trade_rate']\n",
    "merge_count = item_count.merge(popular, on=['item_id'])\n",
    "\n",
    "fig, axes = plt.subplots(2, 1, figsize=(12,8))\n",
    "ax_y = axes[0].twinx()\n",
    "sns.barplot(x = list(range(item_count.shape[0])), y=merge_count['count'], ax=axes[0])\n",
    "sns.pointplot(x = list(range(item_count.shape[0])), y=merge_count['trade_rate'], ax=ax_y)\n",
    "axes[0].set_title('Trade ratess over counts of 50 most popular items')\n",
    "\n",
    "axes[1].scatter(x=list(range(item_data['item_id'].value_counts().shape[0])), \\\n",
    "                y=item_data['item_id'].value_counts().values, s=2)\n",
    "axes[1].set_title('The distribution of item count')\n",
    "axes[1].set_ylabel('count')\n",
    "\n"
   ]
  },
  {
   "cell_type": "markdown",
   "metadata": {},
   "source": [
    "## 4.1.2 item_category_list"
   ]
  },
  {
   "cell_type": "code",
   "execution_count": 10,
   "metadata": {},
   "outputs": [],
   "source": [
    "def stack_bar(column, num_categories):\n",
    "    le = LabelEncoder()\n",
    "    item_data[column] = le.fit_transform(item_data[column])\n",
    "    item_data[column] = item_data[column].apply(lambda x: '%s_' %column +str(x))\n",
    "    item_data_subset = item_data[column].value_counts()[:num_categories].reset_index()\n",
    "    item_data_subset.columns = ['%s' % column, '%s_count' % column]\n",
    "\n",
    "    item_data_subset = item_data_subset.merge(item_data, how='inner', on=column)\n",
    "    count_cate1 = item_data_subset[item_data_subset['is_trade']==1][column].value_counts().sort_index()\n",
    "    count_cate0 = item_data_subset[item_data_subset['is_trade']==0][column].value_counts().sort_index()\n",
    "    \n",
    "    \n",
    "    trace1 = go.Bar(\n",
    "        x=count_cate0.index,\n",
    "        y=count_cate0.values,\n",
    "        name='is_trade==0'\n",
    "    )\n",
    "    trace2 = go.Bar(\n",
    "        x=count_cate1.index,\n",
    "        y=count_cate1.values,\n",
    "        name='is_trade==1'\n",
    "    )\n",
    "\n",
    "    data = [trace1, trace2]\n",
    "    layout = go.Layout(\n",
    "        barmode='stack'\n",
    "    )\n",
    "\n",
    "    fig = go.Figure(data=data, layout=layout)\n",
    "    return fig"
   ]
  },
  {
   "cell_type": "code",
   "execution_count": 11,
   "metadata": {},
   "outputs": [],
   "source": [
    "item_data['item_category_list']\n",
    "for i in range(3):\n",
    "        item_data['category_%d' % (i)] = item_data['item_category_list'].apply(\n",
    "            lambda x: str(x).split(\";\")[i] if len(str(x).split(\";\")) > i else \" \"\n",
    "        )"
   ]
  },
  {
   "cell_type": "code",
   "execution_count": 12,
   "metadata": {},
   "outputs": [
    {
     "data": {
      "text/plain": [
       "<matplotlib.axes._subplots.AxesSubplot at 0x7f40c849f290>"
      ]
     },
     "execution_count": 12,
     "metadata": {},
     "output_type": "execute_result"
    },
    {
     "data": {
      "image/png": "[encoded data removed]",
      "text/plain": [
       "<Figure size 1080x360 with 3 Axes>"
      ]
     },
     "metadata": {},
     "output_type": "display_data"
    }
   ],
   "source": [
    "fig = plt.figure(figsize=(15, 5))\n",
    "ax1 = fig.add_subplot(1,3,1)\n",
    "item_data['category_0'].value_counts().plot.bar(ax=ax1)\n",
    "ax2 = fig.add_subplot(1,3,2)\n",
    "item_data['category_1'].value_counts().plot.bar(ax=ax2)\n",
    "ax3 = fig.add_subplot(1,3,3)\n",
    "item_data['category_2'].value_counts().plot.bar(ax=ax3)"
   ]
  },
  {
   "cell_type": "code",
   "execution_count": 13,
   "metadata": {},
   "outputs": [
    {
     "data": {
      "application/vnd.plotly.v1+json": {
       "data": [
        {
         "name": "is_trade==0",
         "type": "bar",
         "x": [
          0,
          1,
          2,
          3,
          4,
          5,
          6,
          7,
          8,
          9,
          10,
          11,
          12
         ],
         "y": [
          179,
          9413,
          87,
          1916,
          1906,
          2167,
          1177,
          74154,
          100768,
          70745,
          50917,
          148830,
          6858
         ]
        },
        {
         "name": "is_trade==1",
         "type": "bar",
         "x": [
          0,
          1,
          2,
          3,
          4,
          5,
          6,
          7,
          8,
          9,
          10,
          11,
          12
         ],
         "y": [
          7,
          150,
          1,
          50,
          123,
          79,
          30,
          1266,
          1728,
          1274,
          2138,
          1949,
          226
         ]
        }
       ],
       "layout": {
        "barmode": "stack"
       }
      },
      "text/html": [
       "<div id=\"8b25aaa7-4d60-4156-b0f3-2385ed69935a\" style=\"height: 525px; width: 100%;\" class=\"plotly-graph-div\"></div><script type=\"text/javascript\">require([\"plotly\"], function(Plotly) { window.PLOTLYENV=window.PLOTLYENV || {};window.PLOTLYENV.BASE_URL=\"https://plot.ly\";Plotly.newPlot(\"8b25aaa7-4d60-4156-b0f3-2385ed69935a\", [{\"y\": [179, 9413, 87, 1916, 1906, 2167, 1177, 74154, 100768, 70745, 50917, 148830, 6858], \"x\": [0, 1, 2, 3, 4, 5, 6, 7, 8, 9, 10, 11, 12], \"type\": \"bar\", \"name\": \"is_trade==0\"}, {\"y\": [7, 150, 1, 50, 123, 79, 30, 1266, 1728, 1274, 2138, 1949, 226], \"x\": [0, 1, 2, 3, 4, 5, 6, 7, 8, 9, 10, 11, 12], \"type\": \"bar\", \"name\": \"is_trade==1\"}], {\"barmode\": \"stack\"}, {\"linkText\": \"Export to plot.ly\", \"showLink\": true})});</script>"
      ],
      "text/vnd.plotly.v1+html": [
       "<div id=\"8b25aaa7-4d60-4156-b0f3-2385ed69935a\" style=\"height: 525px; width: 100%;\" class=\"plotly-graph-div\"></div><script type=\"text/javascript\">require([\"plotly\"], function(Plotly) { window.PLOTLYENV=window.PLOTLYENV || {};window.PLOTLYENV.BASE_URL=\"https://plot.ly\";Plotly.newPlot(\"8b25aaa7-4d60-4156-b0f3-2385ed69935a\", [{\"y\": [179, 9413, 87, 1916, 1906, 2167, 1177, 74154, 100768, 70745, 50917, 148830, 6858], \"x\": [0, 1, 2, 3, 4, 5, 6, 7, 8, 9, 10, 11, 12], \"type\": \"bar\", \"name\": \"is_trade==0\"}, {\"y\": [7, 150, 1, 50, 123, 79, 30, 1266, 1728, 1274, 2138, 1949, 226], \"x\": [0, 1, 2, 3, 4, 5, 6, 7, 8, 9, 10, 11, 12], \"type\": \"bar\", \"name\": \"is_trade==1\"}], {\"barmode\": \"stack\"}, {\"linkText\": \"Export to plot.ly\", \"showLink\": true})});</script>"
      ]
     },
     "metadata": {},
     "output_type": "display_data"
    }
   ],
   "source": [
    "le = LabelEncoder()\n",
    "item_data['category_1'] = le.fit_transform(item_data['category_1'])\n",
    "count_cate1 = item_data[item_data['is_trade']==1]['category_1'].value_counts().sort_index()\n",
    "count_cate0 = item_data[item_data['is_trade']==0]['category_1'].value_counts().sort_index()\n",
    "trace1 = go.Bar(\n",
    "    x=count_cate0.index,\n",
    "    y=count_cate0.values,\n",
    "    name='is_trade==0'\n",
    ")\n",
    "trace2 = go.Bar(\n",
    "    x=count_cate1.index,\n",
    "    y=count_cate1.values,\n",
    "    name='is_trade==1'\n",
    ")\n",
    "\n",
    "data = [trace1, trace2]\n",
    "layout = go.Layout(\n",
    "    barmode='stack'\n",
    ")\n",
    "\n",
    "fig = go.Figure(data=data, layout=layout)\n",
    "iplot(fig, filename='stacked-bar')"
   ]
  },
  {
   "cell_type": "markdown",
   "metadata": {},
   "source": [
    "### 4.1.3 item_brand_id"
   ]
  },
  {
   "cell_type": "code",
   "execution_count": 14,
   "metadata": {},
   "outputs": [
    {
     "data": {
      "application/vnd.plotly.v1+json": {
       "data": [
        {
         "name": "is_trade==0",
         "type": "bar",
         "x": [
          "item_brand_id_1049",
          "item_brand_id_1144",
          "item_brand_id_1322",
          "item_brand_id_1492",
          "item_brand_id_1533",
          "item_brand_id_1584",
          "item_brand_id_1594",
          "item_brand_id_160",
          "item_brand_id_1609",
          "item_brand_id_1755",
          "item_brand_id_1836",
          "item_brand_id_427",
          "item_brand_id_834",
          "item_brand_id_844",
          "item_brand_id_92"
         ],
         "y": [
          4160,
          12686,
          3679,
          4179,
          5101,
          3383,
          13738,
          6400,
          3152,
          68241,
          3666,
          4541,
          3132,
          3444,
          9851
         ]
        },
        {
         "name": "is_trade==1",
         "type": "bar",
         "x": [
          "item_brand_id_1049",
          "item_brand_id_1144",
          "item_brand_id_1322",
          "item_brand_id_1492",
          "item_brand_id_1533",
          "item_brand_id_1584",
          "item_brand_id_1594",
          "item_brand_id_160",
          "item_brand_id_1609",
          "item_brand_id_1755",
          "item_brand_id_1836",
          "item_brand_id_427",
          "item_brand_id_834",
          "item_brand_id_844",
          "item_brand_id_92"
         ],
         "y": [
          75,
          359,
          51,
          37,
          179,
          70,
          85,
          142,
          43,
          1505,
          73,
          64,
          46,
          30,
          265
         ]
        }
       ],
       "layout": {
        "barmode": "stack"
       }
      },
      "text/html": [
       "<div id=\"23496f6f-1b09-4c4c-8f99-ef218eeddbe7\" style=\"height: 525px; width: 100%;\" class=\"plotly-graph-div\"></div><script type=\"text/javascript\">require([\"plotly\"], function(Plotly) { window.PLOTLYENV=window.PLOTLYENV || {};window.PLOTLYENV.BASE_URL=\"https://plot.ly\";Plotly.newPlot(\"23496f6f-1b09-4c4c-8f99-ef218eeddbe7\", [{\"y\": [4160, 12686, 3679, 4179, 5101, 3383, 13738, 6400, 3152, 68241, 3666, 4541, 3132, 3444, 9851], \"x\": [\"item_brand_id_1049\", \"item_brand_id_1144\", \"item_brand_id_1322\", \"item_brand_id_1492\", \"item_brand_id_1533\", \"item_brand_id_1584\", \"item_brand_id_1594\", \"item_brand_id_160\", \"item_brand_id_1609\", \"item_brand_id_1755\", \"item_brand_id_1836\", \"item_brand_id_427\", \"item_brand_id_834\", \"item_brand_id_844\", \"item_brand_id_92\"], \"type\": \"bar\", \"name\": \"is_trade==0\"}, {\"y\": [75, 359, 51, 37, 179, 70, 85, 142, 43, 1505, 73, 64, 46, 30, 265], \"x\": [\"item_brand_id_1049\", \"item_brand_id_1144\", \"item_brand_id_1322\", \"item_brand_id_1492\", \"item_brand_id_1533\", \"item_brand_id_1584\", \"item_brand_id_1594\", \"item_brand_id_160\", \"item_brand_id_1609\", \"item_brand_id_1755\", \"item_brand_id_1836\", \"item_brand_id_427\", \"item_brand_id_834\", \"item_brand_id_844\", \"item_brand_id_92\"], \"type\": \"bar\", \"name\": \"is_trade==1\"}], {\"barmode\": \"stack\"}, {\"linkText\": \"Export to plot.ly\", \"showLink\": true})});</script>"
      ],
      "text/vnd.plotly.v1+html": [
       "<div id=\"23496f6f-1b09-4c4c-8f99-ef218eeddbe7\" style=\"height: 525px; width: 100%;\" class=\"plotly-graph-div\"></div><script type=\"text/javascript\">require([\"plotly\"], function(Plotly) { window.PLOTLYENV=window.PLOTLYENV || {};window.PLOTLYENV.BASE_URL=\"https://plot.ly\";Plotly.newPlot(\"23496f6f-1b09-4c4c-8f99-ef218eeddbe7\", [{\"y\": [4160, 12686, 3679, 4179, 5101, 3383, 13738, 6400, 3152, 68241, 3666, 4541, 3132, 3444, 9851], \"x\": [\"item_brand_id_1049\", \"item_brand_id_1144\", \"item_brand_id_1322\", \"item_brand_id_1492\", \"item_brand_id_1533\", \"item_brand_id_1584\", \"item_brand_id_1594\", \"item_brand_id_160\", \"item_brand_id_1609\", \"item_brand_id_1755\", \"item_brand_id_1836\", \"item_brand_id_427\", \"item_brand_id_834\", \"item_brand_id_844\", \"item_brand_id_92\"], \"type\": \"bar\", \"name\": \"is_trade==0\"}, {\"y\": [75, 359, 51, 37, 179, 70, 85, 142, 43, 1505, 73, 64, 46, 30, 265], \"x\": [\"item_brand_id_1049\", \"item_brand_id_1144\", \"item_brand_id_1322\", \"item_brand_id_1492\", \"item_brand_id_1533\", \"item_brand_id_1584\", \"item_brand_id_1594\", \"item_brand_id_160\", \"item_brand_id_1609\", \"item_brand_id_1755\", \"item_brand_id_1836\", \"item_brand_id_427\", \"item_brand_id_834\", \"item_brand_id_844\", \"item_brand_id_92\"], \"type\": \"bar\", \"name\": \"is_trade==1\"}], {\"barmode\": \"stack\"}, {\"linkText\": \"Export to plot.ly\", \"showLink\": true})});</script>"
      ]
     },
     "metadata": {},
     "output_type": "display_data"
    }
   ],
   "source": [
    "column = 'item_brand_id'\n",
    "fig = stack_bar(column, 15)\n",
    "iplot(fig, filename='stacked-%s_bar' % column)"
   ]
  },
  {
   "cell_type": "code",
   "execution_count": 15,
   "metadata": {},
   "outputs": [
    {
     "data": {
      "text/plain": [
       "<matplotlib.axes._subplots.AxesSubplot at 0x7f40c8387210>"
      ]
     },
     "execution_count": 15,
     "metadata": {},
     "output_type": "execute_result"
    },
    {
     "data": {
      "image/png": "[encoded data removed]",
      "text/plain": [
       "<Figure size 432x288 with 1 Axes>"
      ]
     },
     "metadata": {},
     "output_type": "display_data"
    }
   ],
   "source": [
    "item_data['item_brand_id'].value_counts()[:50].plot.bar()"
   ]
  },
  {
   "cell_type": "markdown",
   "metadata": {},
   "source": [
    "### 4.1.4 item_city_id"
   ]
  },
  {
   "cell_type": "code",
   "execution_count": 16,
   "metadata": {},
   "outputs": [
    {
     "data": {
      "application/vnd.plotly.v1+json": {
       "data": [
        {
         "name": "is_trade==0",
         "type": "bar",
         "x": [
          "item_city_id_0",
          "item_city_id_1",
          "item_city_id_10",
          "item_city_id_101",
          "item_city_id_106",
          "item_city_id_109",
          "item_city_id_112",
          "item_city_id_113",
          "item_city_id_114",
          "item_city_id_115",
          "item_city_id_116",
          "item_city_id_117",
          "item_city_id_118",
          "item_city_id_119",
          "item_city_id_120",
          "item_city_id_125",
          "item_city_id_126",
          "item_city_id_13",
          "item_city_id_14",
          "item_city_id_17",
          "item_city_id_20",
          "item_city_id_23",
          "item_city_id_24",
          "item_city_id_25",
          "item_city_id_26",
          "item_city_id_33",
          "item_city_id_38",
          "item_city_id_44",
          "item_city_id_48",
          "item_city_id_49",
          "item_city_id_5",
          "item_city_id_50",
          "item_city_id_56",
          "item_city_id_60",
          "item_city_id_65",
          "item_city_id_66",
          "item_city_id_68",
          "item_city_id_70",
          "item_city_id_72",
          "item_city_id_78",
          "item_city_id_79",
          "item_city_id_80",
          "item_city_id_81",
          "item_city_id_85",
          "item_city_id_86",
          "item_city_id_9",
          "item_city_id_90",
          "item_city_id_91",
          "item_city_id_97",
          "item_city_id_99"
         ],
         "y": [
          277,
          29611,
          1065,
          152956,
          508,
          1367,
          628,
          566,
          418,
          4152,
          1613,
          2000,
          630,
          1753,
          1093,
          433,
          2897,
          687,
          19205,
          2165,
          1218,
          975,
          533,
          5830,
          2102,
          2394,
          24213,
          1026,
          3765,
          695,
          391,
          53584,
          508,
          18450,
          3670,
          10502,
          1526,
          316,
          1732,
          33860,
          775,
          469,
          577,
          979,
          566,
          1743,
          3261,
          6697,
          982,
          57077
         ]
        },
        {
         "name": "is_trade==1",
         "type": "bar",
         "x": [
          "item_city_id_1",
          "item_city_id_10",
          "item_city_id_101",
          "item_city_id_106",
          "item_city_id_109",
          "item_city_id_112",
          "item_city_id_113",
          "item_city_id_114",
          "item_city_id_115",
          "item_city_id_116",
          "item_city_id_117",
          "item_city_id_118",
          "item_city_id_119",
          "item_city_id_120",
          "item_city_id_125",
          "item_city_id_126",
          "item_city_id_13",
          "item_city_id_14",
          "item_city_id_17",
          "item_city_id_20",
          "item_city_id_23",
          "item_city_id_24",
          "item_city_id_25",
          "item_city_id_26",
          "item_city_id_33",
          "item_city_id_38",
          "item_city_id_44",
          "item_city_id_48",
          "item_city_id_49",
          "item_city_id_5",
          "item_city_id_50",
          "item_city_id_56",
          "item_city_id_60",
          "item_city_id_65",
          "item_city_id_66",
          "item_city_id_68",
          "item_city_id_70",
          "item_city_id_72",
          "item_city_id_78",
          "item_city_id_79",
          "item_city_id_80",
          "item_city_id_81",
          "item_city_id_85",
          "item_city_id_86",
          "item_city_id_9",
          "item_city_id_90",
          "item_city_id_91",
          "item_city_id_97",
          "item_city_id_99"
         ],
         "y": [
          665,
          11,
          2035,
          14,
          18,
          8,
          7,
          21,
          105,
          36,
          31,
          28,
          25,
          17,
          5,
          41,
          43,
          496,
          48,
          10,
          9,
          2,
          86,
          84,
          41,
          549,
          37,
          156,
          10,
          4,
          888,
          9,
          299,
          64,
          181,
          22,
          4,
          52,
          1092,
          32,
          13,
          12,
          14,
          9,
          27,
          87,
          180,
          34,
          1249
         ]
        }
       ],
       "layout": {
        "barmode": "stack"
       }
      },
      "text/html": [
       "<div id=\"41d7ed97-f421-4a67-b74a-233db1b553e9\" style=\"height: 525px; width: 100%;\" class=\"plotly-graph-div\"></div><script type=\"text/javascript\">require([\"plotly\"], function(Plotly) { window.PLOTLYENV=window.PLOTLYENV || {};window.PLOTLYENV.BASE_URL=\"https://plot.ly\";Plotly.newPlot(\"41d7ed97-f421-4a67-b74a-233db1b553e9\", [{\"y\": [277, 29611, 1065, 152956, 508, 1367, 628, 566, 418, 4152, 1613, 2000, 630, 1753, 1093, 433, 2897, 687, 19205, 2165, 1218, 975, 533, 5830, 2102, 2394, 24213, 1026, 3765, 695, 391, 53584, 508, 18450, 3670, 10502, 1526, 316, 1732, 33860, 775, 469, 577, 979, 566, 1743, 3261, 6697, 982, 57077], \"x\": [\"item_city_id_0\", \"item_city_id_1\", \"item_city_id_10\", \"item_city_id_101\", \"item_city_id_106\", \"item_city_id_109\", \"item_city_id_112\", \"item_city_id_113\", \"item_city_id_114\", \"item_city_id_115\", \"item_city_id_116\", \"item_city_id_117\", \"item_city_id_118\", \"item_city_id_119\", \"item_city_id_120\", \"item_city_id_125\", \"item_city_id_126\", \"item_city_id_13\", \"item_city_id_14\", \"item_city_id_17\", \"item_city_id_20\", \"item_city_id_23\", \"item_city_id_24\", \"item_city_id_25\", \"item_city_id_26\", \"item_city_id_33\", \"item_city_id_38\", \"item_city_id_44\", \"item_city_id_48\", \"item_city_id_49\", \"item_city_id_5\", \"item_city_id_50\", \"item_city_id_56\", \"item_city_id_60\", \"item_city_id_65\", \"item_city_id_66\", \"item_city_id_68\", \"item_city_id_70\", \"item_city_id_72\", \"item_city_id_78\", \"item_city_id_79\", \"item_city_id_80\", \"item_city_id_81\", \"item_city_id_85\", \"item_city_id_86\", \"item_city_id_9\", \"item_city_id_90\", \"item_city_id_91\", \"item_city_id_97\", \"item_city_id_99\"], \"type\": \"bar\", \"name\": \"is_trade==0\"}, {\"y\": [665, 11, 2035, 14, 18, 8, 7, 21, 105, 36, 31, 28, 25, 17, 5, 41, 43, 496, 48, 10, 9, 2, 86, 84, 41, 549, 37, 156, 10, 4, 888, 9, 299, 64, 181, 22, 4, 52, 1092, 32, 13, 12, 14, 9, 27, 87, 180, 34, 1249], \"x\": [\"item_city_id_1\", \"item_city_id_10\", \"item_city_id_101\", \"item_city_id_106\", \"item_city_id_109\", \"item_city_id_112\", \"item_city_id_113\", \"item_city_id_114\", \"item_city_id_115\", \"item_city_id_116\", \"item_city_id_117\", \"item_city_id_118\", \"item_city_id_119\", \"item_city_id_120\", \"item_city_id_125\", \"item_city_id_126\", \"item_city_id_13\", \"item_city_id_14\", \"item_city_id_17\", \"item_city_id_20\", \"item_city_id_23\", \"item_city_id_24\", \"item_city_id_25\", \"item_city_id_26\", \"item_city_id_33\", \"item_city_id_38\", \"item_city_id_44\", \"item_city_id_48\", \"item_city_id_49\", \"item_city_id_5\", \"item_city_id_50\", \"item_city_id_56\", \"item_city_id_60\", \"item_city_id_65\", \"item_city_id_66\", \"item_city_id_68\", \"item_city_id_70\", \"item_city_id_72\", \"item_city_id_78\", \"item_city_id_79\", \"item_city_id_80\", \"item_city_id_81\", \"item_city_id_85\", \"item_city_id_86\", \"item_city_id_9\", \"item_city_id_90\", \"item_city_id_91\", \"item_city_id_97\", \"item_city_id_99\"], \"type\": \"bar\", \"name\": \"is_trade==1\"}], {\"barmode\": \"stack\"}, {\"linkText\": \"Export to plot.ly\", \"showLink\": true})});</script>"
      ],
      "text/vnd.plotly.v1+html": [
       "<div id=\"41d7ed97-f421-4a67-b74a-233db1b553e9\" style=\"height: 525px; width: 100%;\" class=\"plotly-graph-div\"></div><script type=\"text/javascript\">require([\"plotly\"], function(Plotly) { window.PLOTLYENV=window.PLOTLYENV || {};window.PLOTLYENV.BASE_URL=\"https://plot.ly\";Plotly.newPlot(\"41d7ed97-f421-4a67-b74a-233db1b553e9\", [{\"y\": [277, 29611, 1065, 152956, 508, 1367, 628, 566, 418, 4152, 1613, 2000, 630, 1753, 1093, 433, 2897, 687, 19205, 2165, 1218, 975, 533, 5830, 2102, 2394, 24213, 1026, 3765, 695, 391, 53584, 508, 18450, 3670, 10502, 1526, 316, 1732, 33860, 775, 469, 577, 979, 566, 1743, 3261, 6697, 982, 57077], \"x\": [\"item_city_id_0\", \"item_city_id_1\", \"item_city_id_10\", \"item_city_id_101\", \"item_city_id_106\", \"item_city_id_109\", \"item_city_id_112\", \"item_city_id_113\", \"item_city_id_114\", \"item_city_id_115\", \"item_city_id_116\", \"item_city_id_117\", \"item_city_id_118\", \"item_city_id_119\", \"item_city_id_120\", \"item_city_id_125\", \"item_city_id_126\", \"item_city_id_13\", \"item_city_id_14\", \"item_city_id_17\", \"item_city_id_20\", \"item_city_id_23\", \"item_city_id_24\", \"item_city_id_25\", \"item_city_id_26\", \"item_city_id_33\", \"item_city_id_38\", \"item_city_id_44\", \"item_city_id_48\", \"item_city_id_49\", \"item_city_id_5\", \"item_city_id_50\", \"item_city_id_56\", \"item_city_id_60\", \"item_city_id_65\", \"item_city_id_66\", \"item_city_id_68\", \"item_city_id_70\", \"item_city_id_72\", \"item_city_id_78\", \"item_city_id_79\", \"item_city_id_80\", \"item_city_id_81\", \"item_city_id_85\", \"item_city_id_86\", \"item_city_id_9\", \"item_city_id_90\", \"item_city_id_91\", \"item_city_id_97\", \"item_city_id_99\"], \"type\": \"bar\", \"name\": \"is_trade==0\"}, {\"y\": [665, 11, 2035, 14, 18, 8, 7, 21, 105, 36, 31, 28, 25, 17, 5, 41, 43, 496, 48, 10, 9, 2, 86, 84, 41, 549, 37, 156, 10, 4, 888, 9, 299, 64, 181, 22, 4, 52, 1092, 32, 13, 12, 14, 9, 27, 87, 180, 34, 1249], \"x\": [\"item_city_id_1\", \"item_city_id_10\", \"item_city_id_101\", \"item_city_id_106\", \"item_city_id_109\", \"item_city_id_112\", \"item_city_id_113\", \"item_city_id_114\", \"item_city_id_115\", \"item_city_id_116\", \"item_city_id_117\", \"item_city_id_118\", \"item_city_id_119\", \"item_city_id_120\", \"item_city_id_125\", \"item_city_id_126\", \"item_city_id_13\", \"item_city_id_14\", \"item_city_id_17\", \"item_city_id_20\", \"item_city_id_23\", \"item_city_id_24\", \"item_city_id_25\", \"item_city_id_26\", \"item_city_id_33\", \"item_city_id_38\", \"item_city_id_44\", \"item_city_id_48\", \"item_city_id_49\", \"item_city_id_5\", \"item_city_id_50\", \"item_city_id_56\", \"item_city_id_60\", \"item_city_id_65\", \"item_city_id_66\", \"item_city_id_68\", \"item_city_id_70\", \"item_city_id_72\", \"item_city_id_78\", \"item_city_id_79\", \"item_city_id_80\", \"item_city_id_81\", \"item_city_id_85\", \"item_city_id_86\", \"item_city_id_9\", \"item_city_id_90\", \"item_city_id_91\", \"item_city_id_97\", \"item_city_id_99\"], \"type\": \"bar\", \"name\": \"is_trade==1\"}], {\"barmode\": \"stack\"}, {\"linkText\": \"Export to plot.ly\", \"showLink\": true})});</script>"
      ]
     },
     "metadata": {},
     "output_type": "display_data"
    }
   ],
   "source": [
    "column = 'item_city_id'\n",
    "fig = stack_bar(column, 50)\n",
    "iplot(fig, filename='stacked-%s_bar' % column)"
   ]
  },
  {
   "cell_type": "code",
   "execution_count": 17,
   "metadata": {},
   "outputs": [
    {
     "data": {
      "text/plain": [
       "<matplotlib.axes._subplots.AxesSubplot at 0x7f40d5914c10>"
      ]
     },
     "execution_count": 17,
     "metadata": {},
     "output_type": "execute_result"
    },
    {
     "data": {
      "image/png": "[encoded data removed]",
      "text/plain": [
       "<Figure size 432x288 with 1 Axes>"
      ]
     },
     "metadata": {},
     "output_type": "display_data"
    }
   ],
   "source": [
    "item_data['item_brand_id'].value_counts()[:50].plot.bar()"
   ]
  },
  {
   "cell_type": "markdown",
   "metadata": {},
   "source": [
    "### 4.1.5 item_price_level"
   ]
  },
  {
   "cell_type": "code",
   "execution_count": 18,
   "metadata": {},
   "outputs": [
    {
     "data": {
      "text/plain": [
       "<matplotlib.axes._subplots.AxesSubplot at 0x7f40c8612c90>"
      ]
     },
     "execution_count": 18,
     "metadata": {},
     "output_type": "execute_result"
    },
    {
     "data": {
      "image/png": "[encoded data removed]",
      "text/plain": [
       "<Figure size 432x288 with 1 Axes>"
      ]
     },
     "metadata": {},
     "output_type": "display_data"
    }
   ],
   "source": [
    "item_data['item_price_level'].value_counts(sort=False).plot.bar()"
   ]
  },
  {
   "cell_type": "code",
   "execution_count": 19,
   "metadata": {},
   "outputs": [
    {
     "data": {
      "text/plain": [
       "7     209285\n",
       "8     115587\n",
       "6      89057\n",
       "5      41057\n",
       "4      14607\n",
       "9       4035\n",
       "3       3587\n",
       "10       456\n",
       "2        347\n",
       "1         85\n",
       "11        21\n",
       "0         12\n",
       "17         1\n",
       "16         1\n",
       "Name: item_price_level, dtype: int64"
      ]
     },
     "execution_count": 19,
     "metadata": {},
     "output_type": "execute_result"
    }
   ],
   "source": [
    "item_data['item_price_level'].value_counts()"
   ]
  },
  {
   "cell_type": "markdown",
   "metadata": {},
   "source": [
    "### 4.1.6 item_sales_level 销量等级"
   ]
  },
  {
   "cell_type": "code",
   "execution_count": 20,
   "metadata": {},
   "outputs": [
    {
     "data": {
      "text/plain": [
       "<matplotlib.axes._subplots.AxesSubplot at 0x7f40c8317850>"
      ]
     },
     "execution_count": 20,
     "metadata": {},
     "output_type": "execute_result"
    },
    {
     "data": {
      "image/png": "[encoded data removed]",
      "text/plain": [
       "<Figure size 432x288 with 1 Axes>"
      ]
     },
     "metadata": {},
     "output_type": "display_data"
    }
   ],
   "source": [
    "item_data['item_sales_level'].value_counts(sort=False).plot.bar()"
   ]
  },
  {
   "cell_type": "code",
   "execution_count": 21,
   "metadata": {},
   "outputs": [
    {
     "data": {
      "text/plain": [
       " 12    86960\n",
       " 11    80440\n",
       " 13    64451\n",
       " 10    57664\n",
       " 14    44525\n",
       " 9     39638\n",
       " 8     26969\n",
       " 15    22199\n",
       " 7     18030\n",
       " 16    11096\n",
       " 6     11034\n",
       " 5      5739\n",
       " 4      3230\n",
       " 17     1955\n",
       " 3      1844\n",
       " 2       950\n",
       "-1       913\n",
       " 1       501\n",
       "Name: item_sales_level, dtype: int64"
      ]
     },
     "execution_count": 21,
     "metadata": {},
     "output_type": "execute_result"
    }
   ],
   "source": [
    "item_data['item_sales_level'].value_counts()"
   ]
  },
  {
   "cell_type": "markdown",
   "metadata": {},
   "source": [
    "### 4.1.7 item_collected_level 广告商品被收藏次数的等级"
   ]
  },
  {
   "cell_type": "code",
   "execution_count": 22,
   "metadata": {},
   "outputs": [
    {
     "data": {
      "text/plain": [
       "<matplotlib.axes._subplots.AxesSubplot at 0x7f40c81e7210>"
      ]
     },
     "execution_count": 22,
     "metadata": {},
     "output_type": "execute_result"
    },
    {
     "data": {
      "image/png": "[encoded data removed]",
      "text/plain": [
       "<Figure size 432x288 with 1 Axes>"
      ]
     },
     "metadata": {},
     "output_type": "display_data"
    }
   ],
   "source": [
    "item_data['item_collected_level'].value_counts(sort=False).plot.bar()"
   ]
  },
  {
   "cell_type": "code",
   "execution_count": 23,
   "metadata": {},
   "outputs": [
    {
     "data": {
      "text/plain": [
       "12    84601\n",
       "13    84050\n",
       "14    73771\n",
       "11    53010\n",
       "15    46410\n",
       "10    42053\n",
       "9     23999\n",
       "16    20403\n",
       "8     16443\n",
       "17    11071\n",
       "7     10438\n",
       "6      5372\n",
       "5      2804\n",
       "4      1736\n",
       "3       939\n",
       "2       492\n",
       "0       279\n",
       "1       267\n",
       "Name: item_collected_level, dtype: int64"
      ]
     },
     "execution_count": 23,
     "metadata": {},
     "output_type": "execute_result"
    }
   ],
   "source": [
    "item_data['item_collected_level'].value_counts()"
   ]
  },
  {
   "cell_type": "markdown",
   "metadata": {},
   "source": [
    "### 4.1.8 item_pv_level 广告商品被展示次数的等级"
   ]
  },
  {
   "cell_type": "code",
   "execution_count": 24,
   "metadata": {
    "scrolled": true
   },
   "outputs": [
    {
     "data": {
      "text/plain": [
       "<matplotlib.axes._subplots.AxesSubplot at 0x7f40c8121750>"
      ]
     },
     "execution_count": 24,
     "metadata": {},
     "output_type": "execute_result"
    },
    {
     "data": {
      "image/png": "[encoded data removed]",
      "text/plain": [
       "<Figure size 432x288 with 1 Axes>"
      ]
     },
     "metadata": {},
     "output_type": "display_data"
    }
   ],
   "source": [
    "item_data['item_pv_level'].value_counts(sort=False).plot.bar()"
   ]
  },
  {
   "cell_type": "markdown",
   "metadata": {},
   "source": [
    "###  item_property_list  try TF-IDF"
   ]
  },
  {
   "cell_type": "code",
   "execution_count": 25,
   "metadata": {},
   "outputs": [],
   "source": [
    "from sklearn.feature_extraction.text import TfidfTransformer, CountVectorizer\n",
    "corpus = train.item_property_list.values.astype('U').tolist()\n",
    "vectorizer = CountVectorizer()\n",
    "vectorizer.fit(corpus)\n",
    "countvector = vectorizer.transform(train.item_property_list)\n",
    "transformer = TfidfTransformer()\n",
    "tf = transformer.fit_transform(countvector)\n",
    "x = np.mean(tf,1)\n",
    "item_data['property_list_tfidf'] = (x - np.min(x)) / (np.max(x) - np.min(x))"
   ]
  },
  {
   "cell_type": "code",
   "execution_count": 26,
   "metadata": {},
   "outputs": [
    {
     "name": "stdout",
     "output_type": "stream",
     "text": [
      "<class 'pandas.core.frame.DataFrame'>\n",
      "RangeIndex: 478138 entries, 0 to 478137\n",
      "Data columns (total 14 columns):\n",
      "item_id                 478138 non-null int64\n",
      "item_category_list      478138 non-null object\n",
      "item_property_list      478138 non-null object\n",
      "item_brand_id           478138 non-null object\n",
      "item_city_id            478138 non-null object\n",
      "item_price_level        478138 non-null int64\n",
      "item_sales_level        478138 non-null int64\n",
      "item_collected_level    478138 non-null int64\n",
      "item_pv_level           478138 non-null int64\n",
      "is_trade                478138 non-null int64\n",
      "category_0              478138 non-null object\n",
      "category_1              478138 non-null int64\n",
      "category_2              478138 non-null object\n",
      "property_list_tfidf     478138 non-null float64\n",
      "dtypes: float64(1), int64(7), object(6)\n",
      "memory usage: 51.1+ MB\n"
     ]
    }
   ],
   "source": [
    "item_data.info()"
   ]
  },
  {
   "cell_type": "markdown",
   "metadata": {},
   "source": [
    "### 相关性分析"
   ]
  },
  {
   "cell_type": "code",
   "execution_count": 27,
   "metadata": {},
   "outputs": [
    {
     "data": {
      "text/plain": [
       "(0.6721203405366242, 0.0)"
      ]
     },
     "execution_count": 27,
     "metadata": {},
     "output_type": "execute_result"
    }
   ],
   "source": [
    "sp.stats.pearsonr(item_data['item_pv_level'].values,item_data['item_collected_level'].values)"
   ]
  },
  {
   "cell_type": "code",
   "execution_count": 28,
   "metadata": {},
   "outputs": [
    {
     "data": {
      "text/plain": [
       "(0.7576972548596825, 0.0)"
      ]
     },
     "execution_count": 28,
     "metadata": {},
     "output_type": "execute_result"
    }
   ],
   "source": [
    "sp.stats.pearsonr(item_data['item_pv_level'].values,item_data['item_sales_level'].values)"
   ]
  },
  {
   "cell_type": "code",
   "execution_count": 29,
   "metadata": {},
   "outputs": [
    {
     "data": {
      "text/plain": [
       "(-0.029377090345582738, 8.938511655123964e-92)"
      ]
     },
     "execution_count": 29,
     "metadata": {},
     "output_type": "execute_result"
    }
   ],
   "source": [
    "sp.stats.pearsonr(item_data['item_sales_level'].values,item_data['item_price_level'].values)"
   ]
  },
  {
   "cell_type": "code",
   "execution_count": 30,
   "metadata": {},
   "outputs": [
    {
     "data": {
      "text/plain": [
       "<matplotlib.axes._subplots.AxesSubplot at 0x7f40db4e0f90>"
      ]
     },
     "execution_count": 30,
     "metadata": {},
     "output_type": "execute_result"
    },
    {
     "data": {
      "image/png": "[encoded data removed]",
      "text/plain": [
       "<Figure size 432x288 with 1 Axes>"
      ]
     },
     "metadata": {},
     "output_type": "display_data"
    }
   ],
   "source": [
    "# train.boxplot()\n",
    "# item_data.plot(kind='density')\n",
    "# plt.hist(item_data['item_pv_level'], bins = 10, range =(item_data['item_pv_level'].min(),item_data['item_pv_level'].max()))\n",
    "# item_data.item_pv_level.value_counts(sort=False).plot(kind='bar', figsize=(8,10))"
   ]
  },
  {
   "cell_type": "markdown",
   "metadata": {},
   "source": [
    "### 4.2 用户user分析"
   ]
  },
  {
   "cell_type": "code",
   "execution_count": 31,
   "metadata": {},
   "outputs": [],
   "source": [
    "# imp = Imputer(missing_values='-1', strategy='mean', axis=0)\n",
    "# df = df.fit_transform(df)\n",
    "user_columns = ['user_id', 'user_gender_id', 'user_age_level', 'user_occupation_id', 'user_star_level', 'is_trade']\n",
    "user_data = df[user_columns]"
   ]
  },
  {
   "cell_type": "code",
   "execution_count": 32,
   "metadata": {},
   "outputs": [
    {
     "data": {
      "text/plain": [
       "user_id               207641\n",
       "user_gender_id             4\n",
       "user_age_level             9\n",
       "user_occupation_id         5\n",
       "user_star_level           12\n",
       "is_trade                   2\n",
       "dtype: int64"
      ]
     },
     "execution_count": 32,
     "metadata": {},
     "output_type": "execute_result"
    }
   ],
   "source": [
    "user_data.nunique()"
   ]
  },
  {
   "cell_type": "markdown",
   "metadata": {},
   "source": [
    "### 4.2.1 user_gender_id"
   ]
  },
  {
   "cell_type": "code",
   "execution_count": 33,
   "metadata": {},
   "outputs": [
    {
     "data": {
      "text/plain": [
       "0    387964\n",
       "1     97794\n",
       "2     10751\n",
       "Name: user_gender_id, dtype: int64"
      ]
     },
     "execution_count": 33,
     "metadata": {},
     "output_type": "execute_result"
    }
   ],
   "source": [
    "user_data['user_gender_id'][user_data['user_gender_id']==-1] = user_data['user_gender_id'].mode().values[0]\n",
    "user_data['user_gender_id'].value_counts()"
   ]
  },
  {
   "cell_type": "markdown",
   "metadata": {},
   "source": [
    "### 4.2.2 user_age_level"
   ]
  },
  {
   "cell_type": "code",
   "execution_count": 34,
   "metadata": {},
   "outputs": [
    {
     "data": {
      "text/plain": [
       " 1003    175939\n",
       " 1004    131139\n",
       " 1002     72838\n",
       " 1005     58767\n",
       " 1006     31254\n",
       " 1000     13501\n",
       " 1001      6666\n",
       " 1007      5423\n",
       "-1          982\n",
       "Name: user_age_level, dtype: int64"
      ]
     },
     "execution_count": 34,
     "metadata": {},
     "output_type": "execute_result"
    },
    {
     "data": {
      "image/png": "[encoded data removed]",
      "text/plain": [
       "<Figure size 432x288 with 1 Axes>"
      ]
     },
     "metadata": {},
     "output_type": "display_data"
    }
   ],
   "source": [
    "# user_data['user_age_level'][user_data['user_age_level']==-1] = \n",
    "user_data['user_age_level'].value_counts(sort=False).plot.bar()\n",
    "user_data['user_age_level'].value_counts()"
   ]
  },
  {
   "cell_type": "markdown",
   "metadata": {},
   "source": [
    "### 4.2.3 user_star_level"
   ]
  },
  {
   "cell_type": "code",
   "execution_count": 35,
   "metadata": {},
   "outputs": [
    {
     "data": {
      "text/plain": [
       " 3006    85132\n",
       " 3003    77450\n",
       " 3005    70044\n",
       " 3002    65338\n",
       " 3004    64165\n",
       " 3007    55356\n",
       " 3000    32554\n",
       " 3008    20977\n",
       " 3001    20031\n",
       " 3009     4299\n",
       "-1         982\n",
       " 3010      181\n",
       "Name: user_star_level, dtype: int64"
      ]
     },
     "execution_count": 35,
     "metadata": {},
     "output_type": "execute_result"
    },
    {
     "data": {
      "image/png": "[encoded data removed]",
      "text/plain": [
       "<Figure size 432x288 with 1 Axes>"
      ]
     },
     "metadata": {},
     "output_type": "display_data"
    }
   ],
   "source": [
    "user_data['user_star_level'].value_counts(sort=False).plot.bar()\n",
    "user_data['user_star_level'].value_counts()"
   ]
  },
  {
   "cell_type": "markdown",
   "metadata": {},
   "source": [
    "### 4.2.4 user_occupation_id"
   ]
  },
  {
   "cell_type": "code",
   "execution_count": 36,
   "metadata": {},
   "outputs": [
    {
     "data": {
      "text/plain": [
       "<matplotlib.axes._subplots.AxesSubplot at 0x7f40c33e7310>"
      ]
     },
     "execution_count": 36,
     "metadata": {},
     "output_type": "execute_result"
    },
    {
     "data": {
      "image/png": "[encoded data removed]",
      "text/plain": [
       "<Figure size 432x288 with 1 Axes>"
      ]
     },
     "metadata": {},
     "output_type": "display_data"
    }
   ],
   "source": [
    "test['user_occupation_id'].value_counts()\n",
    "test['user_occupation_id'].value_counts(sort=False).plot.bar()"
   ]
  },
  {
   "cell_type": "markdown",
   "metadata": {},
   "source": [
    "### 4.2.4 user_id"
   ]
  },
  {
   "cell_type": "code",
   "execution_count": 37,
   "metadata": {
    "scrolled": true
   },
   "outputs": [
    {
     "data": {
      "text/plain": [
       "18371"
      ]
     },
     "execution_count": 37,
     "metadata": {},
     "output_type": "execute_result"
    }
   ],
   "source": [
    "test['user_id'].count()"
   ]
  },
  {
   "cell_type": "markdown",
   "metadata": {},
   "source": [
    "### 4.3 shop分析"
   ]
  },
  {
   "cell_type": "code",
   "execution_count": 38,
   "metadata": {},
   "outputs": [],
   "source": [
    "shop_data_column = ['shop_id', 'shop_review_num_level', 'shop_review_positive_rate', 'shop_star_level', \n",
    "                  'shop_score_service','shop_score_delivery', 'shop_score_description','is_trade']\n",
    "shop_data = train[shop_data_column]"
   ]
  },
  {
   "cell_type": "code",
   "execution_count": 39,
   "metadata": {},
   "outputs": [
    {
     "data": {
      "text/plain": [
       "<matplotlib.axes._subplots.AxesSubplot at 0x7f40dae18d50>"
      ]
     },
     "execution_count": 39,
     "metadata": {},
     "output_type": "execute_result"
    },
    {
     "data": {
      "image/png": "[encoded data removed]",
      "text/plain": [
       "<Figure size 432x288 with 1 Axes>"
      ]
     },
     "metadata": {},
     "output_type": "display_data"
    }
   ],
   "source": [
    "shop_data['shop_review_num_level'].value_counts(sort=False).plot.bar()"
   ]
  },
  {
   "cell_type": "markdown",
   "metadata": {},
   "source": [
    "### 4.3.1 每个shop被view的次数count"
   ]
  },
  {
   "cell_type": "code",
   "execution_count": 40,
   "metadata": {},
   "outputs": [],
   "source": [
    "shop_instance_count = shop_data.groupby(['shop_id']).size().reset_index().rename(columns={0:'shop_instance_count'})\n",
    "shop_data = pd.merge(shop_data, shop_instance_count, 'left', on='shop_id')"
   ]
  },
  {
   "cell_type": "code",
   "execution_count": 41,
   "metadata": {},
   "outputs": [
    {
     "data": {
      "text/plain": [
       "<matplotlib.axes._subplots.AxesSubplot at 0x7f40dad92b10>"
      ]
     },
     "execution_count": 41,
     "metadata": {},
     "output_type": "execute_result"
    },
    {
     "data": {
      "image/png": "[encoded data removed]",
      "text/plain": [
       "<Figure size 432x288 with 1 Axes>"
      ]
     },
     "metadata": {},
     "output_type": "display_data"
    }
   ],
   "source": [
    "shop_data['shop_instance_count'].value_counts()[:50].plot.bar()"
   ]
  },
  {
   "cell_type": "code",
   "execution_count": 42,
   "metadata": {},
   "outputs": [
    {
     "data": {
      "text/plain": [
       "shop_id                      478138\n",
       "shop_review_num_level        478138\n",
       "shop_review_positive_rate    478138\n",
       "shop_star_level              478138\n",
       "shop_score_service           478138\n",
       "shop_score_delivery          478138\n",
       "shop_score_description       478138\n",
       "is_trade                     478138\n",
       "shop_instance_count          478138\n",
       "dtype: int64"
      ]
     },
     "execution_count": 42,
     "metadata": {},
     "output_type": "execute_result"
    }
   ],
   "source": [
    "shop_data.count()"
   ]
  },
  {
   "cell_type": "markdown",
   "metadata": {},
   "source": [
    "### 4.3.2 shop_review_num_level"
   ]
  },
  {
   "cell_type": "code",
   "execution_count": 43,
   "metadata": {},
   "outputs": [
    {
     "data": {
      "text/plain": [
       "17    81437\n",
       "16    79295\n",
       "15    65954\n",
       "14    50727\n",
       "18    50617\n",
       "13    31051\n",
       "20    24914\n",
       "21    22855\n",
       "12    18673\n",
       "19    16230\n",
       "11    14008\n",
       "10     8598\n",
       "9      5484\n",
       "8      3089\n",
       "7      1849\n",
       "6      1343\n",
       "22      619\n",
       "5       578\n",
       "23      353\n",
       "4       266\n",
       "2        87\n",
       "3        80\n",
       "1        20\n",
       "0         7\n",
       "25        4\n",
       "Name: shop_review_num_level, dtype: int64"
      ]
     },
     "execution_count": 43,
     "metadata": {},
     "output_type": "execute_result"
    },
    {
     "data": {
      "image/png": "[encoded data removed]",
      "text/plain": [
       "<Figure size 432x288 with 1 Axes>"
      ]
     },
     "metadata": {},
     "output_type": "display_data"
    }
   ],
   "source": [
    "shop_data['shop_review_num_level'].value_counts(sort=False).plot.bar()\n",
    "shop_data['shop_review_num_level'].value_counts()"
   ]
  },
  {
   "cell_type": "code",
   "execution_count": 44,
   "metadata": {},
   "outputs": [
    {
     "data": {
      "text/plain": [
       "<matplotlib.axes._subplots.AxesSubplot at 0x7f40dab22f10>"
      ]
     },
     "execution_count": 44,
     "metadata": {},
     "output_type": "execute_result"
    },
    {
     "data": {
      "image/png": "[encoded data removed]",
      "text/plain": [
       "<Figure size 432x288 with 1 Axes>"
      ]
     },
     "metadata": {},
     "output_type": "display_data"
    }
   ],
   "source": [
    "shop_data['shop_star_level'].value_counts()\n",
    "shop_data['shop_star_level'].value_counts().plot.bar()"
   ]
  },
  {
   "cell_type": "code",
   "execution_count": 45,
   "metadata": {},
   "outputs": [
    {
     "data": {
      "text/plain": [
       "<matplotlib.axes._subplots.AxesSubplot at 0x7f40daa101d0>"
      ]
     },
     "execution_count": 45,
     "metadata": {},
     "output_type": "execute_result"
    },
    {
     "data": {
      "image/png": "[encoded data removed]",
      "text/plain": [
       "<Figure size 432x288 with 1 Axes>"
      ]
     },
     "metadata": {},
     "output_type": "display_data"
    }
   ],
   "source": [
    "'shop_review_positive_rate','shop_score_service','shop_score_delivery', 'shop_score_description'\n",
    "shop_data['shop_star_level'].value_counts()\n",
    "shop_data['shop_star_level'].value_counts().plot.bar()"
   ]
  },
  {
   "cell_type": "code",
   "execution_count": 46,
   "metadata": {},
   "outputs": [
    {
     "data": {
      "text/plain": [
       "478138"
      ]
     },
     "execution_count": 46,
     "metadata": {},
     "output_type": "execute_result"
    }
   ],
   "source": [
    "shop_data['shop_review_positive_rate'].count()\n",
    "# shop_data['shop_review_positive_rate'][shop_data['shop_review_positive_rate']<0.98].count()"
   ]
  },
  {
   "cell_type": "markdown",
   "metadata": {},
   "source": [
    "### visualize correlations using heatmap"
   ]
  },
  {
   "cell_type": "code",
   "execution_count": 47,
   "metadata": {},
   "outputs": [
    {
     "data": {
      "text/plain": [
       "<matplotlib.collections.PolyCollection at 0x7f40da837ed0>"
      ]
     },
     "execution_count": 47,
     "metadata": {},
     "output_type": "execute_result"
    },
    {
     "data": {
      "image/png": "[encoded data removed]",
      "text/plain": [
       "<Figure size 1080x360 with 3 Axes>"
      ]
     },
     "metadata": {},
     "output_type": "display_data"
    }
   ],
   "source": [
    "fig = plt.figure(figsize=(15, 5))\n",
    "ax1 = fig.add_subplot(1,3,1)\n",
    "corMat = pd.DataFrame(shop_data.corr(method='spearman'))\n",
    "plt.title('spearman')\n",
    "plt.pcolor(corMat)\n",
    "ax2 = fig.add_subplot(1,3,2)\n",
    "corMat = pd.DataFrame(shop_data.corr(method='pearson'))\n",
    "plt.title('pearson')\n",
    "plt.pcolor(corMat)\n",
    "ax3 = fig.add_subplot(1,3,3)\n",
    "corMat = pd.DataFrame(shop_data.corr(method='kendall'), columns=shop_data.columns.values.tolist())\n",
    "plt.title('kendall')\n",
    "plt.pcolor(corMat)"
   ]
  },
  {
   "cell_type": "code",
   "execution_count": 48,
   "metadata": {},
   "outputs": [
    {
     "data": {
      "text/plain": [
       "[u'shop_id',\n",
       " u'shop_review_num_level',\n",
       " u'shop_review_positive_rate',\n",
       " u'shop_star_level',\n",
       " u'shop_score_service',\n",
       " u'shop_score_delivery',\n",
       " u'shop_score_description',\n",
       " u'is_trade',\n",
       " 'shop_instance_count']"
      ]
     },
     "execution_count": 48,
     "metadata": {},
     "output_type": "execute_result"
    }
   ],
   "source": [
    "shop_data.columns.values.tolist()"
   ]
  },
  {
   "cell_type": "code",
   "execution_count": 49,
   "metadata": {},
   "outputs": [
    {
     "data": {
      "text/plain": [
       "array([u'instance_id', u'item_id', u'item_category_list',\n",
       "       u'item_property_list', u'item_brand_id', u'item_city_id',\n",
       "       u'item_price_level', u'item_sales_level', u'item_collected_level',\n",
       "       u'item_pv_level', u'user_id', u'user_gender_id', u'user_age_level',\n",
       "       u'user_occupation_id', u'user_star_level', u'context_id',\n",
       "       u'context_timestamp', u'context_page_id',\n",
       "       u'predict_category_property', u'shop_id', u'shop_review_num_level',\n",
       "       u'shop_review_positive_rate', u'shop_star_level',\n",
       "       u'shop_score_service', u'shop_score_delivery',\n",
       "       u'shop_score_description', u'is_trade', 'isTrain'], dtype=object)"
      ]
     },
     "execution_count": 49,
     "metadata": {},
     "output_type": "execute_result"
    }
   ],
   "source": [
    "train.columns.values"
   ]
  },
  {
   "cell_type": "markdown",
   "metadata": {},
   "source": [
    "### 4.4 context"
   ]
  },
  {
   "cell_type": "code",
   "execution_count": 50,
   "metadata": {},
   "outputs": [],
   "source": [
    "context_columns = ['context_id', 'context_timestamp', 'context_page_id', 'predict_category_property']\n",
    "context = train[context_columns]"
   ]
  },
  {
   "cell_type": "code",
   "execution_count": 51,
   "metadata": {},
   "outputs": [
    {
     "data": {
      "text/plain": [
       "<matplotlib.axes._subplots.AxesSubplot at 0x7f40da8fab50>"
      ]
     },
     "execution_count": 51,
     "metadata": {},
     "output_type": "execute_result"
    },
    {
     "data": {
      "image/png": "[encoded data removed]",
      "text/plain": [
       "<Figure size 432x288 with 1 Axes>"
      ]
     },
     "metadata": {},
     "output_type": "display_data"
    }
   ],
   "source": [
    "context['context_page_id'].value_counts().plot.bar()"
   ]
  },
  {
   "cell_type": "code",
   "execution_count": 57,
   "metadata": {},
   "outputs": [],
   "source": [
    "def date_convert(data):\n",
    "    # Transform into datetime format\n",
    "    data['time'] = pd.to_datetime(data.context_timestamp, unit='s')\n",
    "    \n",
    "    # transform into Beijing datetime format\n",
    "    data['realtime'] = data['time'].apply(lambda x: x + datetime.timedelta(hours=8))\n",
    "    data['day'] = data['realtime'].dt.day\n",
    "    data['hour'] = data['realtime'].dt.hour\n",
    "    \n",
    "    return data"
   ]
  },
  {
   "cell_type": "code",
   "execution_count": 58,
   "metadata": {},
   "outputs": [],
   "source": [
    "context=date_convert(context)"
   ]
  },
  {
   "cell_type": "code",
   "execution_count": 61,
   "metadata": {},
   "outputs": [
    {
     "data": {
      "text/plain": [
       "<matplotlib.axes._subplots.AxesSubplot at 0x7f40daa8fd10>"
      ]
     },
     "execution_count": 61,
     "metadata": {},
     "output_type": "execute_result"
    },
    {
     "data": {
      "image/png": "[encoded data removed]",
      "text/plain": [
       "<Figure size 432x288 with 1 Axes>"
      ]
     },
     "metadata": {},
     "output_type": "display_data"
    }
   ],
   "source": [
    "context.day.value_counts().plot.bar()"
   ]
  },
  {
   "cell_type": "code",
   "execution_count": 62,
   "metadata": {},
   "outputs": [
    {
     "data": {
      "text/plain": [
       "<matplotlib.axes._subplots.AxesSubplot at 0x7f40dab096d0>"
      ]
     },
     "execution_count": 62,
     "metadata": {},
     "output_type": "execute_result"
    },
    {
     "data": {
      "image/png": "[encoded data removed]",
      "text/plain": [
       "<Figure size 432x288 with 1 Axes>"
      ]
     },
     "metadata": {},
     "output_type": "display_data"
    }
   ],
   "source": [
    "context.hour.value_counts().plot.bar()"
   ]
  },
  {
   "cell_type": "code",
   "execution_count": 101,
   "metadata": {},
   "outputs": [],
   "source": [
    "def process_category_property(x):\n",
    "    category = []\n",
    "    for i in x.split(';'):\n",
    "        category.append(i.split(':')[0])\n",
    "    return ';'.join(set(category))\n",
    "predict_category_property_count = predict_category_property.apply(process_category_property\n",
    ")"
   ]
  },
  {
   "cell_type": "code",
   "execution_count": 105,
   "metadata": {},
   "outputs": [],
   "source": [
    "# predict_category_property_count.value_counts()"
   ]
  },
  {
   "cell_type": "code",
   "execution_count": 106,
   "metadata": {},
   "outputs": [],
   "source": [
    "# predict_category_property.values"
   ]
  },
  {
   "cell_type": "code",
   "execution_count": null,
   "metadata": {},
   "outputs": [],
   "source": []
  }
 ],
 "metadata": {
  "kernelspec": {
   "display_name": "Python 3",
   "language": "python",
   "name": "python3"
  },
  "language_info": {
   "codemirror_mode": {
    "name": "ipython",
    "version": 3
   },
   "file_extension": ".py",
   "mimetype": "text/x-python",
   "name": "python",
   "nbconvert_exporter": "python",
   "pygments_lexer": "ipython3",
   "version": "3.5.0"
  }
 },
 "nbformat": 4,
 "nbformat_minor": 2
}
