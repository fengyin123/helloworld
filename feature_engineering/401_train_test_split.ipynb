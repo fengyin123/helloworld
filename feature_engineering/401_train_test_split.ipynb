{
 "cells": [
  {
   "cell_type": "code",
   "execution_count": 33,
   "metadata": {},
   "outputs": [
    {
     "name": "stderr",
     "output_type": "stream",
     "text": [
      "100%|██████████| 7/7 [00:00<00:00, 59313.39it/s]"
     ]
    },
    {
     "name": "stdout",
     "output_type": "stream",
     "text": [
      "train_shape_before:(478087, 36)\n",
      "test_shape_before:(18371, 36)\n",
      "(478087, 11)\n"
     ]
    },
    {
     "name": "stderr",
     "output_type": "stream",
     "text": [
      "\n"
     ]
    },
    {
     "name": "stdout",
     "output_type": "stream",
     "text": [
      "(478087, 16)\n",
      "(478087, 22)\n",
      "(478087, 23)\n",
      "(478087, 26)\n",
      "(478087, 36)\n"
     ]
    },
    {
     "name": "stderr",
     "output_type": "stream",
     "text": [
      "100%|██████████| 7/7 [00:00<00:00, 40000.17it/s]"
     ]
    },
    {
     "name": "stdout",
     "output_type": "stream",
     "text": [
      "(478087, 42)\n",
      "(18371, 11)\n",
      "(18371, 16)\n",
      "(18371, 22)\n",
      "(18371, 23)\n",
      "(18371, 26)\n",
      "(18371, 36)\n",
      "(18371, 42)\n"
     ]
    },
    {
     "name": "stderr",
     "output_type": "stream",
     "text": [
      "\n"
     ]
    },
    {
     "name": "stdout",
     "output_type": "stream",
     "text": [
      "train_feats_shape:(478087, 41)\n",
      "test_feats_shape:(18371, 41)\n",
      "train_shape:(478087, 79)\n",
      "test_shape:(18371, 79)\n",
      "the shape of train (420676, 77)\n",
      "the shape of valid (57411, 77)\n",
      "the shape of test (18371, 77)\n"
     ]
    },
    {
     "name": "stderr",
     "output_type": "stream",
     "text": [
      "100%|██████████| 8/8 [00:07<00:00,  1.03it/s]\n"
     ]
    },
    {
     "name": "stdout",
     "output_type": "stream",
     "text": [
      "Int64Index([     0,      1,      2,      3,      4,      5,      6,      7,\n",
      "                 8,      9,\n",
      "            ...\n",
      "            420666, 420667, 420668, 420669, 420670, 420671, 420672, 420673,\n",
      "            420674, 420675],\n",
      "           dtype='int64', length=420676)\n",
      "RangeIndex(start=0, stop=18371, step=1)\n",
      "train shap: (357066, 280)\n",
      "cv shape (121021, 280)\n",
      "test shape (18371, 280)\n"
     ]
    }
   ],
   "source": [
    "# %load 501_train_test_split.py\n",
    "from glob import glob\n",
    "from utils import BayesianSmoothing, load_pickle, dump_pickle, raw_data_path\n",
    "import pandas as pd\n",
    "from tqdm import tqdm\n",
    "from sklearn.preprocessing import minmax_scale\n",
    "import numpy as np\n",
    "import gc\n",
    "from sklearn.preprocessing import LabelEncoder\n",
    "\n",
    "def read_pickles(path):\n",
    "   \n",
    "    #   print([pd.read_pickle(f).shape for f in tqdm(sorted(glob(path+'/*.pkl')))])\n",
    "    #   df = pd.concat([pd.read_pickle(f) for f in tqdm(sorted(glob(path+'/*.pkl')))], axis=1)\n",
    "    f_list = [f for f in tqdm(sorted(glob(path+'/*.pkl')))]\n",
    "    df = None   \n",
    "    for f in f_list:\n",
    "        if df is None:\n",
    "#             print(pd.read_pickle(f).shape[0])\n",
    "            df = pd.read_pickle(f)\n",
    "#             print(f)\n",
    "            print(df.shape)\n",
    "        else:\n",
    "#             print(pd.read_pickle(f).shape[0])\n",
    "#             print(f)\n",
    "            df = pd.merge(df, pd.read_pickle(f), on='instance_id', how='inner')            \n",
    "            print(df.shape)\n",
    "#             df = pd.concat([df, pd.read_pickle(f).reset_index()], axis=1)\n",
    "#             print(df.shape)\n",
    "    return df\n",
    "\n",
    "def data_split(add_features=True):\n",
    "    train = load_pickle('../data/train.pkl')\n",
    "    test = load_pickle('../data/test.pkl')\n",
    "    \n",
    "    print('train_shape_before:{}'.format(train.shape))\n",
    "    print('test_shape_before:{}'.format(test.shape))\n",
    "    \n",
    "    if add_features:\n",
    "        train_feats = read_pickles('../data/train_feature')\n",
    "        test_feats = read_pickles('../data/test_feature')\n",
    "\n",
    "        train_feats.drop('instance_id', axis=1, inplace=True)\n",
    "        test_feats.drop('instance_id', axis=1, inplace=True)\n",
    "\n",
    "        print('train_feats_shape:{}'.format(train_feats.shape))\n",
    "        print('test_feats_shape:{}'.format(test_feats.shape))\n",
    "\n",
    "        train = pd.concat([train.reset_index(), train_feats.reset_index()], axis=1)\n",
    "        test = pd.concat([test.reset_index(), test_feats.reset_index()], axis=1)\n",
    "\n",
    "        print('train_shape:{}'.format(train.shape))\n",
    "        print('test_shape:{}'.format(test.shape))\n",
    "    \n",
    "    \n",
    "        del train_feats; gc.collect()\n",
    "        del test_feats; gc.collect()\n",
    "    \n",
    "    drop_columns = ['time', 'realtime']\n",
    "    train.drop(drop_columns, axis=1, inplace=True)\n",
    "    test.drop(drop_columns, axis=1, inplace=True)\n",
    "\n",
    "    train_df = train[train.day<24].copy()\n",
    "    #train_df = handle_imbalance(train_df)\n",
    "    valid_df = train[train.day==24].copy()\n",
    "    test_df = test\n",
    "    \n",
    "    train_df.fillna(-1, inplace=True)\n",
    "    valid_df.fillna(-1, inplace=True)\n",
    "    test_df.fillna(-1, inplace=True)\n",
    "    \n",
    "    \n",
    "    print('the shape of train {}'.format(train_df.shape))\n",
    "    print('the shape of valid {}'.format(valid_df.shape))\n",
    "    print('the shape of test {}'.format(test_df.shape))\n",
    "    \n",
    "    dump_pickle(train_df, path='../data/train_final.pkl')\n",
    "    dump_pickle(valid_df, path='../data/valid_final.pkl')\n",
    "    dump_pickle(test_df, path='../data/test_final.pkl')\n",
    "    del train_df; gc.collect()\n",
    "    del valid_df; gc.collect()\n",
    "    del test_df; gc.collect()\n",
    "\n",
    "def data_onehot(add_features=True):\n",
    "\n",
    "    train_data = load_pickle(path='../data/train_final.pkl')\n",
    "    valid_data = load_pickle(path='../data/valid_final.pkl')\n",
    "    test_data = load_pickle(path='../data/test_final.pkl')\n",
    "\n",
    "    if add_features:\n",
    "        cols = ['time_discrete', 'user_gender_id','user_age_level','user_occupation_id'\n",
    "                ,'item_city_id','item_price_level'\n",
    "                ,'context_page_id','shop_review_num_level']\n",
    "    else:\n",
    "        cols = ['user_gender_id','user_age_level','user_occupation_id'\n",
    "                ,'item_city_id','item_price_level'\n",
    "                ,'context_page_id','shop_review_num_level']\n",
    "\n",
    "    data = pd.concat([train_data, valid_data, test_data], axis=0, ignore_index=True)\n",
    "\n",
    "    for col in tqdm(cols):\n",
    "        col_feature = pd.get_dummies(data[col], prefix=col)\n",
    "        data.drop([col], axis=1, inplace=True)\n",
    "        data = pd.concat([data, col_feature], axis=1)\n",
    "\n",
    "    print(train_data.index)\n",
    "    print(test_data.index)\n",
    "    train_data = data[data.day<23].copy()\n",
    "    valid_data = data[(data.day==23)|(data.day==24)].copy()\n",
    "    test_data = data[data.day==25].copy()\n",
    "    \n",
    "#     train_data.reset_index(inplace=True, drop=True)\n",
    "#     valid_data.reset_index(inplace=True, drop=True)\n",
    "#     test_data.reset_index(inplace=True, drop=True)\n",
    "\n",
    "    print('train shap:',train_data.shape)\n",
    "    print('cv shape', valid_data.shape)\n",
    "    print('test shape', test_data.shape)\n",
    "    \n",
    "    dump_pickle(train_data, path='../data/train_final_onehot.pkl')\n",
    "    dump_pickle(valid_data, path='../data/valid_final_onehot.pkl')\n",
    "    dump_pickle(test_data, path='../data/test_final_onehot.pkl')\n",
    "\n",
    "\n",
    "data_split(add_features=True)\n",
    "data_onehot(add_features=True)\n",
    "\n",
    "\n"
   ]
  },
  {
   "cell_type": "code",
   "execution_count": 22,
   "metadata": {},
   "outputs": [
    {
     "ename": "NameError",
     "evalue": "name 'train_data' is not defined",
     "output_type": "error",
     "traceback": [
      "\u001b[0;31m---------------------------------------------------------------------------\u001b[0m",
      "\u001b[0;31mNameError\u001b[0m                                 Traceback (most recent call last)",
      "\u001b[0;32m<ipython-input-22-297c07f815f9>\u001b[0m in \u001b[0;36m<module>\u001b[0;34m()\u001b[0m\n\u001b[0;32m----> 1\u001b[0;31m \u001b[0mtrain_data\u001b[0m\u001b[0;34m.\u001b[0m\u001b[0mdtypes\u001b[0m\u001b[0;34m\u001b[0m\u001b[0m\n\u001b[0m",
      "\u001b[0;31mNameError\u001b[0m: name 'train_data' is not defined"
     ]
    }
   ],
   "source": [
    "train_data.dtypes"
   ]
  },
  {
   "cell_type": "code",
   "execution_count": null,
   "metadata": {
    "collapsed": true
   },
   "outputs": [],
   "source": []
  }
 ],
 "metadata": {
  "kernelspec": {
   "display_name": "Python 3",
   "language": "python",
   "name": "python3"
  },
  "language_info": {
   "codemirror_mode": {
    "name": "ipython",
    "version": 3
   },
   "file_extension": ".py",
   "mimetype": "text/x-python",
   "name": "python",
   "nbconvert_exporter": "python",
   "pygments_lexer": "ipython3",
   "version": "3.5.0"
  }
 },
 "nbformat": 4,
 "nbformat_minor": 2
}
