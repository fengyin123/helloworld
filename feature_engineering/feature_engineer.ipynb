{
 "cells": [
  {
   "cell_type": "code",
   "execution_count": 1,
   "metadata": {},
   "outputs": [
    {
     "name": "stdout",
     "output_type": "stream",
     "text": [
      "========> Load Data Success!\n"
     ]
    }
   ],
   "source": [
    "# encoding:utf-8\n",
    "from utils import BayesianSmoothing, load_pickle, dump_pickle, raw_data_path\n",
    "import gc\n",
    "import numpy as np\n",
    "import pandas as pd\n",
    "from tqdm import tqdm\n",
    "path = '../data/'\n",
    "# 训练集\n",
    "train = pd.read_table(path+'round1_ijcai_18_train_20180301.txt',encoding='utf8',delim_whitespace=True)\n",
    "train['isTrain'] = 1\n",
    "    \n",
    "# 测试集\n",
    "test = pd.read_table(path+'round1_ijcai_18_test_a_20180301.txt',encoding='utf8',delim_whitespace=True)\n",
    "test['isTrain'] = 0\n",
    "        \n",
    "# 连接\n",
    "df = pd.concat([train, test])\n",
    "print(\"========> Load Data Success!\") "
   ]
  },
  {
   "cell_type": "code",
   "execution_count": 2,
   "metadata": {},
   "outputs": [
    {
     "data": {
      "text/plain": [
       "Index([              u'instance_id',                   u'item_id',\n",
       "              u'item_category_list',        u'item_property_list',\n",
       "                   u'item_brand_id',              u'item_city_id',\n",
       "                u'item_price_level',          u'item_sales_level',\n",
       "            u'item_collected_level',             u'item_pv_level',\n",
       "                         u'user_id',            u'user_gender_id',\n",
       "                  u'user_age_level',        u'user_occupation_id',\n",
       "                 u'user_star_level',                u'context_id',\n",
       "               u'context_timestamp',           u'context_page_id',\n",
       "       u'predict_category_property',                   u'shop_id',\n",
       "           u'shop_review_num_level', u'shop_review_positive_rate',\n",
       "                 u'shop_star_level',        u'shop_score_service',\n",
       "             u'shop_score_delivery',    u'shop_score_description',\n",
       "                        u'is_trade',                   u'isTrain'],\n",
       "      dtype='object')"
      ]
     },
     "execution_count": 2,
     "metadata": {},
     "output_type": "execute_result"
    }
   ],
   "source": [
    "train.columns"
   ]
  },
  {
   "cell_type": "code",
   "execution_count": 3,
   "metadata": {},
   "outputs": [
    {
     "data": {
      "text/plain": [
       "7838285046767229711    69746\n",
       "7066302540842412840    13823\n",
       "5051039799137810159    13045\n",
       "448955875785543916     10116\n",
       "739382823914881928      6542\n",
       "6793286343174833903     5280\n",
       "1902568530584691432     4605\n",
       "4609398715869550725     4235\n",
       "6597576831450166037     4216\n",
       "8188723660812005813     3739\n",
       "5818352635473521241     3730\n",
       "3801992748557162347     3474\n",
       "7024713306861377790     3453\n",
       "7166307405309656478     3195\n",
       "3765442984647241130     3178\n",
       "1212158767298395095     3097\n",
       "1842327023449366624     3033\n",
       "5368019250815240955     2990\n",
       "6553461951829665552     2764\n",
       "3884267719846612071     2678\n",
       "3697251094784296011     2645\n",
       "7393038778026345793     2607\n",
       "4940851772115583463     2492\n",
       "2441922225904422164     2456\n",
       "3321064285232298680     2388\n",
       "665010924190078800      2375\n",
       "8036402958319042519     2369\n",
       "6874110308416919683     2347\n",
       "4219436286513843074     2339\n",
       "2707400123518269628     2288\n",
       "                       ...  \n",
       "3095754226004529341        1\n",
       "5454033227514511696        1\n",
       "4688766976726863845        1\n",
       "235459053353583513         1\n",
       "6064808109373642084        1\n",
       "7991867220900340721        1\n",
       "4279627876730571066        1\n",
       "8061459091862288833        1\n",
       "7927126768601045525        1\n",
       "6078791800131392662        1\n",
       "3826455834406003646        1\n",
       "6042349938082523110        1\n",
       "4397257872244335346        1\n",
       "6711571381191498994        1\n",
       "7091383767660014758        1\n",
       "9079227999256126582        1\n",
       "1291502036219803400        1\n",
       "7331360968071710521        1\n",
       "7906646087543004026        1\n",
       "1184195227039843295        1\n",
       "2610179031068642585        1\n",
       "4413068519504185980        1\n",
       "6145077858704446614        1\n",
       "3852648456118423419        1\n",
       "5719274637828952704        1\n",
       "649011438197962804         1\n",
       "7652129664586667369        1\n",
       "5896303189034677982        1\n",
       "2967152924522580025        1\n",
       "7836517907846999124        1\n",
       "Name: item_brand_id, Length: 2055, dtype: int64"
      ]
     },
     "execution_count": 3,
     "metadata": {},
     "output_type": "execute_result"
    }
   ],
   "source": [
    "train.item_brand_id.value_counts()"
   ]
  },
  {
   "cell_type": "markdown",
   "metadata": {},
   "source": [
    "### item history click rate"
   ]
  },
  {
   "cell_type": "code",
   "execution_count": 8,
   "metadata": {},
   "outputs": [],
   "source": [
    "item_click_rate = train.groupby(train['item_id'])['is_trade'].agg('mean').reset_index(name=\"item_click_rate\")\n",
    "df = pd.merge(df, item_click_rate, 'left', on='item_id')\n",
    "df['item_click_rate'].fillna(df['item_click_rate'].mean(), inplace=True)"
   ]
  },
  {
   "cell_type": "markdown",
   "metadata": {},
   "source": [
    "### shop history click rate"
   ]
  },
  {
   "cell_type": "code",
   "execution_count": 9,
   "metadata": {},
   "outputs": [],
   "source": [
    "shop_click_rate = train.groupby(train['shop_id'])['is_trade'].agg('mean').reset_index(name=\"shop_click_rate\")\n",
    "df = pd.merge(df, shop_click_rate, 'left', on='shop_id')\n",
    "df['shop_click_rate'].fillna(df['shop_click_rate'].mean(), inplace=True)"
   ]
  },
  {
   "cell_type": "markdown",
   "metadata": {},
   "source": [
    "### shop feature"
   ]
  },
  {
   "cell_type": "code",
   "execution_count": null,
   "metadata": {},
   "outputs": [],
   "source": [
    "shop_columns = ['shop_id', 'shop_review_positive_rate', 'shop_score_delivery',\n",
    "                'shop_score_description', 'shop_score_service','shop_star_level']"
   ]
  },
  {
   "cell_type": "markdown",
   "metadata": {},
   "source": [
    "### user history click rate User Portrait"
   ]
  },
  {
   "cell_type": "code",
   "execution_count": 27,
   "metadata": {},
   "outputs": [],
   "source": [
    "user_property = ['user_gender_id', 'user_age_level', 'user_occupation_id', 'user_star_level']\n",
    "user_property_click_rate = train.groupby(user_property)['is_trade'].agg('mean').reset_index(name=\"user_property_click_rate\")\n",
    "df = pd.merge(df, user_property_click_rate, 'left', on=user_property)"
   ]
  },
  {
   "cell_type": "code",
   "execution_count": 34,
   "metadata": {},
   "outputs": [
    {
     "data": {
      "text/plain": [
       "user_gender_id                4\n",
       "user_age_level                9\n",
       "user_occupation_id            5\n",
       "user_star_level              12\n",
       "user_property_click_rate    374\n",
       "dtype: int64"
      ]
     },
     "execution_count": 34,
     "metadata": {},
     "output_type": "execute_result"
    }
   ],
   "source": [
    "user_property_click_rate.nunique()"
   ]
  },
  {
   "cell_type": "markdown",
   "metadata": {},
   "source": [
    "### item history click rate according the property"
   ]
  },
  {
   "cell_type": "code",
   "execution_count": null,
   "metadata": {},
   "outputs": [],
   "source": [
    "item_property = []"
   ]
  },
  {
   "cell_type": "markdown",
   "metadata": {},
   "source": [
    "### user_id click"
   ]
  },
  {
   "cell_type": "code",
   "execution_count": 106,
   "metadata": {},
   "outputs": [],
   "source": [
    "user_click_rate = train.groupby(train['user_id'])['is_trade'].agg('mean').reset_index(name=\"user_click_rate\")\n",
    "df = pd.merge(df, user_click_rate, 'left', on='shop_id')\n",
    "df.user_click_rate.isna().value_counts()"
   ]
  }
 ],
 "metadata": {
  "kernelspec": {
   "display_name": "Python 2",
   "language": "python",
   "name": "python2"
  },
  "language_info": {
   "codemirror_mode": {
    "name": "ipython",
    "version": 2
   },
   "file_extension": ".py",
   "mimetype": "text/x-python",
   "name": "python",
   "nbconvert_exporter": "python",
   "pygments_lexer": "ipython2",
   "version": "2.7.12"
  }
 },
 "nbformat": 4,
 "nbformat_minor": 2
}
