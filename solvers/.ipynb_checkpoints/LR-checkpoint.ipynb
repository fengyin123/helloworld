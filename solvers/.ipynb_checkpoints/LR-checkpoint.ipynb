{
 "cells": [
  {
   "cell_type": "code",
   "execution_count": 17,
   "metadata": {},
   "outputs": [
    {
     "name": "stdout",
     "output_type": "stream",
     "text": [
      "训练损失: 0.11409021587297992\n",
      "测试损失: 0.1058635152516411\n"
     ]
    }
   ],
   "source": [
    "# %load logistic.py\n",
    "import pandas as pd\n",
    "import numpy as np\n",
    "import time\n",
    "from datetime import datetime\n",
    "import os\n",
    "import sys\n",
    "sys.path.insert(0, '../feature_engineering')\n",
    "\n",
    "\n",
    "from utils import raw_data_path, model_path, result_path,  dump_pickle, load_pickle\n",
    "from sklearn.linear_model import LogisticRegression\n",
    "from sklearn.metrics import log_loss\n",
    "\n",
    "\n",
    "if __name__ == '__main__':\n",
    "    df = load_pickle(path=raw_data_path + 'df.pkl')\n",
    "    train = load_pickle(path=raw_data_path + 'train.pkl')\n",
    "    valid = load_pickle(path=raw_data_path + 'valid.pkl')\n",
    "    test = load_pickle(path=raw_data_path + 'test.pkl')\n",
    "    \n",
    "    features_use = df.columns.tolist()\n",
    "    drop_cols = ['instance_id',  'is_trade', 'realtime', 'time']\n",
    "    \n",
    "    train_Y = train['is_trade']\n",
    "    train_X = train.drop(drop_cols, axis=1)\n",
    "    \n",
    "    valid_Y = valid['is_trade']\n",
    "    valid_X = valid.drop(drop_cols, axis=1)\n",
    "    \n",
    "    test_X = valid.drop(drop_cols, axis=1)\n",
    "    \n",
    "\n",
    "    clf = LogisticRegression(C=1.2, fit_intercept=True, max_iter=3000, class_weight={0: 0.5, 1: 0.5})\n",
    "    clf.fit(X=train_X.values, y=train_Y.values)\n",
    "    \n",
    "    dump_pickle(clf, model_path + 'LR_%s' % datetime.now().strftime('%Y%m%d-%H:%M:%S') + '.pkl' )\n",
    "    \n",
    "    predict_train = clf.predict_proba(train_X.values)\n",
    "    predict_cv = clf.predict_proba(valid_X.values)\n",
    "    predict_test = clf.predict_proba(test_X.values)\n",
    "    \n",
    "    print('training loss:', log_loss(train_Y, predict_train))\n",
    "    print('valid loss:', log_loss(valid_Y, predict_cv))\n",
    "    "
   ]
  },
  {
   "cell_type": "code",
   "execution_count": null,
   "metadata": {},
   "outputs": [],
   "source": []
  },
  {
   "cell_type": "code",
   "execution_count": null,
   "metadata": {},
   "outputs": [],
   "source": []
  }
 ],
 "metadata": {
  "kernelspec": {
   "display_name": "Python 3",
   "language": "python",
   "name": "python3"
  },
  "language_info": {
   "codemirror_mode": {
    "name": "ipython",
    "version": 3
   },
   "file_extension": ".py",
   "mimetype": "text/x-python",
   "name": "python",
   "nbconvert_exporter": "python",
   "pygments_lexer": "ipython3",
   "version": "3.5.0"
  }
 },
 "nbformat": 4,
 "nbformat_minor": 2
}
