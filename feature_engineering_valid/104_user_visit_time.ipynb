{
 "cells": [
  {
   "cell_type": "code",
   "execution_count": 4,
   "metadata": {},
   "outputs": [
    {
     "name": "stdout",
     "output_type": "stream",
     "text": [
      "time elapsed 2.1082918643951416\n"
     ]
    }
   ],
   "source": [
    "# %load 104_user_visit_time.py\n",
    "from utils import BayesianSmoothing, load_pickle, dump_pickle, raw_data_path\n",
    "import gc\n",
    "import numpy as np\n",
    "import pandas as pd\n",
    "from tqdm import tqdm\n",
    "from collections import defaultdict\n",
    "import time\n",
    "\n",
    "\n",
    "train = load_pickle('../data_valid/train.pkl')\n",
    "test = load_pickle('../data_valid/test.pkl')\n",
    "\n",
    "\n",
    "def user_visit_time(df, mode):\n",
    "    final_feat = pd.DataFrame({'instance_id': df.instance_id, 'user_id': df.user_id})\n",
    "\n",
    "    # 将时间离散成早中晚，并且计算早中晚的浏览总次数\n",
    "    def time_discrete(hour):\n",
    "        if 0 < hour <= 6:\n",
    "            return 'midnight'\n",
    "        elif 6 < hour <= 11:\n",
    "            return 'morning'\n",
    "        elif 11 < hour <= 15:\n",
    "            return 'noon'\n",
    "        elif 15 < hour <= 18:\n",
    "            return 'afternoon'\n",
    "        elif 18 < hour <= 24:\n",
    "            return 'evening'\n",
    "\n",
    "\n",
    "    final_feat['time_discrete'] = df['hour'].map(time_discrete)\n",
    "    time_discrete_visit_count = pd.crosstab(index=final_feat['user_id'], columns=final_feat['time_discrete']).add_suffix('_visit_count').reset_index()\n",
    "    final_feat = pd.merge(final_feat, time_discrete_visit_count, on='user_id', how='left')\n",
    "    final_feat.drop('user_id', axis=1, inplace=True)\n",
    "    dump_pickle(final_feat, path='../data_valid/{}_feature/'.format(mode) +'104_user_visit_time.pkl')\n",
    "start = time.time()\n",
    "user_visit_time(train, 'train')\n",
    "user_visit_time(test, 'test')\n",
    "end = time.time()\n",
    "print('time elapsed {}'.format(end-start))"
   ]
  },
  {
   "cell_type": "code",
   "execution_count": null,
   "metadata": {
    "collapsed": true
   },
   "outputs": [],
   "source": []
  }
 ],
 "metadata": {
  "kernelspec": {
   "display_name": "Python 3",
   "language": "python",
   "name": "python3"
  },
  "language_info": {
   "codemirror_mode": {
    "name": "ipython",
    "version": 3
   },
   "file_extension": ".py",
   "mimetype": "text/x-python",
   "name": "python",
   "nbconvert_exporter": "python",
   "pygments_lexer": "ipython3",
   "version": "3.5.0"
  }
 },
 "nbformat": 4,
 "nbformat_minor": 2
}
