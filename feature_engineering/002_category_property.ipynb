{
 "cells": [
  {
   "cell_type": "code",
   "execution_count": null,
   "metadata": {},
   "outputs": [],
   "source": [
    "# %load 002_category_property.py\n",
    "import gc\n",
    "import numpy as np\n",
    "import pandas as pd\n",
    "from utils import BayesianSmoothing, load_pickle, dump_pickle, raw_data_path\n",
    "from tqdm import tqdm\n",
    "from collections import defaultdict\n",
    "from sklearn.feature_extraction.text import TfidfTransformer, CountVectorizer\n",
    "import time\n",
    "\n",
    "\n",
    "start = time.time()\n",
    "path = '../data/'\n",
    "train_file = 'round1_ijcai_18_train_20180301.txt'\n",
    "test_file = 'round1_ijcai_18_test_a_20180301.txt'\n",
    "\n",
    "train = pd.read_table(path + train_file, encoding='utf8', delim_whitespace=True)\n",
    "test = pd.read_table(path + test_file, encoding='utf8', delim_whitespace=True)\n",
    "len_train = train.shape[0]\n",
    "df = pd.concat([train, test], axis=0, ignore_index=True)\n",
    "\n",
    "corpus = df.item_property_list.values.astype('U').tolist()\n",
    "vectorizer = CountVectorizer()\n",
    "vectorizer.fit(corpus)\n",
    "countvector = vectorizer.transform(df.item_property_list)\n",
    "\n",
    "pror_count = np.array(countvector.sum(axis=0))[0]\n",
    "count = pd.Series(data=pror_count, index=np.arange(0, len(pror_count)))\n",
    "selected_index = list(count.sort_values(ascending=False)[:10].index)\n",
    "column_name = np.array(vectorizer.get_feature_names())[selected_index]\n",
    "column_value = countvector[:, selected_index]\n",
    "final_feat = pd.DataFrame(column_value.toarray(), columns=column_name)\n",
    "final_feat['instance_id'] = df['instance_id']\n",
    "\n",
    "train_feat = final_feat.iloc[:len(train), :]\n",
    "test_feat = final_feat.iloc[len(train):, :]\n",
    "\n",
    "print(train_feat.columns)\n",
    "print('the shape of train {}'.format(train_feat.shape))\n",
    "print('the shape of test {}'.format(test_feat.shape))\n",
    "dump_pickle(train_feat, path=raw_data_path + 'train_feature/' + '002_property_count.pkl')\n",
    "dump_pickle(test_feat, path=raw_data_path + 'test_feature/' + '002_property_count.pkl')\n",
    "\n",
    "end = time.time()\n",
    "print('time elapsed {}'.format(end-start))"
   ]
  },
  {
   "cell_type": "code",
   "execution_count": null,
   "metadata": {
    "collapsed": true
   },
   "outputs": [],
   "source": []
  }
 ],
 "metadata": {
  "kernelspec": {
   "display_name": "Python 3",
   "language": "python",
   "name": "python3"
  },
  "language_info": {
   "codemirror_mode": {
    "name": "ipython",
    "version": 3
   },
   "file_extension": ".py",
   "mimetype": "text/x-python",
   "name": "python",
   "nbconvert_exporter": "python",
   "pygments_lexer": "ipython3",
   "version": "3.6.2"
  }
 },
 "nbformat": 4,
 "nbformat_minor": 2
}
