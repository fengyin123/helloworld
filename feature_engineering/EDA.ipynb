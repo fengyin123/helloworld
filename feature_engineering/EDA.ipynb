{
 "cells": [
  {
   "cell_type": "markdown",
   "metadata": {},
   "source": [
    "## 1. Load libraries"
   ]
  },
  {
   "cell_type": "code",
   "execution_count": 2,
   "metadata": {},
   "outputs": [
    {
     "data": {
      "application/javascript": [
       "IPython.OutputArea.prototype._should_scroll = function(lines) {\n",
       "    return false;\n",
       "}"
      ],
      "text/plain": [
       "<IPython.core.display.Javascript object>"
      ]
     },
     "metadata": {},
     "output_type": "display_data"
    }
   ],
   "source": [
    "%%javascript\n",
    "IPython.OutputArea.prototype._should_scroll = function(lines) {\n",
    "    return false;\n",
    "}"
   ]
  },
  {
   "cell_type": "code",
   "execution_count": 3,
   "metadata": {
    "hide_input": false
   },
   "outputs": [
    {
     "name": "stdout",
     "output_type": "stream",
     "text": [
      "0.5.0\n"
     ]
    },
    {
     "data": {
      "text/html": [
       "<script>requirejs.config({paths: { 'plotly': ['https://cdn.plot.ly/plotly-latest.min']},});if(!window.Plotly) {{require(['plotly'],function(plotly) {window.Plotly=plotly;});}}</script>"
      ],
      "text/vnd.plotly.v1+html": [
       "<script>requirejs.config({paths: { 'plotly': ['https://cdn.plot.ly/plotly-latest.min']},});if(!window.Plotly) {{require(['plotly'],function(plotly) {window.Plotly=plotly;});}}</script>"
      ]
     },
     "metadata": {},
     "output_type": "display_data"
    },
    {
     "data": {
      "text/plain": [
       "<matplotlib.figure.Figure at 0x7fb3b8179c88>"
      ]
     },
     "metadata": {},
     "output_type": "display_data"
    }
   ],
   "source": [
    "import warnings\n",
    "warnings.simplefilter('ignore')\n",
    "import pandas as pd\n",
    "import numpy as np\n",
    "import scipy as sp\n",
    "import matplotlib.pyplot as plt\n",
    "import plotly.plotly as py\n",
    "import plotly.graph_objs as go\n",
    "import plotly \n",
    "from plotly import tools\n",
    "from plotly.graph_objs import *\n",
    "import collections\n",
    "import calendar\n",
    "%matplotlib inline \n",
    "import datetime\n",
    "import colorlover as cl\n",
    "import joypy\n",
    "from matplotlib import cm\n",
    "import plotnine as pln\n",
    "from matplotlib.colors import ListedColormap\n",
    "import matplotlib\n",
    "\n",
    "\n",
    "plt.style.use('ggplot')\n",
    "plt.figure(figsize=(18,10))\n",
    "\n",
    "import seaborn as sns\n",
    "import os\n",
    "import folium\n",
    "from folium.plugins import MarkerCluster\n",
    "print(folium.__version__)\n",
    "cmap = ListedColormap(sns.color_palette())\n",
    "\n",
    "import colorlover as cl\n",
    "from IPython.display import HTML\n",
    "\n",
    "from plotly import __version__\n",
    "from plotly.offline import download_plotlyjs, init_notebook_mode, plot, iplot\n",
    "import plotly.graph_objs as go\n",
    "\n",
    "init_notebook_mode(connected=True)\n",
    "\n",
    "from sklearn.preprocessing import LabelEncoder\n",
    "import ggplot\n",
    "from ggplot import *\n",
    "matplotlib.rcParams['figure.figsize'] = (20.0, 10.0)\n",
    "# plotly.tools.set_credentials_file(username='adslwang4601', api_key='RNtOcvlYrBgpU80Tiiuf')\n"
   ]
  },
  {
   "cell_type": "markdown",
   "metadata": {},
   "source": [
    "## 2. Load data"
   ]
  },
  {
   "cell_type": "code",
   "execution_count": 4,
   "metadata": {
    "code_folding": [],
    "hide_input": false
   },
   "outputs": [
    {
     "name": "stdout",
     "output_type": "stream",
     "text": [
      "========> Load Data Success!\n"
     ]
    }
   ],
   "source": [
    "path = '../data/'\n",
    "# 训练集\n",
    "train = pd.read_table(path+'train.data',encoding='utf8',delim_whitespace=True)\n",
    "train['isTrain'] = 1\n",
    "    \n",
    "# 测试集\n",
    "test = pd.read_table(path+'test.data',encoding='utf8',delim_whitespace=True)\n",
    "test['isTrain'] = 0\n",
    "        \n",
    "# 连接\n",
    "df = pd.concat([train, test])\n",
    "print(\"========> Load Data Success!\") "
   ]
  },
  {
   "cell_type": "markdown",
   "metadata": {},
   "source": [
    "## 3. Glimpse at the dataset"
   ]
  },
  {
   "cell_type": "markdown",
   "metadata": {},
   "source": [
    "### 3.1 Train"
   ]
  },
  {
   "cell_type": "code",
   "execution_count": 5,
   "metadata": {
    "hide_input": false
   },
   "outputs": [
    {
     "data": {
      "text/html": [
       "<div>\n",
       "<style scoped>\n",
       "    .dataframe tbody tr th:only-of-type {\n",
       "        vertical-align: middle;\n",
       "    }\n",
       "\n",
       "    .dataframe tbody tr th {\n",
       "        vertical-align: top;\n",
       "    }\n",
       "\n",
       "    .dataframe thead th {\n",
       "        text-align: right;\n",
       "    }\n",
       "</style>\n",
       "<table border=\"1\" class=\"dataframe\">\n",
       "  <thead>\n",
       "    <tr style=\"text-align: right;\">\n",
       "      <th></th>\n",
       "      <th>instance_id</th>\n",
       "      <th>item_id</th>\n",
       "      <th>item_category_list</th>\n",
       "      <th>item_property_list</th>\n",
       "      <th>item_brand_id</th>\n",
       "      <th>item_city_id</th>\n",
       "      <th>item_price_level</th>\n",
       "      <th>item_sales_level</th>\n",
       "      <th>item_collected_level</th>\n",
       "      <th>item_pv_level</th>\n",
       "      <th>...</th>\n",
       "      <th>predict_category_property</th>\n",
       "      <th>shop_id</th>\n",
       "      <th>shop_review_num_level</th>\n",
       "      <th>shop_review_positive_rate</th>\n",
       "      <th>shop_star_level</th>\n",
       "      <th>shop_score_service</th>\n",
       "      <th>shop_score_delivery</th>\n",
       "      <th>shop_score_description</th>\n",
       "      <th>is_trade</th>\n",
       "      <th>isTrain</th>\n",
       "    </tr>\n",
       "  </thead>\n",
       "  <tbody>\n",
       "    <tr>\n",
       "      <th>0</th>\n",
       "      <td>108641074714126964</td>\n",
       "      <td>3412720377098676069</td>\n",
       "      <td>7908382889764677758;5799347067982556520</td>\n",
       "      <td>2072967855524022579;5131280576272319091;263639...</td>\n",
       "      <td>1975590437749032870</td>\n",
       "      <td>3948283326616421003</td>\n",
       "      <td>3</td>\n",
       "      <td>3</td>\n",
       "      <td>4</td>\n",
       "      <td>14</td>\n",
       "      <td>...</td>\n",
       "      <td>5799347067982556520:-1;509660095530134768:-1;5...</td>\n",
       "      <td>6765930309048922341</td>\n",
       "      <td>4</td>\n",
       "      <td>1.0</td>\n",
       "      <td>5002</td>\n",
       "      <td>1.0</td>\n",
       "      <td>1.0</td>\n",
       "      <td>1.0</td>\n",
       "      <td>0</td>\n",
       "      <td>1</td>\n",
       "    </tr>\n",
       "    <tr>\n",
       "      <th>1</th>\n",
       "      <td>5754713551599725161</td>\n",
       "      <td>3412720377098676069</td>\n",
       "      <td>7908382889764677758;5799347067982556520</td>\n",
       "      <td>2072967855524022579;5131280576272319091;263639...</td>\n",
       "      <td>1975590437749032870</td>\n",
       "      <td>3948283326616421003</td>\n",
       "      <td>3</td>\n",
       "      <td>3</td>\n",
       "      <td>4</td>\n",
       "      <td>14</td>\n",
       "      <td>...</td>\n",
       "      <td>5799347067982556520:9172976955054793469;790838...</td>\n",
       "      <td>6765930309048922341</td>\n",
       "      <td>4</td>\n",
       "      <td>1.0</td>\n",
       "      <td>5002</td>\n",
       "      <td>1.0</td>\n",
       "      <td>1.0</td>\n",
       "      <td>1.0</td>\n",
       "      <td>0</td>\n",
       "      <td>1</td>\n",
       "    </tr>\n",
       "    <tr>\n",
       "      <th>2</th>\n",
       "      <td>842679481291040981</td>\n",
       "      <td>3412720377098676069</td>\n",
       "      <td>7908382889764677758;5799347067982556520</td>\n",
       "      <td>2072967855524022579;5131280576272319091;263639...</td>\n",
       "      <td>1975590437749032870</td>\n",
       "      <td>3948283326616421003</td>\n",
       "      <td>3</td>\n",
       "      <td>3</td>\n",
       "      <td>4</td>\n",
       "      <td>14</td>\n",
       "      <td>...</td>\n",
       "      <td>5799347067982556520:5131280576272319091;725801...</td>\n",
       "      <td>6765930309048922341</td>\n",
       "      <td>4</td>\n",
       "      <td>1.0</td>\n",
       "      <td>5002</td>\n",
       "      <td>1.0</td>\n",
       "      <td>1.0</td>\n",
       "      <td>1.0</td>\n",
       "      <td>0</td>\n",
       "      <td>1</td>\n",
       "    </tr>\n",
       "    <tr>\n",
       "      <th>3</th>\n",
       "      <td>937088850059189027</td>\n",
       "      <td>3412720377098676069</td>\n",
       "      <td>7908382889764677758;5799347067982556520</td>\n",
       "      <td>2072967855524022579;5131280576272319091;263639...</td>\n",
       "      <td>1975590437749032870</td>\n",
       "      <td>3948283326616421003</td>\n",
       "      <td>3</td>\n",
       "      <td>3</td>\n",
       "      <td>4</td>\n",
       "      <td>14</td>\n",
       "      <td>...</td>\n",
       "      <td>509660095530134768:-1;5799347067982556520:-1;7...</td>\n",
       "      <td>6765930309048922341</td>\n",
       "      <td>4</td>\n",
       "      <td>1.0</td>\n",
       "      <td>5002</td>\n",
       "      <td>1.0</td>\n",
       "      <td>1.0</td>\n",
       "      <td>1.0</td>\n",
       "      <td>0</td>\n",
       "      <td>1</td>\n",
       "    </tr>\n",
       "    <tr>\n",
       "      <th>4</th>\n",
       "      <td>7975697065017708072</td>\n",
       "      <td>3412720377098676069</td>\n",
       "      <td>7908382889764677758;5799347067982556520</td>\n",
       "      <td>2072967855524022579;5131280576272319091;263639...</td>\n",
       "      <td>1975590437749032870</td>\n",
       "      <td>3948283326616421003</td>\n",
       "      <td>3</td>\n",
       "      <td>3</td>\n",
       "      <td>4</td>\n",
       "      <td>14</td>\n",
       "      <td>...</td>\n",
       "      <td>5799347067982556520:9172976955054793469;790838...</td>\n",
       "      <td>6765930309048922341</td>\n",
       "      <td>4</td>\n",
       "      <td>1.0</td>\n",
       "      <td>5002</td>\n",
       "      <td>1.0</td>\n",
       "      <td>1.0</td>\n",
       "      <td>1.0</td>\n",
       "      <td>0</td>\n",
       "      <td>1</td>\n",
       "    </tr>\n",
       "  </tbody>\n",
       "</table>\n",
       "<p>5 rows × 28 columns</p>\n",
       "</div>"
      ],
      "text/plain": [
       "           instance_id              item_id  \\\n",
       "0   108641074714126964  3412720377098676069   \n",
       "1  5754713551599725161  3412720377098676069   \n",
       "2   842679481291040981  3412720377098676069   \n",
       "3   937088850059189027  3412720377098676069   \n",
       "4  7975697065017708072  3412720377098676069   \n",
       "\n",
       "                        item_category_list  \\\n",
       "0  7908382889764677758;5799347067982556520   \n",
       "1  7908382889764677758;5799347067982556520   \n",
       "2  7908382889764677758;5799347067982556520   \n",
       "3  7908382889764677758;5799347067982556520   \n",
       "4  7908382889764677758;5799347067982556520   \n",
       "\n",
       "                                  item_property_list        item_brand_id  \\\n",
       "0  2072967855524022579;5131280576272319091;263639...  1975590437749032870   \n",
       "1  2072967855524022579;5131280576272319091;263639...  1975590437749032870   \n",
       "2  2072967855524022579;5131280576272319091;263639...  1975590437749032870   \n",
       "3  2072967855524022579;5131280576272319091;263639...  1975590437749032870   \n",
       "4  2072967855524022579;5131280576272319091;263639...  1975590437749032870   \n",
       "\n",
       "          item_city_id  item_price_level  item_sales_level  \\\n",
       "0  3948283326616421003                 3                 3   \n",
       "1  3948283326616421003                 3                 3   \n",
       "2  3948283326616421003                 3                 3   \n",
       "3  3948283326616421003                 3                 3   \n",
       "4  3948283326616421003                 3                 3   \n",
       "\n",
       "   item_collected_level  item_pv_level   ...     \\\n",
       "0                     4             14   ...      \n",
       "1                     4             14   ...      \n",
       "2                     4             14   ...      \n",
       "3                     4             14   ...      \n",
       "4                     4             14   ...      \n",
       "\n",
       "                           predict_category_property              shop_id  \\\n",
       "0  5799347067982556520:-1;509660095530134768:-1;5...  6765930309048922341   \n",
       "1  5799347067982556520:9172976955054793469;790838...  6765930309048922341   \n",
       "2  5799347067982556520:5131280576272319091;725801...  6765930309048922341   \n",
       "3  509660095530134768:-1;5799347067982556520:-1;7...  6765930309048922341   \n",
       "4  5799347067982556520:9172976955054793469;790838...  6765930309048922341   \n",
       "\n",
       "   shop_review_num_level  shop_review_positive_rate  shop_star_level  \\\n",
       "0                      4                        1.0             5002   \n",
       "1                      4                        1.0             5002   \n",
       "2                      4                        1.0             5002   \n",
       "3                      4                        1.0             5002   \n",
       "4                      4                        1.0             5002   \n",
       "\n",
       "   shop_score_service  shop_score_delivery  shop_score_description is_trade  \\\n",
       "0                 1.0                  1.0                     1.0        0   \n",
       "1                 1.0                  1.0                     1.0        0   \n",
       "2                 1.0                  1.0                     1.0        0   \n",
       "3                 1.0                  1.0                     1.0        0   \n",
       "4                 1.0                  1.0                     1.0        0   \n",
       "\n",
       "   isTrain  \n",
       "0        1  \n",
       "1        1  \n",
       "2        1  \n",
       "3        1  \n",
       "4        1  \n",
       "\n",
       "[5 rows x 28 columns]"
      ]
     },
     "execution_count": 5,
     "metadata": {},
     "output_type": "execute_result"
    }
   ],
   "source": [
    "train.head()"
   ]
  },
  {
   "cell_type": "markdown",
   "metadata": {},
   "source": [
    "### 3.2 Test"
   ]
  },
  {
   "cell_type": "code",
   "execution_count": 6,
   "metadata": {
    "hide_input": false
   },
   "outputs": [
    {
     "data": {
      "text/html": [
       "<div>\n",
       "<style scoped>\n",
       "    .dataframe tbody tr th:only-of-type {\n",
       "        vertical-align: middle;\n",
       "    }\n",
       "\n",
       "    .dataframe tbody tr th {\n",
       "        vertical-align: top;\n",
       "    }\n",
       "\n",
       "    .dataframe thead th {\n",
       "        text-align: right;\n",
       "    }\n",
       "</style>\n",
       "<table border=\"1\" class=\"dataframe\">\n",
       "  <thead>\n",
       "    <tr style=\"text-align: right;\">\n",
       "      <th></th>\n",
       "      <th>instance_id</th>\n",
       "      <th>item_id</th>\n",
       "      <th>item_category_list</th>\n",
       "      <th>item_property_list</th>\n",
       "      <th>item_brand_id</th>\n",
       "      <th>item_city_id</th>\n",
       "      <th>item_price_level</th>\n",
       "      <th>item_sales_level</th>\n",
       "      <th>item_collected_level</th>\n",
       "      <th>item_pv_level</th>\n",
       "      <th>...</th>\n",
       "      <th>context_page_id</th>\n",
       "      <th>predict_category_property</th>\n",
       "      <th>shop_id</th>\n",
       "      <th>shop_review_num_level</th>\n",
       "      <th>shop_review_positive_rate</th>\n",
       "      <th>shop_star_level</th>\n",
       "      <th>shop_score_service</th>\n",
       "      <th>shop_score_delivery</th>\n",
       "      <th>shop_score_description</th>\n",
       "      <th>isTrain</th>\n",
       "    </tr>\n",
       "  </thead>\n",
       "  <tbody>\n",
       "    <tr>\n",
       "      <th>0</th>\n",
       "      <td>2475218615076601065</td>\n",
       "      <td>2275895163219263378</td>\n",
       "      <td>7908382889764677758;8277336076276184272</td>\n",
       "      <td>2636395404473730413;7515802706813700848;302719...</td>\n",
       "      <td>7838285046767229711</td>\n",
       "      <td>7534238860363577544</td>\n",
       "      <td>7</td>\n",
       "      <td>6</td>\n",
       "      <td>8</td>\n",
       "      <td>14</td>\n",
       "      <td>...</td>\n",
       "      <td>4005</td>\n",
       "      <td>8277336076276184272:-1;5799347067982556520:-1;...</td>\n",
       "      <td>5275548996133547595</td>\n",
       "      <td>13</td>\n",
       "      <td>0.985244</td>\n",
       "      <td>5011</td>\n",
       "      <td>0.964023</td>\n",
       "      <td>0.966550</td>\n",
       "      <td>0.955378</td>\n",
       "      <td>0</td>\n",
       "    </tr>\n",
       "    <tr>\n",
       "      <th>1</th>\n",
       "      <td>398316874173557226</td>\n",
       "      <td>7096238490711246967</td>\n",
       "      <td>7908382889764677758;5755694407684602296</td>\n",
       "      <td>5131280576272319091;2636395404473730413;734498...</td>\n",
       "      <td>8126195666233054089</td>\n",
       "      <td>3948283326616421003</td>\n",
       "      <td>6</td>\n",
       "      <td>9</td>\n",
       "      <td>8</td>\n",
       "      <td>16</td>\n",
       "      <td>...</td>\n",
       "      <td>4001</td>\n",
       "      <td>5755694407684602296:216555019471416386,2636395...</td>\n",
       "      <td>329470548383752413</td>\n",
       "      <td>14</td>\n",
       "      <td>0.989068</td>\n",
       "      <td>5012</td>\n",
       "      <td>0.963794</td>\n",
       "      <td>0.964225</td>\n",
       "      <td>0.959134</td>\n",
       "      <td>0</td>\n",
       "    </tr>\n",
       "    <tr>\n",
       "      <th>2</th>\n",
       "      <td>6586402638209028583</td>\n",
       "      <td>7096238490711246967</td>\n",
       "      <td>7908382889764677758;5755694407684602296</td>\n",
       "      <td>5131280576272319091;2636395404473730413;734498...</td>\n",
       "      <td>8126195666233054089</td>\n",
       "      <td>3948283326616421003</td>\n",
       "      <td>6</td>\n",
       "      <td>9</td>\n",
       "      <td>8</td>\n",
       "      <td>16</td>\n",
       "      <td>...</td>\n",
       "      <td>4011</td>\n",
       "      <td>5755694407684602296:2636395404473730413;871073...</td>\n",
       "      <td>329470548383752413</td>\n",
       "      <td>14</td>\n",
       "      <td>0.989068</td>\n",
       "      <td>5012</td>\n",
       "      <td>0.963794</td>\n",
       "      <td>0.964225</td>\n",
       "      <td>0.959134</td>\n",
       "      <td>0</td>\n",
       "    </tr>\n",
       "    <tr>\n",
       "      <th>3</th>\n",
       "      <td>1040996105851528465</td>\n",
       "      <td>7096238490711246967</td>\n",
       "      <td>7908382889764677758;5755694407684602296</td>\n",
       "      <td>5131280576272319091;2636395404473730413;734498...</td>\n",
       "      <td>8126195666233054089</td>\n",
       "      <td>3948283326616421003</td>\n",
       "      <td>6</td>\n",
       "      <td>9</td>\n",
       "      <td>8</td>\n",
       "      <td>16</td>\n",
       "      <td>...</td>\n",
       "      <td>4001</td>\n",
       "      <td>8710739180200009128:-1;5755694407684602296:263...</td>\n",
       "      <td>329470548383752413</td>\n",
       "      <td>14</td>\n",
       "      <td>0.989068</td>\n",
       "      <td>5012</td>\n",
       "      <td>0.963794</td>\n",
       "      <td>0.964225</td>\n",
       "      <td>0.959134</td>\n",
       "      <td>0</td>\n",
       "    </tr>\n",
       "    <tr>\n",
       "      <th>4</th>\n",
       "      <td>6316278569655873454</td>\n",
       "      <td>7096238490711246967</td>\n",
       "      <td>7908382889764677758;5755694407684602296</td>\n",
       "      <td>5131280576272319091;2636395404473730413;734498...</td>\n",
       "      <td>8126195666233054089</td>\n",
       "      <td>3948283326616421003</td>\n",
       "      <td>6</td>\n",
       "      <td>9</td>\n",
       "      <td>8</td>\n",
       "      <td>16</td>\n",
       "      <td>...</td>\n",
       "      <td>4001</td>\n",
       "      <td>5755694407684602296:5131280576272319091;871073...</td>\n",
       "      <td>329470548383752413</td>\n",
       "      <td>14</td>\n",
       "      <td>0.989068</td>\n",
       "      <td>5012</td>\n",
       "      <td>0.963794</td>\n",
       "      <td>0.964225</td>\n",
       "      <td>0.959134</td>\n",
       "      <td>0</td>\n",
       "    </tr>\n",
       "  </tbody>\n",
       "</table>\n",
       "<p>5 rows × 27 columns</p>\n",
       "</div>"
      ],
      "text/plain": [
       "           instance_id              item_id  \\\n",
       "0  2475218615076601065  2275895163219263378   \n",
       "1   398316874173557226  7096238490711246967   \n",
       "2  6586402638209028583  7096238490711246967   \n",
       "3  1040996105851528465  7096238490711246967   \n",
       "4  6316278569655873454  7096238490711246967   \n",
       "\n",
       "                        item_category_list  \\\n",
       "0  7908382889764677758;8277336076276184272   \n",
       "1  7908382889764677758;5755694407684602296   \n",
       "2  7908382889764677758;5755694407684602296   \n",
       "3  7908382889764677758;5755694407684602296   \n",
       "4  7908382889764677758;5755694407684602296   \n",
       "\n",
       "                                  item_property_list        item_brand_id  \\\n",
       "0  2636395404473730413;7515802706813700848;302719...  7838285046767229711   \n",
       "1  5131280576272319091;2636395404473730413;734498...  8126195666233054089   \n",
       "2  5131280576272319091;2636395404473730413;734498...  8126195666233054089   \n",
       "3  5131280576272319091;2636395404473730413;734498...  8126195666233054089   \n",
       "4  5131280576272319091;2636395404473730413;734498...  8126195666233054089   \n",
       "\n",
       "          item_city_id  item_price_level  item_sales_level  \\\n",
       "0  7534238860363577544                 7                 6   \n",
       "1  3948283326616421003                 6                 9   \n",
       "2  3948283326616421003                 6                 9   \n",
       "3  3948283326616421003                 6                 9   \n",
       "4  3948283326616421003                 6                 9   \n",
       "\n",
       "   item_collected_level  item_pv_level   ...     context_page_id  \\\n",
       "0                     8             14   ...                4005   \n",
       "1                     8             16   ...                4001   \n",
       "2                     8             16   ...                4011   \n",
       "3                     8             16   ...                4001   \n",
       "4                     8             16   ...                4001   \n",
       "\n",
       "                           predict_category_property              shop_id  \\\n",
       "0  8277336076276184272:-1;5799347067982556520:-1;...  5275548996133547595   \n",
       "1  5755694407684602296:216555019471416386,2636395...   329470548383752413   \n",
       "2  5755694407684602296:2636395404473730413;871073...   329470548383752413   \n",
       "3  8710739180200009128:-1;5755694407684602296:263...   329470548383752413   \n",
       "4  5755694407684602296:5131280576272319091;871073...   329470548383752413   \n",
       "\n",
       "   shop_review_num_level  shop_review_positive_rate  shop_star_level  \\\n",
       "0                     13                   0.985244             5011   \n",
       "1                     14                   0.989068             5012   \n",
       "2                     14                   0.989068             5012   \n",
       "3                     14                   0.989068             5012   \n",
       "4                     14                   0.989068             5012   \n",
       "\n",
       "   shop_score_service  shop_score_delivery shop_score_description  isTrain  \n",
       "0            0.964023             0.966550               0.955378        0  \n",
       "1            0.963794             0.964225               0.959134        0  \n",
       "2            0.963794             0.964225               0.959134        0  \n",
       "3            0.963794             0.964225               0.959134        0  \n",
       "4            0.963794             0.964225               0.959134        0  \n",
       "\n",
       "[5 rows x 27 columns]"
      ]
     },
     "execution_count": 6,
     "metadata": {},
     "output_type": "execute_result"
    }
   ],
   "source": [
    "test.head()"
   ]
  },
  {
   "cell_type": "markdown",
   "metadata": {
    "collapsed": true,
    "hide_input": false
   },
   "source": [
    "### 3.3 Missing values"
   ]
  },
  {
   "cell_type": "code",
   "execution_count": 7,
   "metadata": {
    "hide_input": false
   },
   "outputs": [
    {
     "data": {
      "text/plain": [
       "instance_id                  0\n",
       "item_id                      0\n",
       "item_category_list           0\n",
       "item_property_list           0\n",
       "item_brand_id                0\n",
       "item_city_id                 0\n",
       "item_price_level             0\n",
       "item_sales_level             0\n",
       "item_collected_level         0\n",
       "item_pv_level                0\n",
       "user_id                      0\n",
       "user_gender_id               0\n",
       "user_age_level               0\n",
       "user_occupation_id           0\n",
       "user_star_level              0\n",
       "context_id                   0\n",
       "context_timestamp            0\n",
       "context_page_id              0\n",
       "predict_category_property    0\n",
       "shop_id                      0\n",
       "shop_review_num_level        0\n",
       "shop_review_positive_rate    0\n",
       "shop_star_level              0\n",
       "shop_score_service           0\n",
       "shop_score_delivery          0\n",
       "shop_score_description       0\n",
       "is_trade                     0\n",
       "isTrain                      0\n",
       "dtype: int64"
      ]
     },
     "execution_count": 7,
     "metadata": {},
     "output_type": "execute_result"
    }
   ],
   "source": [
    "train.isnull().sum()"
   ]
  },
  {
   "cell_type": "markdown",
   "metadata": {},
   "source": [
    "### 3.4 File info"
   ]
  },
  {
   "cell_type": "code",
   "execution_count": 8,
   "metadata": {},
   "outputs": [
    {
     "name": "stdout",
     "output_type": "stream",
     "text": [
      "Number of rows in the train set: 478138\n",
      "Train set file size: 529 MB\n",
      "Number of rows in the test set: 18371\n",
      "Test set file size: 20 MB\n"
     ]
    }
   ],
   "source": [
    "rows_train = train.shape[0]\n",
    "print('Number of rows in the train set: %d' % rows_train)\n",
    "size_train = os.path.getsize(path+'train.data')/(1024*1024)\n",
    "print('Train set file size: %d MB' % size_train)\n",
    "rows_test= test.shape[0]\n",
    "print('Number of rows in the test set: %d' % rows_test)\n",
    "size_test = os.path.getsize(path+'test.data')/(1024*1024)\n",
    "print('Test set file size: %d MB' % size_test)"
   ]
  },
  {
   "cell_type": "markdown",
   "metadata": {},
   "source": [
    "### 3.5 Unique counts"
   ]
  },
  {
   "cell_type": "code",
   "execution_count": 9,
   "metadata": {},
   "outputs": [
    {
     "data": {
      "text/plain": [
       "instance_id                  478087\n",
       "item_id                       10075\n",
       "item_category_list               14\n",
       "item_property_list            10908\n",
       "item_brand_id                  2055\n",
       "item_city_id                    128\n",
       "item_price_level                 14\n",
       "item_sales_level                 18\n",
       "item_collected_level             18\n",
       "item_pv_level                    22\n",
       "user_id                      197694\n",
       "user_gender_id                    4\n",
       "user_age_level                    9\n",
       "user_occupation_id                5\n",
       "user_star_level                  12\n",
       "context_id                   478111\n",
       "context_timestamp            281824\n",
       "context_page_id                  20\n",
       "predict_category_property     78796\n",
       "shop_id                        3959\n",
       "shop_review_num_level            25\n",
       "shop_review_positive_rate     11825\n",
       "shop_star_level                  22\n",
       "shop_score_service            16361\n",
       "shop_score_delivery           16423\n",
       "shop_score_description        16463\n",
       "is_trade                          2\n",
       "isTrain                           1\n",
       "dtype: int64"
      ]
     },
     "execution_count": 9,
     "metadata": {},
     "output_type": "execute_result"
    }
   ],
   "source": [
    "train.nunique()"
   ]
  },
  {
   "cell_type": "markdown",
   "metadata": {},
   "source": [
    "## 4. Features visualization\n",
    "Here we have a first look at the distributions of the features in our individual data files before combining them for a more detailed analysis. This visualization will be the foundation on which we build our analysis."
   ]
  },
  {
   "cell_type": "markdown",
   "metadata": {},
   "source": [
    "### 4.1 The information of advertising  products"
   ]
  },
  {
   "cell_type": "markdown",
   "metadata": {},
   "source": [
    "### 4.1.1 item_id\n",
    "It seems that view count has no correlation with trade_rate. As shown in Figure2, numbers of most items are less 500. "
   ]
  },
  {
   "cell_type": "code",
   "execution_count": 10,
   "metadata": {
    "scrolled": true
   },
   "outputs": [
    {
     "data": {
      "text/plain": [
       "Text(0,0.5,'count')"
      ]
     },
     "execution_count": 10,
     "metadata": {},
     "output_type": "execute_result"
    },
    {
     "data": {
      "image/png": "[encoded data removed]",
      "text/plain": [
       "<matplotlib.figure.Figure at 0x7f5937f49cf8>"
      ]
     },
     "metadata": {},
     "output_type": "display_data"
    }
   ],
   "source": [
    "item_data = train[['item_id', 'item_category_list', 'item_property_list', 'item_brand_id', 'item_city_id', \\\n",
    "                  'item_price_level', 'item_sales_level', 'item_collected_level', 'item_pv_level', 'is_trade']]\n",
    "item_count = item_data['item_id'].value_counts()[:50].reset_index()\n",
    "item_count.columns = ['item_id', 'count']\n",
    "\n",
    "top_50_data = item_data.merge(item_count, on=['item_id'])\n",
    "popular = top_50_data.groupby(by=['item_id']).is_trade.agg(['mean']).reset_index()\n",
    "popular.columns = ['item_id', 'trade_rate']\n",
    "merge_count = item_count.merge(popular, on=['item_id'])\n",
    "\n",
    "fig, axes = plt.subplots(2, 1, figsize=(12,8))\n",
    "ax_y = axes[0].twinx()\n",
    "sns.barplot(x = list(range(item_count.shape[0])), y=merge_count['count'], ax=axes[0])\n",
    "sns.pointplot(x = list(range(item_count.shape[0])), y=merge_count['trade_rate'], ax=ax_y)\n",
    "axes[0].set_title('Trade ratess over counts of 50 most popular items')\n",
    "\n",
    "axes[1].scatter(x=list(range(item_data['item_id'].value_counts().shape[0])), \\\n",
    "                y=item_data['item_id'].value_counts().values, s=2)\n",
    "axes[1].set_title('The distribution of item count')\n",
    "axes[1].set_ylabel('count')\n",
    "\n"
   ]
  },
  {
   "cell_type": "markdown",
   "metadata": {},
   "source": [
    "## 4.1.2 item_category_list"
   ]
  },
  {
   "cell_type": "code",
   "execution_count": 11,
   "metadata": {},
   "outputs": [],
   "source": [
    "def stack_bar(column, num_categories):\n",
    "    le = LabelEncoder()\n",
    "    item_data[column] = le.fit_transform(item_data[column])\n",
    "    item_data[column] = item_data[column].apply(lambda x: '%s_' %column +str(x))\n",
    "    item_data_subset = item_data[column].value_counts()[:num_categories].reset_index()\n",
    "    item_data_subset.columns = ['%s' % column, '%s_count' % column]\n",
    "\n",
    "    item_data_subset = item_data_subset.merge(item_data, how='inner', on=column)\n",
    "    count_cate1 = item_data_subset[item_data_subset['is_trade']==1][column].value_counts().sort_index()\n",
    "    count_cate0 = item_data_subset[item_data_subset['is_trade']==0][column].value_counts().sort_index()\n",
    "    \n",
    "    \n",
    "    trace1 = go.Bar(\n",
    "        x=count_cate0.index,\n",
    "        y=count_cate0.values,\n",
    "        name='is_trade==0'\n",
    "    )\n",
    "    trace2 = go.Bar(\n",
    "        x=count_cate1.index,\n",
    "        y=count_cate1.values,\n",
    "        name='is_trade==1'\n",
    "    )\n",
    "\n",
    "    data = [trace1, trace2]\n",
    "    layout = go.Layout(\n",
    "        barmode='stack'\n",
    "    )\n",
    "\n",
    "    fig = go.Figure(data=data, layout=layout)\n",
    "    return fig"
   ]
  },
  {
   "cell_type": "code",
   "execution_count": 12,
   "metadata": {},
   "outputs": [],
   "source": [
    "item_data['item_category_list']\n",
    "for i in range(3):\n",
    "        item_data['category_%d' % (i)] = item_data['item_category_list'].apply(\n",
    "            lambda x: str(x).split(\";\")[i] if len(str(x).split(\";\")) > i else \" \"\n",
    "        )"
   ]
  },
  {
   "cell_type": "code",
   "execution_count": 13,
   "metadata": {},
   "outputs": [
    {
     "data": {
      "text/plain": [
       "<matplotlib.axes._subplots.AxesSubplot at 0x7f592b9077b8>"
      ]
     },
     "execution_count": 13,
     "metadata": {},
     "output_type": "execute_result"
    },
    {
     "data": {
      "image/png": "[encoded data removed]",
      "text/plain": [
       "<matplotlib.figure.Figure at 0x7f59377cf400>"
      ]
     },
     "metadata": {},
     "output_type": "display_data"
    }
   ],
   "source": [
    "fig = plt.figure(figsize=(15, 5))\n",
    "ax1 = fig.add_subplot(1,3,1)\n",
    "item_data['category_0'].value_counts().plot.bar(ax=ax1)\n",
    "ax2 = fig.add_subplot(1,3,2)\n",
    "item_data['category_1'].value_counts().plot.bar(ax=ax2)\n",
    "ax3 = fig.add_subplot(1,3,3)\n",
    "item_data['category_2'].value_counts().plot.bar(ax=ax3)"
   ]
  },
  {
   "cell_type": "code",
   "execution_count": null,
   "metadata": {},
   "outputs": [],
   "source": [
    "le = LabelEncoder()\n",
    "item_data['category_1'] = le.fit_transform(item_data['category_1'])\n",
    "count_cate1 = item_data[item_data['is_trade']==1]['category_1'].value_counts().sort_index()\n",
    "count_cate0 = item_data[item_data['is_trade']==0]['category_1'].value_counts().sort_index()\n",
    "trace1 = go.Bar(\n",
    "    x=count_cate0.index,\n",
    "    y=count_cate0.values,\n",
    "    name='is_trade==0'\n",
    ")\n",
    "trace2 = go.Bar(\n",
    "    x=count_cate1.index,\n",
    "    y=count_cate1.values,\n",
    "    name='is_trade==1'\n",
    ")\n",
    "\n",
    "data = [trace1, trace2]\n",
    "layout = go.Layout(\n",
    "    barmode='stack'\n",
    ")\n",
    "\n",
    "fig = go.Figure(data=data, layout=layout)\n",
    "iplot(fig, filename='stacked-bar')"
   ]
  },
  {
   "cell_type": "markdown",
   "metadata": {},
   "source": [
    "### 4.1.3 item_brand_id"
   ]
  },
  {
   "cell_type": "code",
   "execution_count": null,
   "metadata": {},
   "outputs": [],
   "source": [
    "column = 'item_brand_id'\n",
    "fig = stack_bar(column, 15)\n",
    "iplot(fig, filename='stacked-%s_bar' % column)"
   ]
  },
  {
   "cell_type": "code",
   "execution_count": 16,
   "metadata": {},
   "outputs": [
    {
     "data": {
      "text/plain": [
       "<matplotlib.axes._subplots.AxesSubplot at 0x7f0d5508feb8>"
      ]
     },
     "execution_count": 16,
     "metadata": {},
     "output_type": "execute_result"
    },
    {
     "data": {
      "image/png": "[encoded data removed]",
      "text/plain": [
       "<matplotlib.figure.Figure at 0x7f0d5508fa58>"
      ]
     },
     "metadata": {},
     "output_type": "display_data"
    }
   ],
   "source": [
    "item_data['item_brand_id'].value_counts()[:50].plot.bar()"
   ]
  },
  {
   "cell_type": "markdown",
   "metadata": {},
   "source": [
    "### 4.1.4 item_city_id"
   ]
  },
  {
   "cell_type": "code",
   "execution_count": 18,
   "metadata": {},
   "outputs": [
    {
     "data": {
      "application/vnd.plotly.v1+json": {
       "data": [
        {
         "name": "is_trade==0",
         "type": "bar",
         "x": [
          "item_city_id_0",
          "item_city_id_1",
          "item_city_id_10",
          "item_city_id_101",
          "item_city_id_106",
          "item_city_id_109",
          "item_city_id_112",
          "item_city_id_113",
          "item_city_id_114",
          "item_city_id_115",
          "item_city_id_116",
          "item_city_id_117",
          "item_city_id_118",
          "item_city_id_119",
          "item_city_id_120",
          "item_city_id_125",
          "item_city_id_126",
          "item_city_id_13",
          "item_city_id_14",
          "item_city_id_17",
          "item_city_id_20",
          "item_city_id_23",
          "item_city_id_24",
          "item_city_id_25",
          "item_city_id_26",
          "item_city_id_33",
          "item_city_id_38",
          "item_city_id_44",
          "item_city_id_48",
          "item_city_id_49",
          "item_city_id_5",
          "item_city_id_50",
          "item_city_id_56",
          "item_city_id_60",
          "item_city_id_65",
          "item_city_id_66",
          "item_city_id_68",
          "item_city_id_70",
          "item_city_id_72",
          "item_city_id_78",
          "item_city_id_79",
          "item_city_id_80",
          "item_city_id_81",
          "item_city_id_85",
          "item_city_id_86",
          "item_city_id_9",
          "item_city_id_90",
          "item_city_id_91",
          "item_city_id_97",
          "item_city_id_99"
         ],
         "y": [
          277,
          29611,
          1065,
          152956,
          508,
          1367,
          628,
          566,
          418,
          4152,
          1613,
          2000,
          630,
          1753,
          1093,
          433,
          2897,
          687,
          19205,
          2165,
          1218,
          975,
          533,
          5830,
          2102,
          2394,
          24213,
          1026,
          3765,
          695,
          391,
          53584,
          508,
          18450,
          3670,
          10502,
          1526,
          316,
          1732,
          33860,
          775,
          469,
          577,
          979,
          566,
          1743,
          3261,
          6697,
          982,
          57077
         ]
        },
        {
         "name": "is_trade==1",
         "type": "bar",
         "x": [
          "item_city_id_1",
          "item_city_id_10",
          "item_city_id_101",
          "item_city_id_106",
          "item_city_id_109",
          "item_city_id_112",
          "item_city_id_113",
          "item_city_id_114",
          "item_city_id_115",
          "item_city_id_116",
          "item_city_id_117",
          "item_city_id_118",
          "item_city_id_119",
          "item_city_id_120",
          "item_city_id_125",
          "item_city_id_126",
          "item_city_id_13",
          "item_city_id_14",
          "item_city_id_17",
          "item_city_id_20",
          "item_city_id_23",
          "item_city_id_24",
          "item_city_id_25",
          "item_city_id_26",
          "item_city_id_33",
          "item_city_id_38",
          "item_city_id_44",
          "item_city_id_48",
          "item_city_id_49",
          "item_city_id_5",
          "item_city_id_50",
          "item_city_id_56",
          "item_city_id_60",
          "item_city_id_65",
          "item_city_id_66",
          "item_city_id_68",
          "item_city_id_70",
          "item_city_id_72",
          "item_city_id_78",
          "item_city_id_79",
          "item_city_id_80",
          "item_city_id_81",
          "item_city_id_85",
          "item_city_id_86",
          "item_city_id_9",
          "item_city_id_90",
          "item_city_id_91",
          "item_city_id_97",
          "item_city_id_99"
         ],
         "y": [
          665,
          11,
          2035,
          14,
          18,
          8,
          7,
          21,
          105,
          36,
          31,
          28,
          25,
          17,
          5,
          41,
          43,
          496,
          48,
          10,
          9,
          2,
          86,
          84,
          41,
          549,
          37,
          156,
          10,
          4,
          888,
          9,
          299,
          64,
          181,
          22,
          4,
          52,
          1092,
          32,
          13,
          12,
          14,
          9,
          27,
          87,
          180,
          34,
          1249
         ]
        }
       ],
       "layout": {
        "barmode": "stack"
       }
      },
      "text/html": [
       "<div id=\"537b51dd-80d6-468d-b196-5c0e65675c27\" style=\"height: 525px; width: 100%;\" class=\"plotly-graph-div\"></div><script type=\"text/javascript\">require([\"plotly\"], function(Plotly) { window.PLOTLYENV=window.PLOTLYENV || {};window.PLOTLYENV.BASE_URL=\"https://plot.ly\";Plotly.newPlot(\"537b51dd-80d6-468d-b196-5c0e65675c27\", [{\"x\": [\"item_city_id_0\", \"item_city_id_1\", \"item_city_id_10\", \"item_city_id_101\", \"item_city_id_106\", \"item_city_id_109\", \"item_city_id_112\", \"item_city_id_113\", \"item_city_id_114\", \"item_city_id_115\", \"item_city_id_116\", \"item_city_id_117\", \"item_city_id_118\", \"item_city_id_119\", \"item_city_id_120\", \"item_city_id_125\", \"item_city_id_126\", \"item_city_id_13\", \"item_city_id_14\", \"item_city_id_17\", \"item_city_id_20\", \"item_city_id_23\", \"item_city_id_24\", \"item_city_id_25\", \"item_city_id_26\", \"item_city_id_33\", \"item_city_id_38\", \"item_city_id_44\", \"item_city_id_48\", \"item_city_id_49\", \"item_city_id_5\", \"item_city_id_50\", \"item_city_id_56\", \"item_city_id_60\", \"item_city_id_65\", \"item_city_id_66\", \"item_city_id_68\", \"item_city_id_70\", \"item_city_id_72\", \"item_city_id_78\", \"item_city_id_79\", \"item_city_id_80\", \"item_city_id_81\", \"item_city_id_85\", \"item_city_id_86\", \"item_city_id_9\", \"item_city_id_90\", \"item_city_id_91\", \"item_city_id_97\", \"item_city_id_99\"], \"name\": \"is_trade==0\", \"type\": \"bar\", \"y\": [277, 29611, 1065, 152956, 508, 1367, 628, 566, 418, 4152, 1613, 2000, 630, 1753, 1093, 433, 2897, 687, 19205, 2165, 1218, 975, 533, 5830, 2102, 2394, 24213, 1026, 3765, 695, 391, 53584, 508, 18450, 3670, 10502, 1526, 316, 1732, 33860, 775, 469, 577, 979, 566, 1743, 3261, 6697, 982, 57077]}, {\"x\": [\"item_city_id_1\", \"item_city_id_10\", \"item_city_id_101\", \"item_city_id_106\", \"item_city_id_109\", \"item_city_id_112\", \"item_city_id_113\", \"item_city_id_114\", \"item_city_id_115\", \"item_city_id_116\", \"item_city_id_117\", \"item_city_id_118\", \"item_city_id_119\", \"item_city_id_120\", \"item_city_id_125\", \"item_city_id_126\", \"item_city_id_13\", \"item_city_id_14\", \"item_city_id_17\", \"item_city_id_20\", \"item_city_id_23\", \"item_city_id_24\", \"item_city_id_25\", \"item_city_id_26\", \"item_city_id_33\", \"item_city_id_38\", \"item_city_id_44\", \"item_city_id_48\", \"item_city_id_49\", \"item_city_id_5\", \"item_city_id_50\", \"item_city_id_56\", \"item_city_id_60\", \"item_city_id_65\", \"item_city_id_66\", \"item_city_id_68\", \"item_city_id_70\", \"item_city_id_72\", \"item_city_id_78\", \"item_city_id_79\", \"item_city_id_80\", \"item_city_id_81\", \"item_city_id_85\", \"item_city_id_86\", \"item_city_id_9\", \"item_city_id_90\", \"item_city_id_91\", \"item_city_id_97\", \"item_city_id_99\"], \"name\": \"is_trade==1\", \"type\": \"bar\", \"y\": [665, 11, 2035, 14, 18, 8, 7, 21, 105, 36, 31, 28, 25, 17, 5, 41, 43, 496, 48, 10, 9, 2, 86, 84, 41, 549, 37, 156, 10, 4, 888, 9, 299, 64, 181, 22, 4, 52, 1092, 32, 13, 12, 14, 9, 27, 87, 180, 34, 1249]}], {\"barmode\": \"stack\"}, {\"showLink\": true, \"linkText\": \"Export to plot.ly\"})});</script>"
      ],
      "text/vnd.plotly.v1+html": [
       "<div id=\"537b51dd-80d6-468d-b196-5c0e65675c27\" style=\"height: 525px; width: 100%;\" class=\"plotly-graph-div\"></div><script type=\"text/javascript\">require([\"plotly\"], function(Plotly) { window.PLOTLYENV=window.PLOTLYENV || {};window.PLOTLYENV.BASE_URL=\"https://plot.ly\";Plotly.newPlot(\"537b51dd-80d6-468d-b196-5c0e65675c27\", [{\"x\": [\"item_city_id_0\", \"item_city_id_1\", \"item_city_id_10\", \"item_city_id_101\", \"item_city_id_106\", \"item_city_id_109\", \"item_city_id_112\", \"item_city_id_113\", \"item_city_id_114\", \"item_city_id_115\", \"item_city_id_116\", \"item_city_id_117\", \"item_city_id_118\", \"item_city_id_119\", \"item_city_id_120\", \"item_city_id_125\", \"item_city_id_126\", \"item_city_id_13\", \"item_city_id_14\", \"item_city_id_17\", \"item_city_id_20\", \"item_city_id_23\", \"item_city_id_24\", \"item_city_id_25\", \"item_city_id_26\", \"item_city_id_33\", \"item_city_id_38\", \"item_city_id_44\", \"item_city_id_48\", \"item_city_id_49\", \"item_city_id_5\", \"item_city_id_50\", \"item_city_id_56\", \"item_city_id_60\", \"item_city_id_65\", \"item_city_id_66\", \"item_city_id_68\", \"item_city_id_70\", \"item_city_id_72\", \"item_city_id_78\", \"item_city_id_79\", \"item_city_id_80\", \"item_city_id_81\", \"item_city_id_85\", \"item_city_id_86\", \"item_city_id_9\", \"item_city_id_90\", \"item_city_id_91\", \"item_city_id_97\", \"item_city_id_99\"], \"name\": \"is_trade==0\", \"type\": \"bar\", \"y\": [277, 29611, 1065, 152956, 508, 1367, 628, 566, 418, 4152, 1613, 2000, 630, 1753, 1093, 433, 2897, 687, 19205, 2165, 1218, 975, 533, 5830, 2102, 2394, 24213, 1026, 3765, 695, 391, 53584, 508, 18450, 3670, 10502, 1526, 316, 1732, 33860, 775, 469, 577, 979, 566, 1743, 3261, 6697, 982, 57077]}, {\"x\": [\"item_city_id_1\", \"item_city_id_10\", \"item_city_id_101\", \"item_city_id_106\", \"item_city_id_109\", \"item_city_id_112\", \"item_city_id_113\", \"item_city_id_114\", \"item_city_id_115\", \"item_city_id_116\", \"item_city_id_117\", \"item_city_id_118\", \"item_city_id_119\", \"item_city_id_120\", \"item_city_id_125\", \"item_city_id_126\", \"item_city_id_13\", \"item_city_id_14\", \"item_city_id_17\", \"item_city_id_20\", \"item_city_id_23\", \"item_city_id_24\", \"item_city_id_25\", \"item_city_id_26\", \"item_city_id_33\", \"item_city_id_38\", \"item_city_id_44\", \"item_city_id_48\", \"item_city_id_49\", \"item_city_id_5\", \"item_city_id_50\", \"item_city_id_56\", \"item_city_id_60\", \"item_city_id_65\", \"item_city_id_66\", \"item_city_id_68\", \"item_city_id_70\", \"item_city_id_72\", \"item_city_id_78\", \"item_city_id_79\", \"item_city_id_80\", \"item_city_id_81\", \"item_city_id_85\", \"item_city_id_86\", \"item_city_id_9\", \"item_city_id_90\", \"item_city_id_91\", \"item_city_id_97\", \"item_city_id_99\"], \"name\": \"is_trade==1\", \"type\": \"bar\", \"y\": [665, 11, 2035, 14, 18, 8, 7, 21, 105, 36, 31, 28, 25, 17, 5, 41, 43, 496, 48, 10, 9, 2, 86, 84, 41, 549, 37, 156, 10, 4, 888, 9, 299, 64, 181, 22, 4, 52, 1092, 32, 13, 12, 14, 9, 27, 87, 180, 34, 1249]}], {\"barmode\": \"stack\"}, {\"showLink\": true, \"linkText\": \"Export to plot.ly\"})});</script>"
      ]
     },
     "metadata": {},
     "output_type": "display_data"
    }
   ],
   "source": [
    "column = 'item_city_id'\n",
    "fig = stack_bar(column, 50)\n",
    "iplot(fig, filename='stacked-%s_bar' % column)"
   ]
  },
  {
   "cell_type": "code",
   "execution_count": 19,
   "metadata": {},
   "outputs": [
    {
     "data": {
      "text/plain": [
       "<matplotlib.axes._subplots.AxesSubplot at 0x7f5927a129e8>"
      ]
     },
     "execution_count": 19,
     "metadata": {},
     "output_type": "execute_result"
    },
    {
     "data": {
      "image/png": "[encoded data removed]",
      "text/plain": [
       "<matplotlib.figure.Figure at 0x7f592f11e278>"
      ]
     },
     "metadata": {},
     "output_type": "display_data"
    }
   ],
   "source": [
    "item_data['item_brand_id'].value_counts()[:50].plot.bar()"
   ]
  },
  {
   "cell_type": "markdown",
   "metadata": {},
   "source": [
    "### 4.1.5 item_price_level"
   ]
  },
  {
   "cell_type": "code",
   "execution_count": 20,
   "metadata": {},
   "outputs": [
    {
     "data": {
      "text/plain": [
       "<matplotlib.axes._subplots.AxesSubplot at 0x7f592873d978>"
      ]
     },
     "execution_count": 20,
     "metadata": {},
     "output_type": "execute_result"
    },
    {
     "data": {
      "image/png": "[encoded data removed]",
      "text/plain": [
       "<matplotlib.figure.Figure at 0x7f59286f5fd0>"
      ]
     },
     "metadata": {},
     "output_type": "display_data"
    }
   ],
   "source": [
    "item_data['item_price_level'].value_counts(sort=False).plot.bar()"
   ]
  },
  {
   "cell_type": "code",
   "execution_count": 21,
   "metadata": {},
   "outputs": [
    {
     "data": {
      "text/plain": [
       "7     209285\n",
       "8     115587\n",
       "6      89057\n",
       "5      41057\n",
       "4      14607\n",
       "9       4035\n",
       "3       3587\n",
       "10       456\n",
       "2        347\n",
       "1         85\n",
       "11        21\n",
       "0         12\n",
       "17         1\n",
       "16         1\n",
       "Name: item_price_level, dtype: int64"
      ]
     },
     "execution_count": 21,
     "metadata": {},
     "output_type": "execute_result"
    }
   ],
   "source": [
    "item_data['item_price_level'].value_counts()"
   ]
  },
  {
   "cell_type": "markdown",
   "metadata": {},
   "source": [
    "### 4.1.6 item_sales_level 销量等级"
   ]
  },
  {
   "cell_type": "code",
   "execution_count": 23,
   "metadata": {},
   "outputs": [
    {
     "data": {
      "text/plain": [
       "<matplotlib.axes._subplots.AxesSubplot at 0x7f5927a08b00>"
      ]
     },
     "execution_count": 23,
     "metadata": {},
     "output_type": "execute_result"
    },
    {
     "data": {
      "image/png": "[encoded data removed]",
      "text/plain": [
       "<matplotlib.figure.Figure at 0x7f5928734908>"
      ]
     },
     "metadata": {},
     "output_type": "display_data"
    }
   ],
   "source": [
    "item_data['item_sales_level'].value_counts(sort=False).plot.bar()"
   ]
  },
  {
   "cell_type": "code",
   "execution_count": 24,
   "metadata": {},
   "outputs": [
    {
     "data": {
      "text/plain": [
       " 12    86960\n",
       " 11    80440\n",
       " 13    64451\n",
       " 10    57664\n",
       " 14    44525\n",
       " 9     39638\n",
       " 8     26969\n",
       " 15    22199\n",
       " 7     18030\n",
       " 16    11096\n",
       " 6     11034\n",
       " 5      5739\n",
       " 4      3230\n",
       " 17     1955\n",
       " 3      1844\n",
       " 2       950\n",
       "-1       913\n",
       " 1       501\n",
       "Name: item_sales_level, dtype: int64"
      ]
     },
     "execution_count": 24,
     "metadata": {},
     "output_type": "execute_result"
    }
   ],
   "source": [
    "item_data['item_sales_level'].value_counts()"
   ]
  },
  {
   "cell_type": "markdown",
   "metadata": {},
   "source": [
    "### 4.1.7 item_collected_level 广告商品被收藏次数的等级"
   ]
  },
  {
   "cell_type": "code",
   "execution_count": 22,
   "metadata": {},
   "outputs": [
    {
     "data": {
      "text/plain": [
       "<matplotlib.axes._subplots.AxesSubplot at 0x7f592873f668>"
      ]
     },
     "execution_count": 22,
     "metadata": {},
     "output_type": "execute_result"
    },
    {
     "data": {
      "image/png": "[encoded data removed]",
      "text/plain": [
       "<matplotlib.figure.Figure at 0x7f592565b6a0>"
      ]
     },
     "metadata": {},
     "output_type": "display_data"
    }
   ],
   "source": [
    "item_data['item_collected_level'].value_counts(sort=False).plot.bar()"
   ]
  },
  {
   "cell_type": "code",
   "execution_count": 25,
   "metadata": {},
   "outputs": [
    {
     "data": {
      "text/plain": [
       "12    84601\n",
       "13    84050\n",
       "14    73771\n",
       "11    53010\n",
       "15    46410\n",
       "10    42053\n",
       "9     23999\n",
       "16    20403\n",
       "8     16443\n",
       "17    11071\n",
       "7     10438\n",
       "6      5372\n",
       "5      2804\n",
       "4      1736\n",
       "3       939\n",
       "2       492\n",
       "0       279\n",
       "1       267\n",
       "Name: item_collected_level, dtype: int64"
      ]
     },
     "execution_count": 25,
     "metadata": {},
     "output_type": "execute_result"
    }
   ],
   "source": [
    "item_data['item_collected_level'].value_counts()"
   ]
  },
  {
   "cell_type": "markdown",
   "metadata": {},
   "source": [
    "### 4.1.8 item_pv_level 广告商品被展示次数的等级"
   ]
  },
  {
   "cell_type": "code",
   "execution_count": 26,
   "metadata": {},
   "outputs": [
    {
     "data": {
      "text/plain": [
       "<matplotlib.axes._subplots.AxesSubplot at 0x7f5927783550>"
      ]
     },
     "execution_count": 26,
     "metadata": {},
     "output_type": "execute_result"
    },
    {
     "data": {
      "image/png": "[encoded data removed]",
      "text/plain": [
       "<matplotlib.figure.Figure at 0x7f5927776f98>"
      ]
     },
     "metadata": {},
     "output_type": "display_data"
    }
   ],
   "source": [
    "item_data['item_pv_level'].value_counts(sort=False).plot.bar()"
   ]
  },
  {
   "cell_type": "markdown",
   "metadata": {},
   "source": [
    "### 相关性分析"
   ]
  },
  {
   "cell_type": "code",
   "execution_count": 28,
   "metadata": {},
   "outputs": [
    {
     "data": {
      "text/plain": [
       "(0.67212034053662417, 0.0)"
      ]
     },
     "execution_count": 28,
     "metadata": {},
     "output_type": "execute_result"
    }
   ],
   "source": [
    "sp.stats.pearsonr(item_data['item_pv_level'].values,item_data['item_collected_level'].values)"
   ]
  },
  {
   "cell_type": "code",
   "execution_count": 29,
   "metadata": {},
   "outputs": [
    {
     "data": {
      "text/plain": [
       "(0.75769725485968253, 0.0)"
      ]
     },
     "execution_count": 29,
     "metadata": {},
     "output_type": "execute_result"
    }
   ],
   "source": [
    "sp.stats.pearsonr(item_data['item_pv_level'].values,item_data['item_sales_level'].values)"
   ]
  },
  {
   "cell_type": "code",
   "execution_count": 31,
   "metadata": {},
   "outputs": [
    {
     "data": {
      "text/plain": [
       "(-0.029377090345582738, 8.9385116551239638e-92)"
      ]
     },
     "execution_count": 31,
     "metadata": {},
     "output_type": "execute_result"
    }
   ],
   "source": [
    "sp.stats.pearsonr(item_data['item_sales_level'].values,item_data['item_price_level'].values)"
   ]
  },
  {
   "cell_type": "code",
   "execution_count": 44,
   "metadata": {},
   "outputs": [
    {
     "data": {
      "text/plain": [
       "<matplotlib.axes._subplots.AxesSubplot at 0x7f5931701cf8>"
      ]
     },
     "execution_count": 44,
     "metadata": {},
     "output_type": "execute_result"
    },
    {
     "data": {
      "image/png": "[encoded data removed]",
      "text/plain": [
       "<matplotlib.figure.Figure at 0x7f593195aa20>"
      ]
     },
     "metadata": {},
     "output_type": "display_data"
    }
   ],
   "source": [
    "# train.boxplot()\n",
    "item_data.plot(kind='density')\n",
    "# plt.hist(item_data['item_pv_level'], bins = 10, range =(item_data['item_pv_level'].min(),item_data['item_pv_level'].max()))\n",
    "# item_data.item_pv_level.value_counts(sort=False).plot(kind='bar', figsize=(8,10))"
   ]
  },
  {
   "cell_type": "markdown",
   "metadata": {},
   "source": [
    "### 4.2 用户user分析"
   ]
  },
  {
   "cell_type": "code",
   "execution_count": 7,
   "metadata": {},
   "outputs": [],
   "source": [
    "# imp = Imputer(missing_values='-1', strategy='mean', axis=0)\n",
    "# df = df.fit_transform(df)\n",
    "user_columns = ['user_id', 'user_gender_id', 'user_age_level', 'user_occupation_id', 'user_star_level', 'is_trade']\n",
    "user_data = df[user_columns]"
   ]
  },
  {
   "cell_type": "code",
   "execution_count": 8,
   "metadata": {},
   "outputs": [
    {
     "data": {
      "text/plain": [
       "user_id               207641\n",
       "user_gender_id             4\n",
       "user_age_level             9\n",
       "user_occupation_id         5\n",
       "user_star_level           12\n",
       "is_trade                   2\n",
       "dtype: int64"
      ]
     },
     "execution_count": 8,
     "metadata": {},
     "output_type": "execute_result"
    }
   ],
   "source": [
    "user_data.nunique()"
   ]
  },
  {
   "cell_type": "markdown",
   "metadata": {},
   "source": [
    "### 4.2.1 user_gender_id"
   ]
  },
  {
   "cell_type": "code",
   "execution_count": 9,
   "metadata": {},
   "outputs": [
    {
     "data": {
      "text/plain": [
       "0    387964\n",
       "1     97794\n",
       "2     10751\n",
       "Name: user_gender_id, dtype: int64"
      ]
     },
     "execution_count": 9,
     "metadata": {},
     "output_type": "execute_result"
    }
   ],
   "source": [
    "user_data['user_gender_id'][user_data['user_gender_id']==-1] = user_data['user_gender_id'].mode().values[0]\n",
    "user_data['user_gender_id'].value_counts()"
   ]
  },
  {
   "cell_type": "markdown",
   "metadata": {},
   "source": [
    "### 4.2.2 user_age_level"
   ]
  },
  {
   "cell_type": "code",
   "execution_count": 16,
   "metadata": {},
   "outputs": [
    {
     "data": {
      "text/plain": [
       " 1003    175939\n",
       " 1004    131139\n",
       " 1002     72838\n",
       " 1005     58767\n",
       " 1006     31254\n",
       " 1000     13501\n",
       " 1001      6666\n",
       " 1007      5423\n",
       "-1          982\n",
       "Name: user_age_level, dtype: int64"
      ]
     },
     "execution_count": 16,
     "metadata": {},
     "output_type": "execute_result"
    },
    {
     "data": {
      "image/png": "[encoded data removed]",
      "text/plain": [
       "<matplotlib.figure.Figure at 0x7fb379f52630>"
      ]
     },
     "metadata": {},
     "output_type": "display_data"
    }
   ],
   "source": [
    "# user_data['user_age_level'][user_data['user_age_level']==-1] = \n",
    "user_data['user_age_level'].value_counts(sort=False).plot.bar()\n",
    "user_data['user_age_level'].value_counts()"
   ]
  },
  {
   "cell_type": "markdown",
   "metadata": {},
   "source": [
    "### 4.2.3 user_star_level"
   ]
  },
  {
   "cell_type": "code",
   "execution_count": 17,
   "metadata": {},
   "outputs": [
    {
     "data": {
      "text/plain": [
       " 3006    85132\n",
       " 3003    77450\n",
       " 3005    70044\n",
       " 3002    65338\n",
       " 3004    64165\n",
       " 3007    55356\n",
       " 3000    32554\n",
       " 3008    20977\n",
       " 3001    20031\n",
       " 3009     4299\n",
       "-1         982\n",
       " 3010      181\n",
       "Name: user_star_level, dtype: int64"
      ]
     },
     "execution_count": 17,
     "metadata": {},
     "output_type": "execute_result"
    },
    {
     "data": {
      "image/png": "[encoded data removed]",
      "text/plain": [
       "<matplotlib.figure.Figure at 0x7fb379ee86d8>"
      ]
     },
     "metadata": {},
     "output_type": "display_data"
    }
   ],
   "source": [
    "user_data['user_star_level'].value_counts(sort=False).plot.bar()\n",
    "user_data['user_star_level'].value_counts()"
   ]
  },
  {
   "cell_type": "markdown",
   "metadata": {},
   "source": [
    "### 4.2.4 user_occupation_id"
   ]
  },
  {
   "cell_type": "code",
   "execution_count": 19,
   "metadata": {},
   "outputs": [
    {
     "data": {
      "text/plain": [
       "<matplotlib.axes._subplots.AxesSubplot at 0x7fb379f077f0>"
      ]
     },
     "execution_count": 19,
     "metadata": {},
     "output_type": "execute_result"
    },
    {
     "data": {
      "image/png": "[encoded data removed]",
      "text/plain": [
       "<matplotlib.figure.Figure at 0x7fb379ea1dd8>"
      ]
     },
     "metadata": {},
     "output_type": "display_data"
    }
   ],
   "source": [
    "test['user_occupation_id'].value_counts()\n",
    "test['user_occupation_id'].value_counts(sort=False).plot.bar()"
   ]
  },
  {
   "cell_type": "markdown",
   "metadata": {},
   "source": [
    "### 4.2.4 user_id"
   ]
  },
  {
   "cell_type": "code",
   "execution_count": 23,
   "metadata": {
    "scrolled": true
   },
   "outputs": [
    {
     "data": {
      "text/plain": [
       "18371"
      ]
     },
     "execution_count": 23,
     "metadata": {},
     "output_type": "execute_result"
    }
   ],
   "source": [
    "test['user_id'].count()"
   ]
  },
  {
   "cell_type": "markdown",
   "metadata": {},
   "source": [
    "### 4.3 shop分析"
   ]
  },
  {
   "cell_type": "code",
   "execution_count": 25,
   "metadata": {},
   "outputs": [
    {
     "data": {
      "text/plain": [
       "Index(['instance_id', 'item_id', 'item_category_list', 'item_property_list',\n",
       "       'item_brand_id', 'item_city_id', 'item_price_level', 'item_sales_level',\n",
       "       'item_collected_level', 'item_pv_level', 'user_id', 'user_gender_id',\n",
       "       'user_age_level', 'user_occupation_id', 'user_star_level', 'context_id',\n",
       "       'context_timestamp', 'context_page_id', 'predict_category_property',\n",
       "       'shop_id', 'shop_review_num_level', 'shop_review_positive_rate',\n",
       "       'shop_star_level', 'shop_score_service', 'shop_score_delivery',\n",
       "       'shop_score_description', 'is_trade', 'isTrain'],\n",
       "      dtype='object')"
      ]
     },
     "execution_count": 25,
     "metadata": {},
     "output_type": "execute_result"
    }
   ],
   "source": [
    "train.columns"
   ]
  },
  {
   "cell_type": "code",
   "execution_count": 27,
   "metadata": {},
   "outputs": [],
   "source": [
    "shop_data = train[['shop_id', 'shop_review_num_level', 'shop_review_positive_rate', 'shop_star_level', \n",
    "                  'shop_score_service','shop_score_delivery', 'shop_score_description','is_trade']]"
   ]
  },
  {
   "cell_type": "code",
   "execution_count": 29,
   "metadata": {},
   "outputs": [
    {
     "data": {
      "text/plain": [
       "<matplotlib.axes._subplots.AxesSubplot at 0x7fb371334390>"
      ]
     },
     "execution_count": 29,
     "metadata": {},
     "output_type": "execute_result"
    },
    {
     "data": {
      "image/png": "[encoded data removed]",
      "text/plain": [
       "<matplotlib.figure.Figure at 0x7fb371ff5dd8>"
      ]
     },
     "metadata": {},
     "output_type": "display_data"
    }
   ],
   "source": [
    "shop_data['shop_review_num_level'].value_counts(sort=False).plot.bar()"
   ]
  },
  {
   "cell_type": "code",
   "execution_count": 38,
   "metadata": {},
   "outputs": [
    {
     "data": {
      "text/plain": [
       "32320"
      ]
     },
     "execution_count": 38,
     "metadata": {},
     "output_type": "execute_result"
    }
   ],
   "source": [
    "# shop_data['shop_review_positive_rate'].value_counts(sort=False)\n",
    "shop_data['shop_review_positive_rate'][shop_data['shop_review_positive_rate']<0.98].count()"
   ]
  },
  {
   "cell_type": "code",
   "execution_count": null,
   "metadata": {},
   "outputs": [],
   "source": []
  }
 ],
 "metadata": {
  "kernelspec": {
   "display_name": "Python 3",
   "language": "python",
   "name": "python3"
  },
  "language_info": {
   "codemirror_mode": {
    "name": "ipython",
    "version": 3
   },
   "file_extension": ".py",
   "mimetype": "text/x-python",
   "name": "python",
   "nbconvert_exporter": "python",
   "pygments_lexer": "ipython3",
   "version": "3.5.2"
  }
 },
 "nbformat": 4,
 "nbformat_minor": 2
}
