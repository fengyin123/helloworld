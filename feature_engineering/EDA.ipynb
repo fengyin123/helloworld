{
 "cells": [
  {
   "cell_type": "markdown",
   "metadata": {},
   "source": [
    "## 1. Load libraries"
   ]
  },
  {
   "cell_type": "code",
   "execution_count": 1,
   "metadata": {},
   "outputs": [
    {
     "data": {
      "application/javascript": [
       "IPython.OutputArea.prototype._should_scroll = function(lines) {\n",
       "    return false;\n",
       "}"
      ],
      "text/plain": [
       "<IPython.core.display.Javascript object>"
      ]
     },
     "metadata": {},
     "output_type": "display_data"
    }
   ],
   "source": [
    "%%javascript\n",
    "IPython.OutputArea.prototype._should_scroll = function(lines) {\n",
    "    return false;\n",
    "}"
   ]
  },
  {
   "cell_type": "code",
   "execution_count": 2,
   "metadata": {
    "hide_input": false
   },
   "outputs": [
    {
     "name": "stdout",
     "output_type": "stream",
     "text": [
      "0.5.0\n"
     ]
    },
    {
     "data": {
      "text/html": [
       "<script>requirejs.config({paths: { 'plotly': ['https://cdn.plot.ly/plotly-latest.min']},});if(!window.Plotly) {{require(['plotly'],function(plotly) {window.Plotly=plotly;});}}</script>"
      ],
      "text/vnd.plotly.v1+html": [
       "<script>requirejs.config({paths: { 'plotly': ['https://cdn.plot.ly/plotly-latest.min']},});if(!window.Plotly) {{require(['plotly'],function(plotly) {window.Plotly=plotly;});}}</script>"
      ]
     },
     "metadata": {},
     "output_type": "display_data"
    },
    {
     "data": {
      "text/plain": [
       "<matplotlib.figure.Figure at 0x106b36ba8>"
      ]
     },
     "metadata": {},
     "output_type": "display_data"
    }
   ],
   "source": [
    "import warnings\n",
    "warnings.simplefilter('ignore')\n",
    "import pandas as pd\n",
    "import numpy as np\n",
    "import scipy as sp\n",
    "import matplotlib.pyplot as plt\n",
    "import plotly.plotly as py\n",
    "import plotly.graph_objs as go\n",
    "import plotly \n",
    "from plotly import tools\n",
    "from plotly.graph_objs import *\n",
    "import collections\n",
    "import calendar\n",
    "%matplotlib inline \n",
    "import datetime\n",
    "import colorlover as cl\n",
    "import joypy\n",
    "from matplotlib import cm\n",
    "import plotnine as pln\n",
    "from matplotlib.colors import ListedColormap\n",
    "import matplotlib\n",
    "\n",
    "\n",
    "plt.style.use('ggplot')\n",
    "plt.figure(figsize=(18,10))\n",
    "\n",
    "import seaborn as sns\n",
    "import os\n",
    "import folium\n",
    "from folium.plugins import MarkerCluster\n",
    "print(folium.__version__)\n",
    "cmap = ListedColormap(sns.color_palette())\n",
    "\n",
    "import colorlover as cl\n",
    "from IPython.display import HTML\n",
    "\n",
    "from plotly import __version__\n",
    "from plotly.offline import download_plotlyjs, init_notebook_mode, plot, iplot\n",
    "import plotly.graph_objs as go\n",
    "\n",
    "init_notebook_mode(connected=True)\n",
    "\n",
    "from sklearn.preprocessing import LabelEncoder\n",
    "import ggplot\n",
    "from ggplot import *\n",
    "matplotlib.rcParams['figure.figsize'] = (20.0, 10.0)\n",
    "# plotly.tools.set_credentials_file(username='adslwang4601', api_key='RNtOcvlYrBgpU80Tiiuf')\n"
   ]
  },
  {
   "cell_type": "markdown",
   "metadata": {},
   "source": [
    "## 2. Load data"
   ]
  },
  {
   "cell_type": "code",
   "execution_count": 3,
   "metadata": {
    "code_folding": [],
    "hide_input": false
   },
   "outputs": [
    {
     "name": "stdout",
     "output_type": "stream",
     "text": [
      "========> Load Data Success!\n"
     ]
    }
   ],
   "source": [
    "path = '../input/'\n",
    "# 训练集\n",
    "train = pd.read_table(path+'round1_ijcai_18_train_20180301.txt',encoding='utf8',delim_whitespace=True)\n",
    "train['isTrain'] = 1\n",
    "    \n",
    "# 测试集\n",
    "test = pd.read_table(path+'round1_ijcai_18_test_a_20180301.txt',encoding='utf8',delim_whitespace=True)\n",
    "test['isTrain'] = 0\n",
    "        \n",
    "# 连接\n",
    "df = pd.concat([train, test])\n",
    "print(\"========> Load Data Success!\") "
   ]
  },
  {
   "cell_type": "markdown",
   "metadata": {},
   "source": [
    "## 3. Glimpse at the dataset"
   ]
  },
  {
   "cell_type": "markdown",
   "metadata": {},
   "source": [
    "### 3.1 Train"
   ]
  },
  {
   "cell_type": "code",
   "execution_count": 4,
   "metadata": {
    "hide_input": false
   },
   "outputs": [
    {
     "data": {
      "text/html": [
       "<div>\n",
       "<style scoped>\n",
       "    .dataframe tbody tr th:only-of-type {\n",
       "        vertical-align: middle;\n",
       "    }\n",
       "\n",
       "    .dataframe tbody tr th {\n",
       "        vertical-align: top;\n",
       "    }\n",
       "\n",
       "    .dataframe thead th {\n",
       "        text-align: right;\n",
       "    }\n",
       "</style>\n",
       "<table border=\"1\" class=\"dataframe\">\n",
       "  <thead>\n",
       "    <tr style=\"text-align: right;\">\n",
       "      <th></th>\n",
       "      <th>instance_id</th>\n",
       "      <th>item_id</th>\n",
       "      <th>item_category_list</th>\n",
       "      <th>item_property_list</th>\n",
       "      <th>item_brand_id</th>\n",
       "      <th>item_city_id</th>\n",
       "      <th>item_price_level</th>\n",
       "      <th>item_sales_level</th>\n",
       "      <th>item_collected_level</th>\n",
       "      <th>item_pv_level</th>\n",
       "      <th>...</th>\n",
       "      <th>predict_category_property</th>\n",
       "      <th>shop_id</th>\n",
       "      <th>shop_review_num_level</th>\n",
       "      <th>shop_review_positive_rate</th>\n",
       "      <th>shop_star_level</th>\n",
       "      <th>shop_score_service</th>\n",
       "      <th>shop_score_delivery</th>\n",
       "      <th>shop_score_description</th>\n",
       "      <th>is_trade</th>\n",
       "      <th>isTrain</th>\n",
       "    </tr>\n",
       "  </thead>\n",
       "  <tbody>\n",
       "    <tr>\n",
       "      <th>0</th>\n",
       "      <td>108641074714126964</td>\n",
       "      <td>3412720377098676069</td>\n",
       "      <td>7908382889764677758;5799347067982556520</td>\n",
       "      <td>2072967855524022579;5131280576272319091;263639...</td>\n",
       "      <td>1975590437749032870</td>\n",
       "      <td>3948283326616421003</td>\n",
       "      <td>3</td>\n",
       "      <td>3</td>\n",
       "      <td>4</td>\n",
       "      <td>14</td>\n",
       "      <td>...</td>\n",
       "      <td>5799347067982556520:-1;509660095530134768:-1;5...</td>\n",
       "      <td>6765930309048922341</td>\n",
       "      <td>4</td>\n",
       "      <td>1.0</td>\n",
       "      <td>5002</td>\n",
       "      <td>1.0</td>\n",
       "      <td>1.0</td>\n",
       "      <td>1.0</td>\n",
       "      <td>0</td>\n",
       "      <td>1</td>\n",
       "    </tr>\n",
       "    <tr>\n",
       "      <th>1</th>\n",
       "      <td>5754713551599725161</td>\n",
       "      <td>3412720377098676069</td>\n",
       "      <td>7908382889764677758;5799347067982556520</td>\n",
       "      <td>2072967855524022579;5131280576272319091;263639...</td>\n",
       "      <td>1975590437749032870</td>\n",
       "      <td>3948283326616421003</td>\n",
       "      <td>3</td>\n",
       "      <td>3</td>\n",
       "      <td>4</td>\n",
       "      <td>14</td>\n",
       "      <td>...</td>\n",
       "      <td>5799347067982556520:9172976955054793469;790838...</td>\n",
       "      <td>6765930309048922341</td>\n",
       "      <td>4</td>\n",
       "      <td>1.0</td>\n",
       "      <td>5002</td>\n",
       "      <td>1.0</td>\n",
       "      <td>1.0</td>\n",
       "      <td>1.0</td>\n",
       "      <td>0</td>\n",
       "      <td>1</td>\n",
       "    </tr>\n",
       "    <tr>\n",
       "      <th>2</th>\n",
       "      <td>842679481291040981</td>\n",
       "      <td>3412720377098676069</td>\n",
       "      <td>7908382889764677758;5799347067982556520</td>\n",
       "      <td>2072967855524022579;5131280576272319091;263639...</td>\n",
       "      <td>1975590437749032870</td>\n",
       "      <td>3948283326616421003</td>\n",
       "      <td>3</td>\n",
       "      <td>3</td>\n",
       "      <td>4</td>\n",
       "      <td>14</td>\n",
       "      <td>...</td>\n",
       "      <td>5799347067982556520:5131280576272319091;725801...</td>\n",
       "      <td>6765930309048922341</td>\n",
       "      <td>4</td>\n",
       "      <td>1.0</td>\n",
       "      <td>5002</td>\n",
       "      <td>1.0</td>\n",
       "      <td>1.0</td>\n",
       "      <td>1.0</td>\n",
       "      <td>0</td>\n",
       "      <td>1</td>\n",
       "    </tr>\n",
       "    <tr>\n",
       "      <th>3</th>\n",
       "      <td>937088850059189027</td>\n",
       "      <td>3412720377098676069</td>\n",
       "      <td>7908382889764677758;5799347067982556520</td>\n",
       "      <td>2072967855524022579;5131280576272319091;263639...</td>\n",
       "      <td>1975590437749032870</td>\n",
       "      <td>3948283326616421003</td>\n",
       "      <td>3</td>\n",
       "      <td>3</td>\n",
       "      <td>4</td>\n",
       "      <td>14</td>\n",
       "      <td>...</td>\n",
       "      <td>509660095530134768:-1;5799347067982556520:-1;7...</td>\n",
       "      <td>6765930309048922341</td>\n",
       "      <td>4</td>\n",
       "      <td>1.0</td>\n",
       "      <td>5002</td>\n",
       "      <td>1.0</td>\n",
       "      <td>1.0</td>\n",
       "      <td>1.0</td>\n",
       "      <td>0</td>\n",
       "      <td>1</td>\n",
       "    </tr>\n",
       "    <tr>\n",
       "      <th>4</th>\n",
       "      <td>7975697065017708072</td>\n",
       "      <td>3412720377098676069</td>\n",
       "      <td>7908382889764677758;5799347067982556520</td>\n",
       "      <td>2072967855524022579;5131280576272319091;263639...</td>\n",
       "      <td>1975590437749032870</td>\n",
       "      <td>3948283326616421003</td>\n",
       "      <td>3</td>\n",
       "      <td>3</td>\n",
       "      <td>4</td>\n",
       "      <td>14</td>\n",
       "      <td>...</td>\n",
       "      <td>5799347067982556520:9172976955054793469;790838...</td>\n",
       "      <td>6765930309048922341</td>\n",
       "      <td>4</td>\n",
       "      <td>1.0</td>\n",
       "      <td>5002</td>\n",
       "      <td>1.0</td>\n",
       "      <td>1.0</td>\n",
       "      <td>1.0</td>\n",
       "      <td>0</td>\n",
       "      <td>1</td>\n",
       "    </tr>\n",
       "  </tbody>\n",
       "</table>\n",
       "<p>5 rows × 28 columns</p>\n",
       "</div>"
      ],
      "text/plain": [
       "           instance_id              item_id  \\\n",
       "0   108641074714126964  3412720377098676069   \n",
       "1  5754713551599725161  3412720377098676069   \n",
       "2   842679481291040981  3412720377098676069   \n",
       "3   937088850059189027  3412720377098676069   \n",
       "4  7975697065017708072  3412720377098676069   \n",
       "\n",
       "                        item_category_list  \\\n",
       "0  7908382889764677758;5799347067982556520   \n",
       "1  7908382889764677758;5799347067982556520   \n",
       "2  7908382889764677758;5799347067982556520   \n",
       "3  7908382889764677758;5799347067982556520   \n",
       "4  7908382889764677758;5799347067982556520   \n",
       "\n",
       "                                  item_property_list        item_brand_id  \\\n",
       "0  2072967855524022579;5131280576272319091;263639...  1975590437749032870   \n",
       "1  2072967855524022579;5131280576272319091;263639...  1975590437749032870   \n",
       "2  2072967855524022579;5131280576272319091;263639...  1975590437749032870   \n",
       "3  2072967855524022579;5131280576272319091;263639...  1975590437749032870   \n",
       "4  2072967855524022579;5131280576272319091;263639...  1975590437749032870   \n",
       "\n",
       "          item_city_id  item_price_level  item_sales_level  \\\n",
       "0  3948283326616421003                 3                 3   \n",
       "1  3948283326616421003                 3                 3   \n",
       "2  3948283326616421003                 3                 3   \n",
       "3  3948283326616421003                 3                 3   \n",
       "4  3948283326616421003                 3                 3   \n",
       "\n",
       "   item_collected_level  item_pv_level   ...     \\\n",
       "0                     4             14   ...      \n",
       "1                     4             14   ...      \n",
       "2                     4             14   ...      \n",
       "3                     4             14   ...      \n",
       "4                     4             14   ...      \n",
       "\n",
       "                           predict_category_property              shop_id  \\\n",
       "0  5799347067982556520:-1;509660095530134768:-1;5...  6765930309048922341   \n",
       "1  5799347067982556520:9172976955054793469;790838...  6765930309048922341   \n",
       "2  5799347067982556520:5131280576272319091;725801...  6765930309048922341   \n",
       "3  509660095530134768:-1;5799347067982556520:-1;7...  6765930309048922341   \n",
       "4  5799347067982556520:9172976955054793469;790838...  6765930309048922341   \n",
       "\n",
       "   shop_review_num_level  shop_review_positive_rate  shop_star_level  \\\n",
       "0                      4                        1.0             5002   \n",
       "1                      4                        1.0             5002   \n",
       "2                      4                        1.0             5002   \n",
       "3                      4                        1.0             5002   \n",
       "4                      4                        1.0             5002   \n",
       "\n",
       "   shop_score_service  shop_score_delivery  shop_score_description is_trade  \\\n",
       "0                 1.0                  1.0                     1.0        0   \n",
       "1                 1.0                  1.0                     1.0        0   \n",
       "2                 1.0                  1.0                     1.0        0   \n",
       "3                 1.0                  1.0                     1.0        0   \n",
       "4                 1.0                  1.0                     1.0        0   \n",
       "\n",
       "   isTrain  \n",
       "0        1  \n",
       "1        1  \n",
       "2        1  \n",
       "3        1  \n",
       "4        1  \n",
       "\n",
       "[5 rows x 28 columns]"
      ]
     },
     "execution_count": 4,
     "metadata": {},
     "output_type": "execute_result"
    }
   ],
   "source": [
    "train.head()"
   ]
  },
  {
   "cell_type": "markdown",
   "metadata": {},
   "source": [
    "### 3.2 Test"
   ]
  },
  {
   "cell_type": "code",
   "execution_count": 5,
   "metadata": {
    "hide_input": false
   },
   "outputs": [
    {
     "data": {
      "text/html": [
       "<div>\n",
       "<style scoped>\n",
       "    .dataframe tbody tr th:only-of-type {\n",
       "        vertical-align: middle;\n",
       "    }\n",
       "\n",
       "    .dataframe tbody tr th {\n",
       "        vertical-align: top;\n",
       "    }\n",
       "\n",
       "    .dataframe thead th {\n",
       "        text-align: right;\n",
       "    }\n",
       "</style>\n",
       "<table border=\"1\" class=\"dataframe\">\n",
       "  <thead>\n",
       "    <tr style=\"text-align: right;\">\n",
       "      <th></th>\n",
       "      <th>instance_id</th>\n",
       "      <th>item_id</th>\n",
       "      <th>item_category_list</th>\n",
       "      <th>item_property_list</th>\n",
       "      <th>item_brand_id</th>\n",
       "      <th>item_city_id</th>\n",
       "      <th>item_price_level</th>\n",
       "      <th>item_sales_level</th>\n",
       "      <th>item_collected_level</th>\n",
       "      <th>item_pv_level</th>\n",
       "      <th>...</th>\n",
       "      <th>context_page_id</th>\n",
       "      <th>predict_category_property</th>\n",
       "      <th>shop_id</th>\n",
       "      <th>shop_review_num_level</th>\n",
       "      <th>shop_review_positive_rate</th>\n",
       "      <th>shop_star_level</th>\n",
       "      <th>shop_score_service</th>\n",
       "      <th>shop_score_delivery</th>\n",
       "      <th>shop_score_description</th>\n",
       "      <th>isTrain</th>\n",
       "    </tr>\n",
       "  </thead>\n",
       "  <tbody>\n",
       "    <tr>\n",
       "      <th>0</th>\n",
       "      <td>2475218615076601065</td>\n",
       "      <td>2275895163219263378</td>\n",
       "      <td>7908382889764677758;8277336076276184272</td>\n",
       "      <td>2636395404473730413;7515802706813700848;302719...</td>\n",
       "      <td>7838285046767229711</td>\n",
       "      <td>7534238860363577544</td>\n",
       "      <td>7</td>\n",
       "      <td>6</td>\n",
       "      <td>8</td>\n",
       "      <td>14</td>\n",
       "      <td>...</td>\n",
       "      <td>4005</td>\n",
       "      <td>8277336076276184272:-1;5799347067982556520:-1;...</td>\n",
       "      <td>5275548996133547595</td>\n",
       "      <td>13</td>\n",
       "      <td>0.985244</td>\n",
       "      <td>5011</td>\n",
       "      <td>0.964023</td>\n",
       "      <td>0.966550</td>\n",
       "      <td>0.955378</td>\n",
       "      <td>0</td>\n",
       "    </tr>\n",
       "    <tr>\n",
       "      <th>1</th>\n",
       "      <td>398316874173557226</td>\n",
       "      <td>7096238490711246967</td>\n",
       "      <td>7908382889764677758;5755694407684602296</td>\n",
       "      <td>5131280576272319091;2636395404473730413;734498...</td>\n",
       "      <td>8126195666233054089</td>\n",
       "      <td>3948283326616421003</td>\n",
       "      <td>6</td>\n",
       "      <td>9</td>\n",
       "      <td>8</td>\n",
       "      <td>16</td>\n",
       "      <td>...</td>\n",
       "      <td>4001</td>\n",
       "      <td>5755694407684602296:216555019471416386,2636395...</td>\n",
       "      <td>329470548383752413</td>\n",
       "      <td>14</td>\n",
       "      <td>0.989068</td>\n",
       "      <td>5012</td>\n",
       "      <td>0.963794</td>\n",
       "      <td>0.964225</td>\n",
       "      <td>0.959134</td>\n",
       "      <td>0</td>\n",
       "    </tr>\n",
       "    <tr>\n",
       "      <th>2</th>\n",
       "      <td>6586402638209028583</td>\n",
       "      <td>7096238490711246967</td>\n",
       "      <td>7908382889764677758;5755694407684602296</td>\n",
       "      <td>5131280576272319091;2636395404473730413;734498...</td>\n",
       "      <td>8126195666233054089</td>\n",
       "      <td>3948283326616421003</td>\n",
       "      <td>6</td>\n",
       "      <td>9</td>\n",
       "      <td>8</td>\n",
       "      <td>16</td>\n",
       "      <td>...</td>\n",
       "      <td>4011</td>\n",
       "      <td>5755694407684602296:2636395404473730413;871073...</td>\n",
       "      <td>329470548383752413</td>\n",
       "      <td>14</td>\n",
       "      <td>0.989068</td>\n",
       "      <td>5012</td>\n",
       "      <td>0.963794</td>\n",
       "      <td>0.964225</td>\n",
       "      <td>0.959134</td>\n",
       "      <td>0</td>\n",
       "    </tr>\n",
       "    <tr>\n",
       "      <th>3</th>\n",
       "      <td>1040996105851528465</td>\n",
       "      <td>7096238490711246967</td>\n",
       "      <td>7908382889764677758;5755694407684602296</td>\n",
       "      <td>5131280576272319091;2636395404473730413;734498...</td>\n",
       "      <td>8126195666233054089</td>\n",
       "      <td>3948283326616421003</td>\n",
       "      <td>6</td>\n",
       "      <td>9</td>\n",
       "      <td>8</td>\n",
       "      <td>16</td>\n",
       "      <td>...</td>\n",
       "      <td>4001</td>\n",
       "      <td>8710739180200009128:-1;5755694407684602296:263...</td>\n",
       "      <td>329470548383752413</td>\n",
       "      <td>14</td>\n",
       "      <td>0.989068</td>\n",
       "      <td>5012</td>\n",
       "      <td>0.963794</td>\n",
       "      <td>0.964225</td>\n",
       "      <td>0.959134</td>\n",
       "      <td>0</td>\n",
       "    </tr>\n",
       "    <tr>\n",
       "      <th>4</th>\n",
       "      <td>6316278569655873454</td>\n",
       "      <td>7096238490711246967</td>\n",
       "      <td>7908382889764677758;5755694407684602296</td>\n",
       "      <td>5131280576272319091;2636395404473730413;734498...</td>\n",
       "      <td>8126195666233054089</td>\n",
       "      <td>3948283326616421003</td>\n",
       "      <td>6</td>\n",
       "      <td>9</td>\n",
       "      <td>8</td>\n",
       "      <td>16</td>\n",
       "      <td>...</td>\n",
       "      <td>4001</td>\n",
       "      <td>5755694407684602296:5131280576272319091;871073...</td>\n",
       "      <td>329470548383752413</td>\n",
       "      <td>14</td>\n",
       "      <td>0.989068</td>\n",
       "      <td>5012</td>\n",
       "      <td>0.963794</td>\n",
       "      <td>0.964225</td>\n",
       "      <td>0.959134</td>\n",
       "      <td>0</td>\n",
       "    </tr>\n",
       "  </tbody>\n",
       "</table>\n",
       "<p>5 rows × 27 columns</p>\n",
       "</div>"
      ],
      "text/plain": [
       "           instance_id              item_id  \\\n",
       "0  2475218615076601065  2275895163219263378   \n",
       "1   398316874173557226  7096238490711246967   \n",
       "2  6586402638209028583  7096238490711246967   \n",
       "3  1040996105851528465  7096238490711246967   \n",
       "4  6316278569655873454  7096238490711246967   \n",
       "\n",
       "                        item_category_list  \\\n",
       "0  7908382889764677758;8277336076276184272   \n",
       "1  7908382889764677758;5755694407684602296   \n",
       "2  7908382889764677758;5755694407684602296   \n",
       "3  7908382889764677758;5755694407684602296   \n",
       "4  7908382889764677758;5755694407684602296   \n",
       "\n",
       "                                  item_property_list        item_brand_id  \\\n",
       "0  2636395404473730413;7515802706813700848;302719...  7838285046767229711   \n",
       "1  5131280576272319091;2636395404473730413;734498...  8126195666233054089   \n",
       "2  5131280576272319091;2636395404473730413;734498...  8126195666233054089   \n",
       "3  5131280576272319091;2636395404473730413;734498...  8126195666233054089   \n",
       "4  5131280576272319091;2636395404473730413;734498...  8126195666233054089   \n",
       "\n",
       "          item_city_id  item_price_level  item_sales_level  \\\n",
       "0  7534238860363577544                 7                 6   \n",
       "1  3948283326616421003                 6                 9   \n",
       "2  3948283326616421003                 6                 9   \n",
       "3  3948283326616421003                 6                 9   \n",
       "4  3948283326616421003                 6                 9   \n",
       "\n",
       "   item_collected_level  item_pv_level   ...     context_page_id  \\\n",
       "0                     8             14   ...                4005   \n",
       "1                     8             16   ...                4001   \n",
       "2                     8             16   ...                4011   \n",
       "3                     8             16   ...                4001   \n",
       "4                     8             16   ...                4001   \n",
       "\n",
       "                           predict_category_property              shop_id  \\\n",
       "0  8277336076276184272:-1;5799347067982556520:-1;...  5275548996133547595   \n",
       "1  5755694407684602296:216555019471416386,2636395...   329470548383752413   \n",
       "2  5755694407684602296:2636395404473730413;871073...   329470548383752413   \n",
       "3  8710739180200009128:-1;5755694407684602296:263...   329470548383752413   \n",
       "4  5755694407684602296:5131280576272319091;871073...   329470548383752413   \n",
       "\n",
       "   shop_review_num_level  shop_review_positive_rate  shop_star_level  \\\n",
       "0                     13                   0.985244             5011   \n",
       "1                     14                   0.989068             5012   \n",
       "2                     14                   0.989068             5012   \n",
       "3                     14                   0.989068             5012   \n",
       "4                     14                   0.989068             5012   \n",
       "\n",
       "   shop_score_service  shop_score_delivery shop_score_description  isTrain  \n",
       "0            0.964023             0.966550               0.955378        0  \n",
       "1            0.963794             0.964225               0.959134        0  \n",
       "2            0.963794             0.964225               0.959134        0  \n",
       "3            0.963794             0.964225               0.959134        0  \n",
       "4            0.963794             0.964225               0.959134        0  \n",
       "\n",
       "[5 rows x 27 columns]"
      ]
     },
     "execution_count": 5,
     "metadata": {},
     "output_type": "execute_result"
    }
   ],
   "source": [
    "test.head()"
   ]
  },
  {
   "cell_type": "markdown",
   "metadata": {
    "collapsed": true,
    "hide_input": false
   },
   "source": [
    "### 3.3 Missing values"
   ]
  },
  {
   "cell_type": "code",
   "execution_count": 6,
   "metadata": {
    "hide_input": false
   },
   "outputs": [
    {
     "data": {
      "text/plain": [
       "instance_id                  0\n",
       "item_id                      0\n",
       "item_category_list           0\n",
       "item_property_list           0\n",
       "item_brand_id                0\n",
       "item_city_id                 0\n",
       "item_price_level             0\n",
       "item_sales_level             0\n",
       "item_collected_level         0\n",
       "item_pv_level                0\n",
       "user_id                      0\n",
       "user_gender_id               0\n",
       "user_age_level               0\n",
       "user_occupation_id           0\n",
       "user_star_level              0\n",
       "context_id                   0\n",
       "context_timestamp            0\n",
       "context_page_id              0\n",
       "predict_category_property    0\n",
       "shop_id                      0\n",
       "shop_review_num_level        0\n",
       "shop_review_positive_rate    0\n",
       "shop_star_level              0\n",
       "shop_score_service           0\n",
       "shop_score_delivery          0\n",
       "shop_score_description       0\n",
       "is_trade                     0\n",
       "isTrain                      0\n",
       "dtype: int64"
      ]
     },
     "execution_count": 6,
     "metadata": {},
     "output_type": "execute_result"
    }
   ],
   "source": [
    "train.isnull().sum()"
   ]
  },
  {
   "cell_type": "markdown",
   "metadata": {},
   "source": [
    "### 3.4 File info"
   ]
  },
  {
   "cell_type": "code",
   "execution_count": 7,
   "metadata": {},
   "outputs": [
    {
     "name": "stdout",
     "output_type": "stream",
     "text": [
      "Number of rows in the train set: 478138\n",
      "Train set file size: 529 MB\n",
      "Number of rows in the test set: 18371\n",
      "Test set file size: 20 MB\n"
     ]
    }
   ],
   "source": [
    "rows_train = train.shape[0]\n",
    "print('Number of rows in the train set: %d' % rows_train)\n",
    "size_train = os.path.getsize(path+'round1_ijcai_18_train_20180301.txt')/(1024*1024)\n",
    "print('Train set file size: %d MB' % size_train)\n",
    "rows_test= test.shape[0]\n",
    "print('Number of rows in the test set: %d' % rows_test)\n",
    "size_test = os.path.getsize(path+'round1_ijcai_18_test_a_20180301.txt')/(1024*1024)\n",
    "print('Test set file size: %d MB' % size_test)"
   ]
  },
  {
   "cell_type": "markdown",
   "metadata": {},
   "source": [
    "### 3.5 Unique counts"
   ]
  },
  {
   "cell_type": "code",
   "execution_count": null,
   "metadata": {},
   "outputs": [
    {
     "data": {
      "text/plain": [
       "instance_id                  478087\n",
       "item_id                       10075\n",
       "item_category_list               14\n",
       "item_property_list            10908\n",
       "item_brand_id                  2055\n",
       "item_city_id                    128\n",
       "item_price_level                 14\n",
       "item_sales_level                 18\n",
       "item_collected_level             18\n",
       "item_pv_level                    22\n",
       "user_id                      197694\n",
       "user_gender_id                    4\n",
       "user_age_level                    9\n",
       "user_occupation_id                5\n",
       "user_star_level                  12\n",
       "context_id                   478111\n",
       "context_timestamp            281824\n",
       "context_page_id                  20\n",
       "predict_category_property     78796\n",
       "shop_id                        3959\n",
       "shop_review_num_level            25\n",
       "shop_review_positive_rate     11825\n",
       "shop_star_level                  22\n",
       "shop_score_service            16361\n",
       "shop_score_delivery           16423\n",
       "shop_score_description        16463\n",
       "is_trade                          2\n",
       "isTrain                           1\n",
       "dtype: int64"
      ]
     },
     "execution_count": 8,
     "metadata": {},
     "output_type": "execute_result"
    }
   ],
   "source": [
    "train.nunique()"
   ]
  },
  {
   "cell_type": "markdown",
   "metadata": {},
   "source": [
    "## 4. Features visualization\n",
    "Here we have a first look at the distributions of the features in our individual data files before combining them for a more detailed analysis. This visualization will be the foundation on which we build our analysis."
   ]
  },
  {
   "cell_type": "markdown",
   "metadata": {},
   "source": [
    "### 4.1 The information of advertising  products"
   ]
  },
  {
   "cell_type": "markdown",
   "metadata": {},
   "source": [
    "### 4.1.1 item_id\n",
    "It seems that view count has no correlation with trade_rate. As shown in Figure2, numbers of most items are less 500. "
   ]
  },
  {
   "cell_type": "code",
   "execution_count": null,
   "metadata": {
    "scrolled": true
   },
   "outputs": [
    {
     "data": {
      "text/plain": [
       "Text(0,0.5,'count')"
      ]
     },
     "execution_count": 9,
     "metadata": {},
     "output_type": "execute_result"
    }
   ],
   "source": [
    "item_data = train[['item_id', 'item_category_list', 'item_property_list', 'item_brand_id', 'item_city_id', \\\n",
    "                  'item_price_level', 'item_sales_level', 'item_collected_level', 'item_pv_level', 'is_trade']]\n",
    "item_count = item_data['item_id'].value_counts()[:50].reset_index()\n",
    "item_count.columns = ['item_id', 'count']\n",
    "\n",
    "top_50_data = item_data.merge(item_count, on=['item_id'])\n",
    "popular = top_50_data.groupby(by=['item_id']).is_trade.agg(['mean']).reset_index()\n",
    "popular.columns = ['item_id', 'trade_rate']\n",
    "merge_count = item_count.merge(popular, on=['item_id'])\n",
    "\n",
    "fig, axes = plt.subplots(2, 1, figsize=(12,8))\n",
    "ax_y = axes[0].twinx()\n",
    "sns.barplot(x = list(range(item_count.shape[0])), y=merge_count['count'], ax=axes[0])\n",
    "sns.pointplot(x = list(range(item_count.shape[0])), y=merge_count['trade_rate'], ax=ax_y)\n",
    "axes[0].set_title('Trade ratess over counts of 50 most popular items')\n",
    "\n",
    "axes[1].scatter(x=list(range(item_data['item_id'].value_counts().shape[0])), \\\n",
    "                y=item_data['item_id'].value_counts().values, s=2)\n",
    "axes[1].set_title('The distribution of item count')\n",
    "axes[1].set_ylabel('count')\n",
    "\n"
   ]
  },
  {
   "cell_type": "markdown",
   "metadata": {},
   "source": [
    "## 4.1.2 item_category_list"
   ]
  },
  {
   "cell_type": "code",
   "execution_count": null,
   "metadata": {},
   "outputs": [],
   "source": [
    "def stack_bar(column, num_categories):\n",
    "    le = LabelEncoder()\n",
    "    item_data[column] = le.fit_transform(item_data[column])\n",
    "    item_data[column] = item_data[column].apply(lambda x: '%s_' %column +str(x))\n",
    "    item_data_subset = item_data[column].value_counts()[:num_categories].reset_index()\n",
    "    item_data_subset.columns = ['%s' % column, '%s_count' % column]\n",
    "\n",
    "    item_data_subset = item_data_subset.merge(item_data, how='inner', on=column)\n",
    "    count_cate1 = item_data_subset[item_data_subset['is_trade']==1][column].value_counts().sort_index()\n",
    "    count_cate0 = item_data_subset[item_data_subset['is_trade']==0][column].value_counts().sort_index()\n",
    "    \n",
    "    \n",
    "    trace1 = go.Bar(\n",
    "        x=count_cate0.index,\n",
    "        y=count_cate0.values,\n",
    "        name='is_trade==0'\n",
    "    )\n",
    "    trace2 = go.Bar(\n",
    "        x=count_cate1.index,\n",
    "        y=count_cate1.values,\n",
    "        name='is_trade==1'\n",
    "    )\n",
    "\n",
    "    data = [trace1, trace2]\n",
    "    layout = go.Layout(\n",
    "        barmode='stack'\n",
    "    )\n",
    "\n",
    "    fig = go.Figure(data=data, layout=layout)\n",
    "    return fig"
   ]
  },
  {
   "cell_type": "code",
   "execution_count": null,
   "metadata": {},
   "outputs": [],
   "source": [
    "item_data['item_category_list']\n",
    "for i in range(3):\n",
    "        item_data['category_%d' % (i)] = item_data['item_category_list'].apply(\n",
    "            lambda x: x.split(\";\")[i] if len(x.split(\";\")) > i else \" \"\n",
    "        )"
   ]
  },
  {
   "cell_type": "code",
   "execution_count": null,
   "metadata": {},
   "outputs": [],
   "source": [
    "fig = plt.figure(figsize=(15, 5))\n",
    "ax1 = fig.add_subplot(1,3,1)\n",
    "item_data['category_0'].value_counts().plot.bar(ax=ax1)\n",
    "ax2 = fig.add_subplot(1,3,2)\n",
    "item_data['category_1'].value_counts().plot.bar(ax=ax2)\n",
    "ax3 = fig.add_subplot(1,3,3)\n",
    "item_data['category_2'].value_counts().plot.bar(ax=ax3)"
   ]
  },
  {
   "cell_type": "code",
   "execution_count": null,
   "metadata": {},
   "outputs": [],
   "source": [
    "le = LabelEncoder()\n",
    "item_data['category_1'] = le.fit_transform(item_data['category_1'])\n",
    "count_cate1 = item_data[item_data['is_trade']==1]['category_1'].value_counts().sort_index()\n",
    "count_cate0 = item_data[item_data['is_trade']==0]['category_1'].value_counts().sort_index()\n",
    "trace1 = go.Bar(\n",
    "    x=count_cate0.index,\n",
    "    y=count_cate0.values,\n",
    "    name='is_trade==0'\n",
    ")\n",
    "trace2 = go.Bar(\n",
    "    x=count_cate1.index,\n",
    "    y=count_cate1.values,\n",
    "    name='is_trade==1'\n",
    ")\n",
    "\n",
    "data = [trace1, trace2]\n",
    "layout = go.Layout(\n",
    "    barmode='stack'\n",
    ")\n",
    "\n",
    "fig = go.Figure(data=data, layout=layout)\n",
    "py.iplot(fig, filename='stacked-bar')"
   ]
  },
  {
   "cell_type": "markdown",
   "metadata": {},
   "source": [
    "### 4.1.3 item_brand_id"
   ]
  },
  {
   "cell_type": "code",
   "execution_count": null,
   "metadata": {},
   "outputs": [],
   "source": [
    "column = 'item_brand_id'\n",
    "fig = stack_bar(column, 15)\n",
    "py.iplot(fig, filename='stacked-%s_bar' % column)"
   ]
  },
  {
   "cell_type": "code",
   "execution_count": null,
   "metadata": {},
   "outputs": [],
   "source": [
    "item_data['item_brand_id'].value_counts()[:50].plot.bar()"
   ]
  },
  {
   "cell_type": "markdown",
   "metadata": {},
   "source": [
    "### 4.1.4 item_city_id"
   ]
  },
  {
   "cell_type": "code",
   "execution_count": null,
   "metadata": {},
   "outputs": [],
   "source": [
    "column = 'item_city_id'\n",
    "fig = stack_bar(column, 50)\n",
    "py.iplot(fig, filename='stacked-%s_bar' % column)"
   ]
  },
  {
   "cell_type": "code",
   "execution_count": null,
   "metadata": {},
   "outputs": [],
   "source": [
    "item_data['item_brand_id'].value_counts()[:50].plot.bar()"
   ]
  },
  {
   "cell_type": "markdown",
   "metadata": {},
   "source": [
    "### 4.1.5 item_price_level"
   ]
  },
  {
   "cell_type": "code",
   "execution_count": null,
   "metadata": {},
   "outputs": [],
   "source": [
    "item_data['item_price_level'].value_counts().plot.bar()"
   ]
  },
  {
   "cell_type": "code",
   "execution_count": null,
   "metadata": {},
   "outputs": [],
   "source": [
    "item_data['item_price_level'].value_counts()"
   ]
  },
  {
   "cell_type": "code",
   "execution_count": null,
   "metadata": {},
   "outputs": [],
   "source": []
  }
 ],
 "metadata": {
  "kernelspec": {
   "display_name": "Python 3",
   "language": "python",
   "name": "python3"
  },
  "language_info": {
   "codemirror_mode": {
    "name": "ipython",
    "version": 3
   },
   "file_extension": ".py",
   "mimetype": "text/x-python",
   "name": "python",
   "nbconvert_exporter": "python",
   "pygments_lexer": "ipython3",
   "version": "3.5.0"
  }
 },
 "nbformat": 4,
 "nbformat_minor": 2
}
