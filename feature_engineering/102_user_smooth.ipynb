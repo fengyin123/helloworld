{
 "cells": [
  {
   "cell_type": "code",
   "execution_count": 1,
   "metadata": {},
   "outputs": [
    {
     "name": "stderr",
     "output_type": "stream",
     "text": [
      "  0%|          | 0/1 [00:00<?, ?it/s]\n",
      "  0%|          | 0/7 [00:00<?, ?it/s]\u001b[A"
     ]
    },
    {
     "name": "stdout",
     "output_type": "stream",
     "text": [
      "25    18371\n",
      "Name: day, dtype: int64\n"
     ]
    },
    {
     "name": "stderr",
     "output_type": "stream",
     "text": [
      "\n",
      " 14%|█▍        | 1/7 [00:02<00:12,  2.06s/it]\u001b[A"
     ]
    },
    {
     "name": "stdout",
     "output_type": "stream",
     "text": [
      "iter_num: 0\n",
      "difference of alpha is -0.9470939844956229\n",
      "difference of beta is 0.7558652840416218\n"
     ]
    },
    {
     "name": "stderr",
     "output_type": "stream",
     "text": [
      "\n",
      " 29%|██▊       | 2/7 [00:05<00:13,  2.68s/it]\u001b[A"
     ]
    },
    {
     "name": "stdout",
     "output_type": "stream",
     "text": [
      "iter_num: 0\n",
      "difference of alpha is -0.9465016796205219\n",
      "difference of beta is 0.7463173670109406\n"
     ]
    },
    {
     "name": "stderr",
     "output_type": "stream",
     "text": [
      "\n",
      " 43%|████▎     | 3/7 [00:09<00:12,  3.24s/it]\u001b[A"
     ]
    },
    {
     "name": "stdout",
     "output_type": "stream",
     "text": [
      "iter_num: 0\n",
      "difference of alpha is -0.9461142659250733\n",
      "difference of beta is 0.7396619576965082\n"
     ]
    },
    {
     "name": "stderr",
     "output_type": "stream",
     "text": [
      "\n",
      " 57%|█████▋    | 4/7 [00:15<00:11,  3.84s/it]\u001b[A"
     ]
    },
    {
     "name": "stdout",
     "output_type": "stream",
     "text": [
      "iter_num: 0\n",
      "difference of alpha is -0.9457918271133738\n",
      "difference of beta is 0.7346978086596907\n"
     ]
    },
    {
     "name": "stderr",
     "output_type": "stream",
     "text": [
      "\n",
      " 71%|███████▏  | 5/7 [00:22<00:08,  4.45s/it]\u001b[A"
     ]
    },
    {
     "name": "stdout",
     "output_type": "stream",
     "text": [
      "iter_num: 0\n",
      "difference of alpha is -0.9456607785564914\n",
      "difference of beta is 0.730362388482604\n"
     ]
    },
    {
     "name": "stderr",
     "output_type": "stream",
     "text": [
      "\n",
      " 86%|████████▌ | 6/7 [00:30<00:05,  5.03s/it]\u001b[A"
     ]
    },
    {
     "name": "stdout",
     "output_type": "stream",
     "text": [
      "iter_num: 0\n",
      "difference of alpha is -0.9460330566432787\n",
      "difference of beta is 0.7262291630197779\n"
     ]
    },
    {
     "name": "stderr",
     "output_type": "stream",
     "text": [
      "\n",
      "100%|██████████| 7/7 [00:39<00:00,  5.60s/it]\u001b[A\n",
      "\u001b[A"
     ]
    },
    {
     "name": "stdout",
     "output_type": "stream",
     "text": [
      "iter_num: 0\n",
      "difference of alpha is -0.9463777760197168\n",
      "difference of beta is 0.7230680742073643\n"
     ]
    },
    {
     "name": "stderr",
     "output_type": "stream",
     "text": [
      "\r",
      "100%|██████████| 1/1 [00:39<00:00, 39.68s/it]"
     ]
    },
    {
     "name": "stdout",
     "output_type": "stream",
     "text": [
      "Index(['instance_id', 'user_id_smooth_rate'], dtype='object')\n",
      "the shape of train (478138, 2)\n",
      "the shape of test (18371, 2)\n"
     ]
    },
    {
     "name": "stderr",
     "output_type": "stream",
     "text": [
      "\n"
     ]
    }
   ],
   "source": [
    "# %load 102_user_smooth.py\n",
    "from utils import BayesianSmoothing, load_pickle, dump_pickle, raw_data_path\n",
    "import gc\n",
    "import numpy as np\n",
    "import pandas as pd\n",
    "from tqdm import tqdm\n",
    "\n",
    "train = load_pickle('../data/train.pkl')\n",
    "test = load_pickle('../data/test.pkl')\n",
    "df = load_pickle('../data/df.pkl')\n",
    "\n",
    "print(test.day.value_counts())\n",
    "# train = pd.concat([train, test])\n",
    "\n",
    "iter_num = 1\n",
    "epsilon = 0.001\n",
    "'''\n",
    "1. 定义需要计算平滑点击率的变量\n",
    "2. 对于每一天，找出在这之前的所有点击行为\n",
    "3. 统计该变量的点击次数和购买次数\n",
    "'''\n",
    "# smooth_cols = ['user_id', 'user_gender_id', 'user_age_level', 'user_occupation_id', 'user_star_level']\n",
    "smooth_cols = ['user_id']\n",
    "\n",
    "smooth_train = train[smooth_cols + ['instance_id', 'day']]\n",
    "smooth_test = test[smooth_cols + ['instance_id','day']]\n",
    "for col in tqdm(smooth_cols):\n",
    "    col_I = '{}_I'.format(col)\n",
    "    col_C = '{}_C'.format(col)\n",
    "    col_smooth_rate = '{}_smooth_rate'.format(col)\n",
    "    train[col_smooth_rate] = -1\n",
    "    smooth_all = pd.DataFrame({'day': train.day, '{}'.format(col): train[col]})\n",
    "    CVR_all = None\n",
    "    for day in tqdm(range(19, 26)):\n",
    "        I = train[train.day<day].groupby(col)['is_trade'].count().reset_index()\n",
    "        I.columns = [col, col_I]\n",
    "        C = train[train.day<day].groupby(col)['is_trade'].sum().reset_index()\n",
    "        C.columns = [col, col_C]\n",
    "        CVR = pd.concat([I, C[col_C]], axis=1)\n",
    "        CVR['day'] = day\n",
    "\n",
    "        smooth = BayesianSmoothing(1, 1)\n",
    "        smooth.update(CVR[col_I].values, CVR[col_C].values, iter_num, epsilon)\n",
    "        alpha = smooth.alpha\n",
    "        beta = smooth.beta\n",
    "        CVR[col_smooth_rate] = (CVR[col_C] + alpha) / (CVR[col_I] + alpha + beta)\n",
    "        CVR_all = pd.concat([CVR_all, CVR], axis=0)\n",
    "        # print(CVR.head())\n",
    "        # smooth_all[col_smooth_rate] = -1\n",
    "        # print((pd.merge(train[train.day == day], CVR[[col, col_smooth_rate]], on=col, how='inner')).columns[-1])\n",
    "        # smooth_all[col_smooth_rate][smooth_all.day == day] = (pd.merge(train[train.day == day], CVR[[col, col_smooth_rate]], on=col, how='left')).iloc[:, -1].values\n",
    "\n",
    "    # smooth_all = pd.concat([smooth_all, smooth_feat], axis=1)\n",
    "    # print(smooth_all.columns)\n",
    "    smooth_train = pd.merge(smooth_train, CVR_all[[col, 'day', col_smooth_rate]], on=[col, 'day'], how='left')\n",
    "    smooth_test = pd.merge(smooth_test, CVR_all[[col, 'day', col_smooth_rate]], on=[col, 'day'], how='left')\n",
    "\n",
    "# smooth_all = pd.concat([smooth_train, smooth_test], axis=1)\n",
    "# smooth_all.drop(smooth_cols + ['day'], axis=1, inplace=True)\n",
    "smooth_train.drop(['day', 'user_id'], axis=1, inplace=True)\n",
    "smooth_test.drop(['day', 'user_id'], axis=1, inplace=True)\n",
    "print(smooth_train.columns)\n",
    "print('the shape of train {}'.format(smooth_train.shape))\n",
    "print('the shape of test {}'.format(smooth_test.shape))\n",
    "dump_pickle(smooth_train, path='../data/train_feature/102_smooth_features.pkl')\n",
    "dump_pickle(smooth_test, path='../data/test_feature/102_smooth_features.pkl')\n",
    "\n",
    "\n",
    "\n",
    "\n",
    "\n",
    "\n"
   ]
  },
  {
   "cell_type": "code",
   "execution_count": null,
   "metadata": {
    "collapsed": true
   },
   "outputs": [],
   "source": [
    "\n",
    "\n"
   ]
  }
 ],
 "metadata": {
  "kernelspec": {
   "display_name": "Python 3",
   "language": "python",
   "name": "python3"
  },
  "language_info": {
   "codemirror_mode": {
    "name": "ipython",
    "version": 3
   },
   "file_extension": ".py",
   "mimetype": "text/x-python",
   "name": "python",
   "nbconvert_exporter": "python",
   "pygments_lexer": "ipython3",
   "version": "3.5.0"
  }
 },
 "nbformat": 4,
 "nbformat_minor": 2
}
