{
 "cells": [
  {
   "cell_type": "code",
   "execution_count": 16,
   "metadata": {},
   "outputs": [
    {
     "name": "stderr",
     "output_type": "stream",
     "text": [
      "\n",
      "  0%|          | 0/8 [00:00<?, ?it/s]\u001b[A\n",
      " 62%|██████▎   | 5/8 [00:00<00:00, 46.92it/s]\u001b[A\n",
      "100%|██████████| 8/8 [00:00<00:00, 47.30it/s]\u001b[A\n",
      "  0%|          | 0/8 [00:00<?, ?it/s]\u001b[A"
     ]
    },
    {
     "name": "stdout",
     "output_type": "stream",
     "text": [
      "train_shape:(478138, 45)\n",
      "test_shape:(18371, 45)\n",
      "[(478138, 11), (478138, 6), (478138, 2), (478138, 7), (478138, 2), (478138, 4), (478138, 11), (478138, 7)]\n"
     ]
    },
    {
     "name": "stderr",
     "output_type": "stream",
     "text": [
      "\n",
      " 88%|████████▊ | 7/8 [00:00<00:00, 67.40it/s]\u001b[A\n",
      "100%|██████████| 8/8 [00:00<00:00, 56.89it/s]\u001b[A\n",
      "  0%|          | 0/8 [00:00<?, ?it/s]\u001b[A\n",
      "100%|██████████| 8/8 [00:00<00:00, 340.08it/s]\u001b[A\n",
      "  0%|          | 0/8 [00:00<?, ?it/s]\u001b[A\n",
      "100%|██████████| 8/8 [00:00<00:00, 436.30it/s]\u001b[A"
     ]
    },
    {
     "name": "stdout",
     "output_type": "stream",
     "text": [
      "[(18371, 11), (18371, 6), (18371, 2), (18371, 7), (18371, 2), (18371, 4), (18371, 11), (18371, 7)]\n",
      "train_feats_shape:(478138, 42)\n",
      "test_feats_shape:(36742, 42)\n",
      "the shape of train (420717, 85)\n",
      "the shape of valid (57421, 85)\n",
      "the shape of test (36742, 85)\n"
     ]
    },
    {
     "name": "stderr",
     "output_type": "stream",
     "text": [
      "\n",
      "  0%|          | 0/1 [00:00<?, ?it/s]\u001b[A\n",
      "100%|██████████| 1/1 [00:00<00:00,  1.59it/s]\u001b[A\n",
      "\u001b[A"
     ]
    }
   ],
   "source": [
    "# %load 501_train_test_split.py\n",
    "from glob import glob\n",
    "from utils import BayesianSmoothing, load_pickle, dump_pickle, raw_data_path\n",
    "import pandas as pd\n",
    "from tqdm import tqdm\n",
    "from sklearn.preprocessing import minmax_scale\n",
    "import numpy as np\n",
    "import gc\n",
    "from sklearn.preprocessing import LabelEncoder\n",
    "\n",
    "def read_pickles(path, col=None):\n",
    "    if col is None:\n",
    "#         print([pd.read_pickle(f).shape for f in tqdm(sorted(glob(path+'/*.pkl')))])\n",
    "#         df = pd.concat([pd.read_pickle(f) for f in tqdm(sorted(glob(path+'/*.pkl')))], axis=1)\n",
    "        f_list = [f for f in tqdm(sorted(glob(path+'/*.pkl')))]\n",
    "        df = None   \n",
    "        for f in f_list:\n",
    "            df = pd.concat([df, pd.read_pickle(f)], axis=1)\n",
    "            print(df.shape)\n",
    "    else:\n",
    "        df = pd.concat([pd.read_pickle(f)[col] for f in tqdm(sorted(glob(path+'/*.pkl')))], axis=1)\n",
    "    return df\n",
    "\n",
    "def data_split():\n",
    "    train = load_pickle('../data/train.pkl')\n",
    "    test = load_pickle('../data/test.pkl')\n",
    "    \n",
    "    print('train_shape:{}'.format(train.shape))\n",
    "    print('test_shape:{}'.format(test.shape))\n",
    "    \n",
    "    train_feats = read_pickles('../data/train_feature')\n",
    "    test_feats = read_pickles('../data/test_feature')\n",
    "    \n",
    "    train_feats.drop('instance_id', axis=1, inplace=True)\n",
    "    test_feats.drop('instance_id', axis=1, inplace=True)\n",
    "    \n",
    "    print('train_feats_shape:{}'.format(train_feats.shape))\n",
    "    print('test_feats_shape:{}'.format(test_feats.shape))\n",
    "    \n",
    "    train = pd.concat([train, train_feats], axis=1)\n",
    "    test = pd.concat([test, test_feats], axis=1)\n",
    "#     print(np.intersect1d(train.columns, train_feats.columns))\n",
    "#     train_feats = train_feats[list(train_feats.columns[~train_feats.columns.duplicated()])]\n",
    "#     test_feats = test_feats[list(test_feats.columns[~test_feats.columns.duplicated()])]\n",
    "#     train = train.merge(train_feats, on='instance_id', how='left')\n",
    "#     test = test.merge(test_feats, on='instance_id', how='left')\n",
    "    \n",
    "    del train_feats; gc.collect()\n",
    "    del test_feats; gc.collect()\n",
    "    \n",
    "    drop_columns = ['time', 'realtime']\n",
    "    train.drop(drop_columns, axis=1, inplace=True)\n",
    "    test.drop(drop_columns, axis=1, inplace=True)\n",
    "\n",
    "    train_df = train[train.day<24].copy()\n",
    "    #train_df = handle_imbalance(train_df)\n",
    "    valid_df = train[train.day==24].copy()\n",
    "    test_df = test\n",
    "    \n",
    "    train_df.fillna(-1, inplace=True)\n",
    "    valid_df.fillna(-1, inplace=True)\n",
    "    test_df.fillna(-1, inplace=True)\n",
    "    \n",
    "\n",
    "    print('the shape of train {}'.format(train_df.shape))\n",
    "    print('the shape of valid {}'.format(valid_df.shape))\n",
    "    print('the shape of test {}'.format(test_df.shape))\n",
    "    \n",
    "    dump_pickle(train_df, path='../data/train_final.pkl')\n",
    "    dump_pickle(valid_df, path='../data/valid_final.pkl')\n",
    "    dump_pickle(test_df, path='../data/test_final.pkl')\n",
    "    del train_df; gc.collect()\n",
    "    del valid_df; gc.collect()\n",
    "    del test_df; gc.collect()\n",
    "\n",
    "def data_onehot():\n",
    "\n",
    "    train_data = load_pickle(path='../data/train_final.pkl')\n",
    "    cv_data = load_pickle(path='../data/valid_final.pkl')\n",
    "    test_data = load_pickle(path='../data/test_final.pkl')\n",
    "\n",
    "#     cols = ['user_gender_id', 'user_age_level', 'user_occupation_id'\n",
    "#         , 'item_city_id', 'item_price_level', 'time_discrete'\n",
    "#         , 'context_page_id', 'shop_review_num_level']\n",
    "    cols = ['time_discrete']\n",
    "\n",
    "    data = pd.concat([train_data, cv_data, test_data], axis=0)\n",
    "\n",
    "    for col in tqdm(cols):\n",
    "        col_feature = pd.get_dummies(data[col], prefix=col)\n",
    "        data.drop([col], axis=1, inplace=True)\n",
    "        data = pd.concat([data, col_feature], axis=1)\n",
    "\n",
    "#     X = minmax_scale(data.values)\n",
    "#     data = pd.DataFrame(data=X, columns=data.columns)\n",
    "    \n",
    "    \n",
    "    train_data = data.loc[train_data.index]\n",
    "    cv_data = data.loc[cv_data.index]\n",
    "    test_data = data.loc[test_data.index]\n",
    "\n",
    "    train_data.reset_index(inplace=True, drop=True)\n",
    "    cv_data.reset_index(inplace=True, drop=True)\n",
    "    test_data.reset_index(inplace=True, drop=True)\n",
    "\n",
    "    dump_pickle(train_data, path='../data/train_final_onehot.pkl')\n",
    "    dump_pickle(cv_data, path='../data/valid_final_onehot.pkl')\n",
    "    dump_pickle(test_data, path='../data/test_final_onehot.pkl')\n",
    "\n",
    "\n",
    "data_split()\n",
    "data_onehot()\n",
    "\n",
    "\n"
   ]
  },
  {
   "cell_type": "code",
   "execution_count": 2,
   "metadata": {},
   "outputs": [
    {
     "ename": "NameError",
     "evalue": "name 'train_feats' is not defined",
     "output_type": "error",
     "traceback": [
      "\u001b[0;31m---------------------------------------------------------------------------\u001b[0m",
      "\u001b[0;31mNameError\u001b[0m                                 Traceback (most recent call last)",
      "\u001b[0;32m<ipython-input-2-ba5cc481a9ba>\u001b[0m in \u001b[0;36m<module>\u001b[0;34m()\u001b[0m\n\u001b[0;32m----> 1\u001b[0;31m \u001b[0mtrain_feats\u001b[0m\u001b[0;34m.\u001b[0m\u001b[0mshape\u001b[0m\u001b[0;34m\u001b[0m\u001b[0m\n\u001b[0m",
      "\u001b[0;31mNameError\u001b[0m: name 'train_feats' is not defined"
     ]
    }
   ],
   "source": [
    "train_feats.shape"
   ]
  },
  {
   "cell_type": "code",
   "execution_count": null,
   "metadata": {
    "collapsed": true
   },
   "outputs": [],
   "source": []
  }
 ],
 "metadata": {
  "kernelspec": {
   "display_name": "Python 3",
   "language": "python",
   "name": "python3"
  },
  "language_info": {
   "codemirror_mode": {
    "name": "ipython",
    "version": 3
   },
   "file_extension": ".py",
   "mimetype": "text/x-python",
   "name": "python",
   "nbconvert_exporter": "python",
   "pygments_lexer": "ipython3",
   "version": "3.6.2"
  }
 },
 "nbformat": 4,
 "nbformat_minor": 2
}
